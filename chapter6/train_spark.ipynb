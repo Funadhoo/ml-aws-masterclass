{
 "cells": [
  {
   "cell_type": "code",
   "execution_count": 1,
   "metadata": {},
   "outputs": [],
   "source": [
    "# download the sigir17 data from https://sites.google.com/site/limkwanhui/datacode\n",
    "# curl 'https://doc-00-b8-docs.googleusercontent.com/docs/securesc/ha0ro937gcuc7l7deffksulhg5h7mbp1/jbv2cduus8cnmhdbt7drradcako8r0ft/1550836800000/15465375115408245011/*/1TXw_HoUiyMLylcZY3VB5vsZG9jG0W1Je' > ~/SageMaker/mastering-ml-on-aws/chapter6/data-sigir17.zip\n",
    "# cd /SageMaker/mastering-ml-on-aws/chapter6/\n",
    "# unzip data-sigir17.zip\n",
    "# remove README files from all dirs"
   ]
  },
  {
   "cell_type": "code",
   "execution_count": 2,
   "metadata": {},
   "outputs": [],
   "source": [
    "from os.path import expanduser\n",
    "\n",
    "SRC_PATH = expanduser(\"~\") + '/SageMaker/mastering-ml-on-aws/chapter6/'\n"
   ]
  },
  {
   "cell_type": "code",
   "execution_count": 3,
   "metadata": {},
   "outputs": [],
   "source": [
    "from pyspark.context import SparkContext\n",
    "\n",
    "sc = SparkContext('local', 'test')\n"
   ]
  },
  {
   "cell_type": "code",
   "execution_count": 4,
   "metadata": {},
   "outputs": [],
   "source": [
    "from pyspark.sql import SQLContext\n",
    "\n",
    "spark = SQLContext(sc)"
   ]
  },
  {
   "cell_type": "code",
   "execution_count": 5,
   "metadata": {},
   "outputs": [],
   "source": [
    "poi_df = spark.read.csv(SRC_PATH + 'data-sigir17/poiList-sigir17', header=True, inferSchema=True, sep=';')"
   ]
  },
  {
   "cell_type": "code",
   "execution_count": 6,
   "metadata": {},
   "outputs": [
    {
     "data": {
      "text/html": [
       "<div>\n",
       "<style scoped>\n",
       "    .dataframe tbody tr th:only-of-type {\n",
       "        vertical-align: middle;\n",
       "    }\n",
       "\n",
       "    .dataframe tbody tr th {\n",
       "        vertical-align: top;\n",
       "    }\n",
       "\n",
       "    .dataframe thead th {\n",
       "        text-align: right;\n",
       "    }\n",
       "</style>\n",
       "<table border=\"1\" class=\"dataframe\">\n",
       "  <thead>\n",
       "    <tr style=\"text-align: right;\">\n",
       "      <th></th>\n",
       "      <th>poiID</th>\n",
       "      <th>poiName</th>\n",
       "      <th>lat</th>\n",
       "      <th>long</th>\n",
       "      <th>rideDuration</th>\n",
       "      <th>theme</th>\n",
       "      <th>theme2</th>\n",
       "      <th>theme3</th>\n",
       "      <th>theme4</th>\n",
       "    </tr>\n",
       "  </thead>\n",
       "  <tbody>\n",
       "    <tr>\n",
       "      <th>0</th>\n",
       "      <td>1</td>\n",
       "      <td>Gadget's Go Coaster</td>\n",
       "      <td>33.810259</td>\n",
       "      <td>-117.918438</td>\n",
       "      <td>1.00</td>\n",
       "      <td>Kiddie</td>\n",
       "      <td>Roller Coaster</td>\n",
       "      <td>None</td>\n",
       "      <td>None</td>\n",
       "    </tr>\n",
       "    <tr>\n",
       "      <th>1</th>\n",
       "      <td>2</td>\n",
       "      <td>Astro Orbitor</td>\n",
       "      <td>28.418532</td>\n",
       "      <td>-81.579153</td>\n",
       "      <td>1.50</td>\n",
       "      <td>Spinning Ride</td>\n",
       "      <td>None</td>\n",
       "      <td>None</td>\n",
       "      <td>None</td>\n",
       "    </tr>\n",
       "    <tr>\n",
       "      <th>2</th>\n",
       "      <td>3</td>\n",
       "      <td>Mad Tea Party</td>\n",
       "      <td>33.813458</td>\n",
       "      <td>-117.918289</td>\n",
       "      <td>1.50</td>\n",
       "      <td>Family</td>\n",
       "      <td>Spinning Ride</td>\n",
       "      <td>None</td>\n",
       "      <td>None</td>\n",
       "    </tr>\n",
       "    <tr>\n",
       "      <th>3</th>\n",
       "      <td>4</td>\n",
       "      <td>Dumbo the Flying Elephant</td>\n",
       "      <td>33.813680</td>\n",
       "      <td>-117.918928</td>\n",
       "      <td>1.67</td>\n",
       "      <td>Family</td>\n",
       "      <td>Spinning Ride</td>\n",
       "      <td>None</td>\n",
       "      <td>None</td>\n",
       "    </tr>\n",
       "  </tbody>\n",
       "</table>\n",
       "</div>"
      ],
      "text/plain": [
       "   poiID                    poiName        lat        long  rideDuration  \\\n",
       "0      1        Gadget's Go Coaster  33.810259 -117.918438          1.00   \n",
       "1      2              Astro Orbitor  28.418532  -81.579153          1.50   \n",
       "2      3              Mad Tea Party  33.813458 -117.918289          1.50   \n",
       "3      4  Dumbo the Flying Elephant  33.813680 -117.918928          1.67   \n",
       "\n",
       "           theme          theme2 theme3 theme4  \n",
       "0         Kiddie  Roller Coaster   None   None  \n",
       "1  Spinning Ride            None   None   None  \n",
       "2         Family   Spinning Ride   None   None  \n",
       "3         Family   Spinning Ride   None   None  "
      ]
     },
     "execution_count": 6,
     "metadata": {},
     "output_type": "execute_result"
    }
   ],
   "source": [
    "poi_df.limit(4).toPandas().head()"
   ]
  },
  {
   "cell_type": "code",
   "execution_count": 7,
   "metadata": {},
   "outputs": [],
   "source": [
    "visits_df = spark.read.csv(SRC_PATH + 'data-sigir17/userVisits-sigir17', header=True, inferSchema=True, sep=';')\n"
   ]
  },
  {
   "cell_type": "code",
   "execution_count": 8,
   "metadata": {},
   "outputs": [],
   "source": [
    "sample_df = visits_df.limit(1000).toPandas()"
   ]
  },
  {
   "cell_type": "code",
   "execution_count": 9,
   "metadata": {},
   "outputs": [
    {
     "data": {
      "text/html": [
       "<div>\n",
       "<style scoped>\n",
       "    .dataframe tbody tr th:only-of-type {\n",
       "        vertical-align: middle;\n",
       "    }\n",
       "\n",
       "    .dataframe tbody tr th {\n",
       "        vertical-align: top;\n",
       "    }\n",
       "\n",
       "    .dataframe thead th {\n",
       "        text-align: right;\n",
       "    }\n",
       "</style>\n",
       "<table border=\"1\" class=\"dataframe\">\n",
       "  <thead>\n",
       "    <tr style=\"text-align: right;\">\n",
       "      <th></th>\n",
       "      <th>id</th>\n",
       "      <th>nsid</th>\n",
       "      <th>takenUnix</th>\n",
       "      <th>poiID</th>\n",
       "      <th>poiTheme</th>\n",
       "      <th>poiFreq</th>\n",
       "      <th>rideDuration</th>\n",
       "      <th>seqID</th>\n",
       "    </tr>\n",
       "  </thead>\n",
       "  <tbody>\n",
       "    <tr>\n",
       "      <th>0</th>\n",
       "      <td>5858403310</td>\n",
       "      <td>10004778@N07</td>\n",
       "      <td>1308262550</td>\n",
       "      <td>6</td>\n",
       "      <td>Ride</td>\n",
       "      <td>1665</td>\n",
       "      <td>120.0</td>\n",
       "      <td>1</td>\n",
       "    </tr>\n",
       "    <tr>\n",
       "      <th>1</th>\n",
       "      <td>5857850631</td>\n",
       "      <td>10004778@N07</td>\n",
       "      <td>1308270702</td>\n",
       "      <td>26</td>\n",
       "      <td>Family</td>\n",
       "      <td>18710</td>\n",
       "      <td>900.0</td>\n",
       "      <td>1</td>\n",
       "    </tr>\n",
       "    <tr>\n",
       "      <th>2</th>\n",
       "      <td>5858399220</td>\n",
       "      <td>10004778@N07</td>\n",
       "      <td>1308631356</td>\n",
       "      <td>6</td>\n",
       "      <td>Ride</td>\n",
       "      <td>1665</td>\n",
       "      <td>120.0</td>\n",
       "      <td>2</td>\n",
       "    </tr>\n",
       "    <tr>\n",
       "      <th>3</th>\n",
       "      <td>8277294024</td>\n",
       "      <td>10004778@N07</td>\n",
       "      <td>1355568624</td>\n",
       "      <td>26</td>\n",
       "      <td>Family</td>\n",
       "      <td>18710</td>\n",
       "      <td>900.0</td>\n",
       "      <td>3</td>\n",
       "    </tr>\n",
       "    <tr>\n",
       "      <th>4</th>\n",
       "      <td>9219062165</td>\n",
       "      <td>10004778@N07</td>\n",
       "      <td>1373030964</td>\n",
       "      <td>29</td>\n",
       "      <td>Water</td>\n",
       "      <td>10427</td>\n",
       "      <td>900.0</td>\n",
       "      <td>4</td>\n",
       "    </tr>\n",
       "  </tbody>\n",
       "</table>\n",
       "</div>"
      ],
      "text/plain": [
       "           id          nsid   takenUnix  poiID poiTheme  poiFreq  \\\n",
       "0  5858403310  10004778@N07  1308262550      6     Ride     1665   \n",
       "1  5857850631  10004778@N07  1308270702     26   Family    18710   \n",
       "2  5858399220  10004778@N07  1308631356      6     Ride     1665   \n",
       "3  8277294024  10004778@N07  1355568624     26   Family    18710   \n",
       "4  9219062165  10004778@N07  1373030964     29    Water    10427   \n",
       "\n",
       "   rideDuration  seqID  \n",
       "0         120.0      1  \n",
       "1         900.0      1  \n",
       "2         120.0      2  \n",
       "3         900.0      3  \n",
       "4         900.0      4  "
      ]
     },
     "execution_count": 9,
     "metadata": {},
     "output_type": "execute_result"
    }
   ],
   "source": [
    "sample_df.head()"
   ]
  },
  {
   "cell_type": "code",
   "execution_count": 10,
   "metadata": {},
   "outputs": [
    {
     "data": {
      "text/html": [
       "<div>\n",
       "<style scoped>\n",
       "    .dataframe tbody tr th:only-of-type {\n",
       "        vertical-align: middle;\n",
       "    }\n",
       "\n",
       "    .dataframe tbody tr th {\n",
       "        vertical-align: top;\n",
       "    }\n",
       "\n",
       "    .dataframe thead th {\n",
       "        text-align: right;\n",
       "    }\n",
       "</style>\n",
       "<table border=\"1\" class=\"dataframe\">\n",
       "  <thead>\n",
       "    <tr style=\"text-align: right;\">\n",
       "      <th></th>\n",
       "      <th>summary</th>\n",
       "      <th>id</th>\n",
       "      <th>nsid</th>\n",
       "      <th>takenUnix</th>\n",
       "      <th>poiID</th>\n",
       "      <th>poiTheme</th>\n",
       "      <th>poiFreq</th>\n",
       "      <th>rideDuration</th>\n",
       "      <th>seqID</th>\n",
       "    </tr>\n",
       "  </thead>\n",
       "  <tbody>\n",
       "    <tr>\n",
       "      <th>0</th>\n",
       "      <td>count</td>\n",
       "      <td>332091</td>\n",
       "      <td>332091</td>\n",
       "      <td>332091</td>\n",
       "      <td>332091</td>\n",
       "      <td>332091</td>\n",
       "      <td>332091</td>\n",
       "      <td>332091</td>\n",
       "      <td>332091</td>\n",
       "    </tr>\n",
       "    <tr>\n",
       "      <th>1</th>\n",
       "      <td>mean</td>\n",
       "      <td>8.916292302139416E9</td>\n",
       "      <td>None</td>\n",
       "      <td>1.3233824075555675E9</td>\n",
       "      <td>15.975127299445031</td>\n",
       "      <td>None</td>\n",
       "      <td>6181.338365086678</td>\n",
       "      <td>740.7857015095311</td>\n",
       "      <td>4288.19415762547</td>\n",
       "    </tr>\n",
       "    <tr>\n",
       "      <th>2</th>\n",
       "      <td>stddev</td>\n",
       "      <td>6.226917245549271E9</td>\n",
       "      <td>None</td>\n",
       "      <td>7.424485813151878E7</td>\n",
       "      <td>8.695388902420351</td>\n",
       "      <td>None</td>\n",
       "      <td>5199.41535123871</td>\n",
       "      <td>488.5329445328169</td>\n",
       "      <td>3093.323953206581</td>\n",
       "    </tr>\n",
       "    <tr>\n",
       "      <th>3</th>\n",
       "      <td>min</td>\n",
       "      <td>102530213</td>\n",
       "      <td>10000151@N02</td>\n",
       "      <td>1187918299</td>\n",
       "      <td>1</td>\n",
       "      <td>Dark</td>\n",
       "      <td>162</td>\n",
       "      <td>60.0</td>\n",
       "      <td>1</td>\n",
       "    </tr>\n",
       "    <tr>\n",
       "      <th>4</th>\n",
       "      <td>max</td>\n",
       "      <td>29475731115</td>\n",
       "      <td>99987318@N03</td>\n",
       "      <td>1471870895</td>\n",
       "      <td>31</td>\n",
       "      <td>Water</td>\n",
       "      <td>18710</td>\n",
       "      <td>2700.0</td>\n",
       "      <td>11758</td>\n",
       "    </tr>\n",
       "  </tbody>\n",
       "</table>\n",
       "</div>"
      ],
      "text/plain": [
       "  summary                   id          nsid             takenUnix  \\\n",
       "0   count               332091        332091                332091   \n",
       "1    mean  8.916292302139416E9          None  1.3233824075555675E9   \n",
       "2  stddev  6.226917245549271E9          None   7.424485813151878E7   \n",
       "3     min            102530213  10000151@N02            1187918299   \n",
       "4     max          29475731115  99987318@N03            1471870895   \n",
       "\n",
       "                poiID poiTheme            poiFreq       rideDuration  \\\n",
       "0              332091   332091             332091             332091   \n",
       "1  15.975127299445031     None  6181.338365086678  740.7857015095311   \n",
       "2   8.695388902420351     None   5199.41535123871  488.5329445328169   \n",
       "3                   1     Dark                162               60.0   \n",
       "4                  31    Water              18710             2700.0   \n",
       "\n",
       "               seqID  \n",
       "0             332091  \n",
       "1   4288.19415762547  \n",
       "2  3093.323953206581  \n",
       "3                  1  \n",
       "4              11758  "
      ]
     },
     "execution_count": 10,
     "metadata": {},
     "output_type": "execute_result"
    }
   ],
   "source": [
    "visits_df.describe().toPandas()"
   ]
  },
  {
   "cell_type": "code",
   "execution_count": 11,
   "metadata": {},
   "outputs": [
    {
     "data": {
      "text/html": [
       "<div>\n",
       "<style scoped>\n",
       "    .dataframe tbody tr th:only-of-type {\n",
       "        vertical-align: middle;\n",
       "    }\n",
       "\n",
       "    .dataframe tbody tr th {\n",
       "        vertical-align: top;\n",
       "    }\n",
       "\n",
       "    .dataframe thead th {\n",
       "        text-align: right;\n",
       "    }\n",
       "</style>\n",
       "<table border=\"1\" class=\"dataframe\">\n",
       "  <thead>\n",
       "    <tr style=\"text-align: right;\">\n",
       "      <th></th>\n",
       "      <th>id</th>\n",
       "      <th>takenUnix</th>\n",
       "      <th>poiID</th>\n",
       "      <th>poiFreq</th>\n",
       "      <th>rideDuration</th>\n",
       "      <th>seqID</th>\n",
       "    </tr>\n",
       "  </thead>\n",
       "  <tbody>\n",
       "    <tr>\n",
       "      <th>count</th>\n",
       "      <td>1.000000e+03</td>\n",
       "      <td>1.000000e+03</td>\n",
       "      <td>1000.000000</td>\n",
       "      <td>1000.000000</td>\n",
       "      <td>1000.000000</td>\n",
       "      <td>1000.000000</td>\n",
       "    </tr>\n",
       "    <tr>\n",
       "      <th>mean</th>\n",
       "      <td>8.448781e+09</td>\n",
       "      <td>1.328379e+09</td>\n",
       "      <td>20.785000</td>\n",
       "      <td>7764.625000</td>\n",
       "      <td>625.260600</td>\n",
       "      <td>50.349000</td>\n",
       "    </tr>\n",
       "    <tr>\n",
       "      <th>std</th>\n",
       "      <td>4.805738e+09</td>\n",
       "      <td>6.346368e+07</td>\n",
       "      <td>8.138243</td>\n",
       "      <td>6233.964628</td>\n",
       "      <td>324.947216</td>\n",
       "      <td>20.027838</td>\n",
       "    </tr>\n",
       "    <tr>\n",
       "      <th>min</th>\n",
       "      <td>1.643421e+09</td>\n",
       "      <td>1.191397e+09</td>\n",
       "      <td>1.000000</td>\n",
       "      <td>580.000000</td>\n",
       "      <td>60.000000</td>\n",
       "      <td>1.000000</td>\n",
       "    </tr>\n",
       "    <tr>\n",
       "      <th>25%</th>\n",
       "      <td>6.075781e+09</td>\n",
       "      <td>1.308877e+09</td>\n",
       "      <td>15.000000</td>\n",
       "      <td>2757.000000</td>\n",
       "      <td>270.000000</td>\n",
       "      <td>33.000000</td>\n",
       "    </tr>\n",
       "    <tr>\n",
       "      <th>50%</th>\n",
       "      <td>6.222417e+09</td>\n",
       "      <td>1.310770e+09</td>\n",
       "      <td>23.000000</td>\n",
       "      <td>4082.000000</td>\n",
       "      <td>600.000000</td>\n",
       "      <td>56.000000</td>\n",
       "    </tr>\n",
       "    <tr>\n",
       "      <th>75%</th>\n",
       "      <td>1.151750e+10</td>\n",
       "      <td>1.376198e+09</td>\n",
       "      <td>28.000000</td>\n",
       "      <td>16366.000000</td>\n",
       "      <td>900.000000</td>\n",
       "      <td>69.000000</td>\n",
       "    </tr>\n",
       "    <tr>\n",
       "      <th>max</th>\n",
       "      <td>2.777601e+10</td>\n",
       "      <td>1.466605e+09</td>\n",
       "      <td>31.000000</td>\n",
       "      <td>18710.000000</td>\n",
       "      <td>1500.000000</td>\n",
       "      <td>73.000000</td>\n",
       "    </tr>\n",
       "  </tbody>\n",
       "</table>\n",
       "</div>"
      ],
      "text/plain": [
       "                 id     takenUnix        poiID       poiFreq  rideDuration  \\\n",
       "count  1.000000e+03  1.000000e+03  1000.000000   1000.000000   1000.000000   \n",
       "mean   8.448781e+09  1.328379e+09    20.785000   7764.625000    625.260600   \n",
       "std    4.805738e+09  6.346368e+07     8.138243   6233.964628    324.947216   \n",
       "min    1.643421e+09  1.191397e+09     1.000000    580.000000     60.000000   \n",
       "25%    6.075781e+09  1.308877e+09    15.000000   2757.000000    270.000000   \n",
       "50%    6.222417e+09  1.310770e+09    23.000000   4082.000000    600.000000   \n",
       "75%    1.151750e+10  1.376198e+09    28.000000  16366.000000    900.000000   \n",
       "max    2.777601e+10  1.466605e+09    31.000000  18710.000000   1500.000000   \n",
       "\n",
       "             seqID  \n",
       "count  1000.000000  \n",
       "mean     50.349000  \n",
       "std      20.027838  \n",
       "min       1.000000  \n",
       "25%      33.000000  \n",
       "50%      56.000000  \n",
       "75%      69.000000  \n",
       "max      73.000000  "
      ]
     },
     "execution_count": 11,
     "metadata": {},
     "output_type": "execute_result"
    }
   ],
   "source": [
    "sample_df.describe()"
   ]
  },
  {
   "cell_type": "code",
   "execution_count": 12,
   "metadata": {},
   "outputs": [
    {
     "data": {
      "text/plain": [
       "count             1000\n",
       "unique              36\n",
       "top       10182842@N08\n",
       "freq               365\n",
       "Name: nsid, dtype: object"
      ]
     },
     "execution_count": 12,
     "metadata": {},
     "output_type": "execute_result"
    }
   ],
   "source": [
    "sample_df.nsid.describe()"
   ]
  },
  {
   "cell_type": "code",
   "execution_count": 13,
   "metadata": {},
   "outputs": [],
   "source": [
    "visits_df.createOrReplaceTempView('visits')"
   ]
  },
  {
   "cell_type": "code",
   "execution_count": 14,
   "metadata": {},
   "outputs": [],
   "source": [
    "poi_df.createOrReplaceTempView('points')"
   ]
  },
  {
   "cell_type": "code",
   "execution_count": 15,
   "metadata": {},
   "outputs": [
    {
     "data": {
      "text/plain": [
       "31"
      ]
     },
     "execution_count": 15,
     "metadata": {},
     "output_type": "execute_result"
    }
   ],
   "source": [
    "spark.sql('select distinct poiID from visits').count()"
   ]
  },
  {
   "cell_type": "code",
   "execution_count": 16,
   "metadata": {},
   "outputs": [
    {
     "name": "stdout",
     "output_type": "stream",
     "text": [
      "+-------+------------+-----------------+\n",
      "|summary|        nsid|              cnt|\n",
      "+-------+------------+-----------------+\n",
      "|  count|        8903|             8903|\n",
      "|   mean|        null| 4.86027181848815|\n",
      "| stddev|        null|5.965584836576787|\n",
      "|    min|10000151@N02|                1|\n",
      "|    max|99987318@N03|               31|\n",
      "+-------+------------+-----------------+\n",
      "\n"
     ]
    }
   ],
   "source": [
    "spark.sql('select nsid,count(distinct poiID) as cnt from visits group by nsid').describe().show()"
   ]
  },
  {
   "cell_type": "code",
   "execution_count": 17,
   "metadata": {},
   "outputs": [
    {
     "name": "stdout",
     "output_type": "stream",
     "text": [
      "+-------+------------+------------------+-----------------+\n",
      "|summary|        nsid|             poiID|         count(1)|\n",
      "+-------+------------+------------------+-----------------+\n",
      "|  count|       43271|             43271|            43271|\n",
      "|   mean|        null|14.920061935245315|7.674678190936193|\n",
      "| stddev|        null| 8.437883931275111|52.93100615991835|\n",
      "|    min|10000151@N02|                 1|                1|\n",
      "|    max|99987318@N03|                31|             4128|\n",
      "+-------+------------+------------------+-----------------+\n",
      "\n"
     ]
    }
   ],
   "source": [
    "spark.sql('select nsid,poiID,count(*) from visits group by nsid,poiID').describe().show()"
   ]
  },
  {
   "cell_type": "code",
   "execution_count": 28,
   "metadata": {},
   "outputs": [],
   "source": [
    "train_df = spark.sql('select hash(nsid) as user_hash_id, poiID, count(*) as pictures_taken from visits group by 1,2')"
   ]
  },
  {
   "cell_type": "code",
   "execution_count": 21,
   "metadata": {},
   "outputs": [
    {
     "data": {
      "text/plain": [
       "43271"
      ]
     },
     "execution_count": 21,
     "metadata": {},
     "output_type": "execute_result"
    }
   ],
   "source": [
    "train_df.count()"
   ]
  },
  {
   "cell_type": "code",
   "execution_count": 51,
   "metadata": {},
   "outputs": [
    {
     "data": {
      "text/html": [
       "<div>\n",
       "<style scoped>\n",
       "    .dataframe tbody tr th:only-of-type {\n",
       "        vertical-align: middle;\n",
       "    }\n",
       "\n",
       "    .dataframe tbody tr th {\n",
       "        vertical-align: top;\n",
       "    }\n",
       "\n",
       "    .dataframe thead th {\n",
       "        text-align: right;\n",
       "    }\n",
       "</style>\n",
       "<table border=\"1\" class=\"dataframe\">\n",
       "  <thead>\n",
       "    <tr style=\"text-align: right;\">\n",
       "      <th></th>\n",
       "      <th>user_hash_id</th>\n",
       "      <th>poiID</th>\n",
       "      <th>pictures_taken</th>\n",
       "    </tr>\n",
       "  </thead>\n",
       "  <tbody>\n",
       "    <tr>\n",
       "      <th>0</th>\n",
       "      <td>-1861435726</td>\n",
       "      <td>19</td>\n",
       "      <td>7</td>\n",
       "    </tr>\n",
       "    <tr>\n",
       "      <th>1</th>\n",
       "      <td>-1064654977</td>\n",
       "      <td>26</td>\n",
       "      <td>8</td>\n",
       "    </tr>\n",
       "    <tr>\n",
       "      <th>2</th>\n",
       "      <td>-636721096</td>\n",
       "      <td>17</td>\n",
       "      <td>1</td>\n",
       "    </tr>\n",
       "  </tbody>\n",
       "</table>\n",
       "</div>"
      ],
      "text/plain": [
       "   user_hash_id  poiID  pictures_taken\n",
       "0   -1861435726     19               7\n",
       "1   -1064654977     26               8\n",
       "2    -636721096     17               1"
      ]
     },
     "execution_count": 51,
     "metadata": {},
     "output_type": "execute_result"
    }
   ],
   "source": [
    "train_df.limit(3).toPandas()"
   ]
  },
  {
   "cell_type": "code",
   "execution_count": 29,
   "metadata": {},
   "outputs": [],
   "source": [
    "from pyspark.ml.recommendation import ALS\n",
    "\n",
    "recommender = ALS(userCol=\"user_hash_id\", itemCol=\"poiID\", ratingCol=\"pictures_taken\", coldStartStrategy=\"drop\")\n",
    "\n",
    "model = recommender.fit(train_df)"
   ]
  },
  {
   "cell_type": "code",
   "execution_count": 30,
   "metadata": {},
   "outputs": [],
   "source": [
    "recommendations = model.recommendForAllUsers(10)"
   ]
  },
  {
   "cell_type": "code",
   "execution_count": 31,
   "metadata": {},
   "outputs": [
    {
     "data": {
      "text/html": [
       "<div>\n",
       "<style scoped>\n",
       "    .dataframe tbody tr th:only-of-type {\n",
       "        vertical-align: middle;\n",
       "    }\n",
       "\n",
       "    .dataframe tbody tr th {\n",
       "        vertical-align: top;\n",
       "    }\n",
       "\n",
       "    .dataframe thead th {\n",
       "        text-align: right;\n",
       "    }\n",
       "</style>\n",
       "<table border=\"1\" class=\"dataframe\">\n",
       "  <thead>\n",
       "    <tr style=\"text-align: right;\">\n",
       "      <th></th>\n",
       "      <th>user_hash_id</th>\n",
       "      <th>recommendations</th>\n",
       "    </tr>\n",
       "  </thead>\n",
       "  <tbody>\n",
       "    <tr>\n",
       "      <th>0</th>\n",
       "      <td>413285690</td>\n",
       "      <td>[(25, 39.260990142822266), (18, 34.83002853393...</td>\n",
       "    </tr>\n",
       "    <tr>\n",
       "      <th>1</th>\n",
       "      <td>1005782960</td>\n",
       "      <td>[(29, 6.377601146697998), (25, 6.2345833778381...</td>\n",
       "    </tr>\n",
       "    <tr>\n",
       "      <th>2</th>\n",
       "      <td>1410121870</td>\n",
       "      <td>[(25, 12.15351390838623), (29, 11.446855545043...</td>\n",
       "    </tr>\n",
       "  </tbody>\n",
       "</table>\n",
       "</div>"
      ],
      "text/plain": [
       "   user_hash_id                                    recommendations\n",
       "0     413285690  [(25, 39.260990142822266), (18, 34.83002853393...\n",
       "1    1005782960  [(29, 6.377601146697998), (25, 6.2345833778381...\n",
       "2    1410121870  [(25, 12.15351390838623), (29, 11.446855545043..."
      ]
     },
     "execution_count": 31,
     "metadata": {},
     "output_type": "execute_result"
    }
   ],
   "source": [
    "recommendations.limit(3).toPandas()"
   ]
  },
  {
   "cell_type": "code",
   "execution_count": 71,
   "metadata": {},
   "outputs": [],
   "source": [
    "recommendations.createOrReplaceTempView('recommendations')"
   ]
  },
  {
   "cell_type": "code",
   "execution_count": 39,
   "metadata": {},
   "outputs": [],
   "source": [
    "row_list = spark.sql('select distinct p.poiName, p.poiID from visits v join points p on (p.poiID=v.poiID) ').collect()"
   ]
  },
  {
   "cell_type": "code",
   "execution_count": 40,
   "metadata": {},
   "outputs": [],
   "source": [
    "id_to_poi_name =  dict(map(lambda x: (x.poiID, x.poiName), row_list))"
   ]
  },
  {
   "cell_type": "code",
   "execution_count": 42,
   "metadata": {},
   "outputs": [
    {
     "data": {
      "text/plain": [
       "{1: 'Test Track',\n",
       " 10: 'Golden Zephyr',\n",
       " 19: \"Tarzan's Treehouse\",\n",
       " 22: 'Country Bear Jamboree',\n",
       " 9: \"Pinocchio's Daring Journey\",\n",
       " 21: 'Red Car Trolley & News Boys',\n",
       " 13: 'Haunted Mansion',\n",
       " 26: 'Sleeping Beauty Castle Walkthrough',\n",
       " 8: 'The Great Movie Ride',\n",
       " 12: \"It's A Small World\",\n",
       " 20: 'Splash Mountain',\n",
       " 29: 'Pirates of the Caribbean',\n",
       " 16: 'Buzz Lightyear Astro Blasters',\n",
       " 25: \"It's A Small World\",\n",
       " 14: 'The Many Adventures of Winnie the Pooh',\n",
       " 11: \"California Screamin'\",\n",
       " 15: 'The Twilight Zone Tower of Terror',\n",
       " 3: \"Soarin'\",\n",
       " 4: 'Journey Into Imagination With Figment',\n",
       " 24: 'Jungle Cruise',\n",
       " 2: 'Astro Orbiter',\n",
       " 5: 'Silly Symphony Swings',\n",
       " 6: \"Snow White's Scary Adventures\",\n",
       " 30: 'Mark Twain Riverboat',\n",
       " 28: 'Main Street Cinema',\n",
       " 7: 'Voyage of The Little Mermaid',\n",
       " 23: 'Redwood Creek Challenge Trail',\n",
       " 18: 'Tom Sawyer Island',\n",
       " 27: 'Walt Disney World Railroad',\n",
       " 17: 'Rose & Crown Pub Musician',\n",
       " 31: 'Fantasmic!'}"
      ]
     },
     "execution_count": 42,
     "metadata": {},
     "output_type": "execute_result"
    }
   ],
   "source": [
    "id_to_poi_name"
   ]
  },
  {
   "cell_type": "code",
   "execution_count": 79,
   "metadata": {},
   "outputs": [
    {
     "data": {
      "text/plain": [
       "<function __main__.poi_names(recommendations, visited_pois)>"
      ]
     },
     "execution_count": 79,
     "metadata": {},
     "output_type": "execute_result"
    }
   ],
   "source": [
    "def poi_names(recommendations, visited_pois):\n",
    "    visited_set = set([id_to_poi_name[poi] for poi in visited_pois])\n",
    "    recommended = str([(id_to_poi_name[poi], weight) for (poi,weight) in recommendations \n",
    "                       if id_to_poi_name[poi] not in visited_set])\n",
    "    return \"recommended: %s ; visited: %s \"%(recommended, visited_set)\n",
    "\n",
    "spark.udf.register(\"poi_names\", poi_names)"
   ]
  },
  {
   "cell_type": "code",
   "execution_count": 80,
   "metadata": {},
   "outputs": [],
   "source": [
    "recommendation_sample = spark.sql('select user_hash_id, collect_list(poiID), poi_names(max(recommendations), collect_list(poiID)) as recommendation from recommendations r join visits v on (r.user_hash_id = hash(v.nsid)) group by 1').sample(fraction=0.1, withReplacement=False).collect()"
   ]
  },
  {
   "cell_type": "code",
   "execution_count": 81,
   "metadata": {},
   "outputs": [
    {
     "name": "stdout",
     "output_type": "stream",
     "text": [
      "recommended: [(\"It's A Small World\", 31.352962493896484), ('Walt Disney World Railroad', 23.464025497436523), ('Pirates of the Caribbean', 21.36219596862793), ('Buzz Lightyear Astro Blasters', 17.21680450439453), ('Haunted Mansion', 15.873616218566895), ('Country Bear Jamboree', 9.63521957397461), ('Astro Orbiter', 9.164801597595215), ('The Great Movie Ride', 8.167647361755371)] ; visited: {\"California Screamin'\", 'Sleeping Beauty Castle Walkthrough', 'Voyage of The Little Mermaid', \"Tarzan's Treehouse\", 'Main Street Cinema', 'The Many Adventures of Winnie the Pooh', 'Jungle Cruise', 'Tom Sawyer Island', 'Test Track', 'The Twilight Zone Tower of Terror'} \n"
     ]
    }
   ],
   "source": [
    "print(recommendation_sample[0].recommendation)"
   ]
  },
  {
   "cell_type": "code",
   "execution_count": 85,
   "metadata": {},
   "outputs": [
    {
     "name": "stdout",
     "output_type": "stream",
     "text": [
      "recommended: [('Splash Mountain', 0.9785523414611816), ('Sleeping Beauty Castle Walkthrough', 0.8383632302284241), (\"Pinocchio's Daring Journey\", 0.7456990480422974), ('Journey Into Imagination With Figment', 0.4501221477985382), (\"California Screamin'\", 0.44446268677711487), ('Tom Sawyer Island', 0.41949236392974854), (\"It's A Small World\", 0.40130260586738586), ('Astro Orbiter', 0.37899214029312134), ('The Twilight Zone Tower of Terror', 0.3728359639644623)] ; visited: {\"Snow White's Scary Adventures\"} \n"
     ]
    }
   ],
   "source": [
    "print(recommendation_sample[200].recommendation)"
   ]
  },
  {
   "cell_type": "code",
   "execution_count": 88,
   "metadata": {},
   "outputs": [
    {
     "name": "stdout",
     "output_type": "stream",
     "text": [
      "recommended: [('Fantasmic!', 20.900590896606445), ('Pirates of the Caribbean', 9.25596809387207), (\"It's A Small World\", 8.825133323669434), ('Buzz Lightyear Astro Blasters', 5.474684715270996), ('Main Street Cinema', 5.1001691818237305), ('Country Bear Jamboree', 4.3145904541015625), (\"California Screamin'\", 3.717888832092285), (\"It's A Small World\", 3.6027705669403076), ('The Many Adventures of Winnie the Pooh', 3.429044246673584)] ; visited: {'Haunted Mansion', 'The Twilight Zone Tower of Terror', 'Journey Into Imagination With Figment'} \n"
     ]
    }
   ],
   "source": [
    "print(recommendation_sample[600].recommendation)"
   ]
  },
  {
   "cell_type": "code",
   "execution_count": 97,
   "metadata": {},
   "outputs": [],
   "source": [
    "from pyspark.ml.feature import OneHotEncoder\n",
    "from pyspark.ml.feature import StringIndexer\n",
    "from pyspark.ml import Pipeline\n",
    "from pyspark.ml.feature import QuantileDiscretizer\n",
    "from pyspark.ml.feature import VectorAssembler\n",
    "\n",
    "\n",
    "pipeline = Pipeline(stages = [\n",
    "    StringIndexer(inputCol='user_hash_id', outputCol=\"user_hash_id_index\", handleInvalid='keep'),\n",
    "    OneHotEncoder(inputCol='user_hash_id_index', outputCol='user_hash_id_encoded'),\n",
    "    StringIndexer(inputCol='poiID', outputCol='poi_id_indexed', handleInvalid='keep'),\n",
    "    OneHotEncoder(inputCol='poi_id_indexed', outputCol='poi_id_encoded'),\n",
    "    QuantileDiscretizer(numBuckets=5, inputCol='pictures_taken', outputCol='interest_level'),\n",
    "    VectorAssembler(inputCols=['poi_id_encoded', 'user_hash_id_encoded'],\n",
    "                    outputCol='features'),\n",
    "])\n",
    "\n",
    "model = pipeline.fit(train_df)"
   ]
  },
  {
   "cell_type": "code",
   "execution_count": 98,
   "metadata": {},
   "outputs": [],
   "source": [
    "sparse_df = model.transform(train_df)"
   ]
  },
  {
   "cell_type": "code",
   "execution_count": 99,
   "metadata": {},
   "outputs": [
    {
     "name": "stdout",
     "output_type": "stream",
     "text": [
      "+------------+-----+--------------+------------------+--------------------+--------------+---------------+--------------+--------------------+\n",
      "|user_hash_id|poiID|pictures_taken|user_hash_id_index|user_hash_id_encoded|poi_id_indexed| poi_id_encoded|interest_level|            features|\n",
      "+------------+-----+--------------+------------------+--------------------+--------------+---------------+--------------+--------------------+\n",
      "| -1861435726|   19|             7|             279.0|  (8903,[279],[1.0])|          17.0|(31,[17],[1.0])|           3.0|(8934,[17,310],[1...|\n",
      "| -1064654977|   26|             8|             181.0|  (8903,[181],[1.0])|           5.0| (31,[5],[1.0])|           3.0|(8934,[5,212],[1....|\n",
      "|  -636721096|   17|             1|            2187.0| (8903,[2187],[1.0])|           4.0| (31,[4],[1.0])|           1.0|(8934,[4,2218],[1...|\n",
      "+------------+-----+--------------+------------------+--------------------+--------------+---------------+--------------+--------------------+\n",
      "only showing top 3 rows\n",
      "\n"
     ]
    }
   ],
   "source": [
    "sparse_df.show(3)"
   ]
  },
  {
   "cell_type": "code",
   "execution_count": 100,
   "metadata": {},
   "outputs": [],
   "source": [
    "sagemaker_train_df, sagemaker_test_df = sparse_df.randomSplit([0.8, 0.2], seed=17)\n"
   ]
  },
  {
   "cell_type": "code",
   "execution_count": 45,
   "metadata": {},
   "outputs": [],
   "source": [
    "# once pyspark supports writing to protobuf directly, as one can do in scala we could do:\n",
    "#\n",
    "# sagemaker_train_df.write.format(\"sagemaker\").option(\"labelColumnName\", \"interest_level\").option(\"featuresColumnName\", \"features\").save(\"s3://mastering-ml-aws/chapter6/train-data/\")"
   ]
  },
  {
   "cell_type": "code",
   "execution_count": 101,
   "metadata": {},
   "outputs": [],
   "source": [
    "from scipy.sparse import csr_matrix\n",
    "import numpy as np \n",
    "import boto3\n",
    "import io\n",
    "import numpy as np\n",
    "import scipy.sparse as sp\n",
    "import sagemaker.amazon.common as smac\n",
    "\n",
    "\n",
    "def spark_vector_to_sparse_matrix(row):\n",
    "    vect = row['features']\n",
    "    return csr_matrix((vect.values, vect.indices, np.array([0, vect.values.size])),(1, vect.size), dtype=np.float32)\n",
    "\n",
    "def upload_matrices_to_s3(dataframe, dataset_name):\n",
    "    features_matrices = dataframe.select(\"features\").rdd.map(spark_vector_to_sparse_matrix).collect()\n",
    "    interest_levels = dataframe.select(\"interest_level\").rdd.map(lambda r: r['interest_level']).collect()\n",
    "    \n",
    "    interest_level_vector = np.array(interest_levels, dtype=np.float32)\n",
    "    buffer = io.BytesIO()\n",
    "    smac.write_spmatrix_to_sparse_tensor(buffer, sp.vstack(features_matrices), interest_level_vector)\n",
    "    buffer.seek(0)\n",
    "    bucket = boto3.resource('s3').Bucket('mastering-ml-aws')\n",
    "    bucket.Object('chapter6/%s-data.protobuf'%dataset_name).upload_fileobj(buffer)"
   ]
  },
  {
   "cell_type": "code",
   "execution_count": 102,
   "metadata": {},
   "outputs": [],
   "source": [
    "upload_matrices_to_s3(sagemaker_train_df, 'train')\n",
    "upload_matrices_to_s3(sagemaker_test_df, 'test')"
   ]
  },
  {
   "cell_type": "code",
   "execution_count": 103,
   "metadata": {},
   "outputs": [
    {
     "data": {
      "text/plain": [
       "[Row(features=SparseVector(8934, {22: 1.0, 858: 1.0}))]"
      ]
     },
     "execution_count": 103,
     "metadata": {},
     "output_type": "execute_result"
    }
   ],
   "source": [
    "sagemaker_train_df.select(\"features\").limit(1).collect()\n"
   ]
  },
  {
   "cell_type": "code",
   "execution_count": 60,
   "metadata": {},
   "outputs": [
    {
     "data": {
      "text/plain": [
       "8934"
      ]
     },
     "execution_count": 60,
     "metadata": {},
     "output_type": "execute_result"
    }
   ],
   "source": [
    "feature_dimension = len(sagemaker_train_df.select(\"features\").limit(1).collect()[0].features)\n",
    "feature_dimension"
   ]
  },
  {
   "cell_type": "code",
   "execution_count": 61,
   "metadata": {},
   "outputs": [
    {
     "data": {
      "text/plain": [
       "[StringIndexer_408c93fb63bc1870f856,\n",
       " OneHotEncoder_417081dda23913c94abf,\n",
       " StringIndexer_4c6db0dcee74ed526966,\n",
       " OneHotEncoder_4342a6d727d179d2e97a,\n",
       " Bucketizer_4760870914f95951004a,\n",
       " VectorAssembler_4ccd914048999de2d238]"
      ]
     },
     "execution_count": 61,
     "metadata": {},
     "output_type": "execute_result"
    }
   ],
   "source": [
    "model.stages"
   ]
  },
  {
   "cell_type": "code",
   "execution_count": 67,
   "metadata": {},
   "outputs": [
    {
     "data": {
      "text/plain": [
       "['-339797423', '-45351632', '-1550420186', '333791386', '344980893']"
      ]
     },
     "execution_count": 67,
     "metadata": {},
     "output_type": "execute_result"
    }
   ],
   "source": [
    "model.stages[0].labels[:5]"
   ]
  },
  {
   "cell_type": "code",
   "execution_count": 68,
   "metadata": {},
   "outputs": [
    {
     "data": {
      "text/plain": [
       "['944065163', '94926449', '-559580957', '-554124381', '-1355542311']"
      ]
     },
     "execution_count": 68,
     "metadata": {},
     "output_type": "execute_result"
    }
   ],
   "source": [
    "model.stages[2].labels[:5]"
   ]
  },
  {
   "cell_type": "code",
   "execution_count": 70,
   "metadata": {},
   "outputs": [
    {
     "data": {
      "text/plain": [
       "(8903, 31)"
      ]
     },
     "execution_count": 70,
     "metadata": {},
     "output_type": "execute_result"
    }
   ],
   "source": [
    "len(model.stages[0].labels), len(model.stages[2].labels)"
   ]
  },
  {
   "cell_type": "code",
   "execution_count": 72,
   "metadata": {},
   "outputs": [],
   "source": [
    "import sagemaker\n",
    "from sagemaker import get_execution_role\n",
    "import json\n",
    "import boto3\n",
    "\n",
    "sess = sagemaker.Session()\n",
    "role = get_execution_role()\n",
    "\n",
    "container = sagemaker.amazon.amazon_estimator.get_image_uri('us-east-1', \"factorization-machines\", \"latest\")\n",
    "\n",
    "s3_train_data = 's3://mastering-ml-aws/chapter6/train-data.protobuf'\n",
    "s3_test_data = 's3://mastering-ml-aws/chapter6/train-data.protobuf'\n",
    "s3_output_location = 's3://mastering-ml-aws/chapter6/sagemaker/output/'\n",
    "s3_model_location = 's3://mastering-ml-aws/chapter6/sagemaker/model/'"
   ]
  },
  {
   "cell_type": "code",
   "execution_count": 74,
   "metadata": {},
   "outputs": [
    {
     "name": "stderr",
     "output_type": "stream",
     "text": [
      "INFO:sagemaker:Creating training-job with name: factorization-machines-2019-02-22-14-25-41-535\n"
     ]
    },
    {
     "name": "stdout",
     "output_type": "stream",
     "text": [
      "2019-02-22 14:25:41 Starting - Starting the training job...\n",
      "2019-02-22 14:25:43 Starting - Launching requested ML instances............\n",
      "2019-02-22 14:27:47 Starting - Preparing the instances for training......\n",
      "2019-02-22 14:29:10 Downloading - Downloading input data..\n",
      "\u001b[31mDocker entrypoint called with argument(s): train\u001b[0m\n",
      "\u001b[31m[02/22/2019 14:29:24 INFO 140042773481280] Reading default configuration from /opt/amazon/lib/python2.7/site-packages/algorithm/resources/default-conf.json: {u'factors_lr': u'0.0001', u'linear_init_sigma': u'0.01', u'epochs': 1, u'_wd': u'1.0', u'_num_kv_servers': u'auto', u'use_bias': u'true', u'factors_init_sigma': u'0.001', u'_log_level': u'info', u'bias_init_method': u'normal', u'linear_init_method': u'normal', u'linear_lr': u'0.001', u'factors_init_method': u'normal', u'_tuning_objective_metric': u'', u'bias_wd': u'0.01', u'use_linear': u'true', u'bias_lr': u'0.1', u'mini_batch_size': u'1000', u'_use_full_symbolic': u'true', u'batch_metrics_publish_interval': u'500', u'bias_init_sigma': u'0.01', u'_num_gpus': u'auto', u'_data_format': u'record', u'factors_wd': u'0.00001', u'linear_wd': u'0.001', u'_kvstore': u'auto', u'_learning_rate': u'1.0', u'_optimizer': u'adam'}\u001b[0m\n",
      "\u001b[31m[02/22/2019 14:29:24 INFO 140042773481280] Reading provided configuration from /opt/ml/input/config/hyperparameters.json: {u'epochs': u'200', u'feature_dim': u'8934', u'mini_batch_size': u'100', u'predictor_type': u'regressor', u'num_factors': u'128'}\u001b[0m\n",
      "\u001b[31m[02/22/2019 14:29:24 INFO 140042773481280] Final configuration: {u'factors_lr': u'0.0001', u'linear_init_sigma': u'0.01', u'epochs': u'200', u'feature_dim': u'8934', u'num_factors': u'128', u'_wd': u'1.0', u'_num_kv_servers': u'auto', u'use_bias': u'true', u'factors_init_sigma': u'0.001', u'_log_level': u'info', u'bias_init_method': u'normal', u'linear_init_method': u'normal', u'linear_lr': u'0.001', u'factors_init_method': u'normal', u'_tuning_objective_metric': u'', u'bias_wd': u'0.01', u'use_linear': u'true', u'bias_lr': u'0.1', u'mini_batch_size': u'100', u'_use_full_symbolic': u'true', u'batch_metrics_publish_interval': u'500', u'predictor_type': u'regressor', u'bias_init_sigma': u'0.01', u'_num_gpus': u'auto', u'_data_format': u'record', u'factors_wd': u'0.00001', u'linear_wd': u'0.001', u'_kvstore': u'auto', u'_learning_rate': u'1.0', u'_optimizer': u'adam'}\u001b[0m\n",
      "\u001b[31m[02/22/2019 14:29:24 WARNING 140042773481280] Loggers have already been setup.\u001b[0m\n",
      "\u001b[31mProcess 1 is a worker.\u001b[0m\n",
      "\u001b[31m[02/22/2019 14:29:24 INFO 140042773481280] Using default worker.\u001b[0m\n",
      "\u001b[31m[2019-02-22 14:29:24.292] [tensorio] [info] batch={\"data_pipeline\": \"/opt/ml/input/data/train\", \"num_examples\": 100, \"features\": [{\"name\": \"label_values\", \"shape\": [1], \"storage_type\": \"dense\"}, {\"name\": \"values\", \"shape\": [8934], \"storage_type\": \"CSR\"}]}\u001b[0m\n",
      "\u001b[31m[2019-02-22 14:29:24.293] [tensorio] [warning] TensorIO is already initialized; ignoring the initialization routine.\u001b[0m\n",
      "\u001b[31m[2019-02-22 14:29:24.294] [tensorio] [info] batch={\"data_pipeline\": \"/opt/ml/input/data/test\", \"num_examples\": 100, \"features\": [{\"name\": \"label_values\", \"shape\": [1], \"storage_type\": \"dense\"}, {\"name\": \"values\", \"shape\": [8934], \"storage_type\": \"CSR\"}]}\u001b[0m\n",
      "\u001b[31m[2019-02-22 14:29:24.296] [tensorio] [info] data_pipeline_stats={\"name\": \"/opt/ml/input/data/train\", \"epoch\": 0, \"duration\": 4, \"num_examples\": 1}\u001b[0m\n",
      "\u001b[31m[02/22/2019 14:29:24 INFO 140042773481280] nvidia-smi took: 0.0252130031586 secs to identify 0 gpus\u001b[0m\n",
      "\u001b[31m[02/22/2019 14:29:24 INFO 140042773481280] Number of GPUs being used: 0\u001b[0m\n",
      "\u001b[31m[02/22/2019 14:29:24 INFO 140042773481280] [Sparse network] Building a sparse network.\u001b[0m\n",
      "\u001b[31m[02/22/2019 14:29:24 INFO 140042773481280] Create Store: local\u001b[0m\n",
      "\u001b[31m#metrics {\"Metrics\": {\"initialize.time\": {\"count\": 1, \"max\": 34.76381301879883, \"sum\": 34.76381301879883, \"min\": 34.76381301879883}}, \"EndTime\": 1550845764.330318, \"Dimensions\": {\"Host\": \"algo-1\", \"Operation\": \"training\", \"Algorithm\": \"factorization-machines\"}, \"StartTime\": 1550845764.289398}\n",
      "\u001b[0m\n",
      "\u001b[31m#metrics {\"Metrics\": {\"Max Batches Seen Between Resets\": {\"count\": 1, \"max\": 1, \"sum\": 1.0, \"min\": 1}, \"Number of Batches Since Last Reset\": {\"count\": 1, \"max\": 0, \"sum\": 0.0, \"min\": 0}, \"Number of Records Since Last Reset\": {\"count\": 1, \"max\": 0, \"sum\": 0.0, \"min\": 0}, \"Total Batches Seen\": {\"count\": 1, \"max\": 1, \"sum\": 1.0, \"min\": 1}, \"Total Records Seen\": {\"count\": 1, \"max\": 100, \"sum\": 100.0, \"min\": 100}, \"Max Records Seen Between Resets\": {\"count\": 1, \"max\": 100, \"sum\": 100.0, \"min\": 100}, \"Reset Count\": {\"count\": 1, \"max\": 1, \"sum\": 1.0, \"min\": 1}}, \"EndTime\": 1550845764.330507, \"Dimensions\": {\"Host\": \"algo-1\", \"Meta\": \"init_train_data_iter\", \"Operation\": \"training\", \"Algorithm\": \"factorization-machines\"}, \"StartTime\": 1550845764.330449}\n",
      "\u001b[0m\n",
      "\u001b[31m[14:29:24] /opt/brazil-pkg-cache/packages/AIAlgorithmsMXNet/AIAlgorithmsMXNet-1.1.x.201285.0/RHEL5_64/generic-flavor/src/src/kvstore/./kvstore_local.h:280: Warning: non-default weights detected during kvstore pull. This call has been ignored. Please make sure to use row_sparse_pull with row_ids.\u001b[0m\n",
      "\u001b[31m[14:29:24] /opt/brazil-pkg-cache/packages/AIAlgorithmsMXNet/AIAlgorithmsMXNet-1.1.x.201285.0/RHEL5_64/generic-flavor/src/src/kvstore/./kvstore_local.h:280: Warning: non-default weights detected during kvstore pull. This call has been ignored. Please make sure to use row_sparse_pull with row_ids.\u001b[0m\n",
      "\u001b[31m[02/22/2019 14:29:24 INFO 140042773481280] #quality_metric: host=algo-1, epoch=0, batch=0 train rmse <loss>=1.74822960812\u001b[0m\n",
      "\u001b[31m[02/22/2019 14:29:25 INFO 140042773481280] #quality_metric: host=algo-1, epoch=0, train rmse <loss>=0.851436242606\u001b[0m\n",
      "\u001b[31m#metrics {\"Metrics\": {\"epochs\": {\"count\": 1, \"max\": 200, \"sum\": 200.0, \"min\": 200}, \"update.time\": {\"count\": 1, \"max\": 829.3969631195068, \"sum\": 829.3969631195068, \"min\": 829.3969631195068}}, \"EndTime\": 1550845765.160124, \"Dimensions\": {\"Host\": \"algo-1\", \"Operation\": \"training\", \"Algorithm\": \"factorization-machines\"}, \"StartTime\": 1550845764.330391}\n",
      "\u001b[0m\n",
      "\u001b[31m[02/22/2019 14:29:25 INFO 140042773481280] #progress_metric: host=algo-1, completed 0 % of epochs\u001b[0m\n",
      "\u001b[31m#metrics {\"Metrics\": {\"Max Batches Seen Between Resets\": {\"count\": 1, \"max\": 346, \"sum\": 346.0, \"min\": 346}, \"Number of Batches Since Last Reset\": {\"count\": 1, \"max\": 346, \"sum\": 346.0, \"min\": 346}, \"Number of Records Since Last Reset\": {\"count\": 1, \"max\": 34560, \"sum\": 34560.0, \"min\": 34560}, \"Total Batches Seen\": {\"count\": 1, \"max\": 347, \"sum\": 347.0, \"min\": 347}, \"Total Records Seen\": {\"count\": 1, \"max\": 34660, \"sum\": 34660.0, \"min\": 34660}, \"Max Records Seen Between Resets\": {\"count\": 1, \"max\": 34560, \"sum\": 34560.0, \"min\": 34560}, \"Reset Count\": {\"count\": 1, \"max\": 2, \"sum\": 2.0, \"min\": 2}}, \"EndTime\": 1550845765.160429, \"Dimensions\": {\"Host\": \"algo-1\", \"Meta\": \"training_data_iter\", \"Operation\": \"training\", \"Algorithm\": \"factorization-machines\", \"epoch\": 0}, \"StartTime\": 1550845764.330695}\n",
      "\u001b[0m\n",
      "\u001b[31m[02/22/2019 14:29:25 INFO 140042773481280] #throughput_metric: host=algo-1, train throughput=41644.8862326 records/second\u001b[0m\n",
      "\u001b[31m[2019-02-22 14:29:25.160] [tensorio] [info] data_pipeline_stats={\"name\": \"/opt/ml/input/data/train\", \"epoch\": 1, \"duration\": 758, \"num_examples\": 346}\u001b[0m\n",
      "\u001b[31m[02/22/2019 14:29:25 INFO 140042773481280] #quality_metric: host=algo-1, epoch=1, batch=0 train rmse <loss>=0.78928838235\u001b[0m\n",
      "\u001b[31m[02/22/2019 14:29:25 INFO 140042773481280] #quality_metric: host=algo-1, epoch=1, train rmse <loss>=0.807638594993\u001b[0m\n",
      "\u001b[31m#metrics {\"Metrics\": {\"update.time\": {\"count\": 1, \"max\": 658.6439609527588, \"sum\": 658.6439609527588, \"min\": 658.6439609527588}}, \"EndTime\": 1550845765.819464, \"Dimensions\": {\"Host\": \"algo-1\", \"Operation\": \"training\", \"Algorithm\": \"factorization-machines\"}, \"StartTime\": 1550845765.160237}\n",
      "\u001b[0m\n",
      "\u001b[31m[02/22/2019 14:29:25 INFO 140042773481280] #progress_metric: host=algo-1, completed 1 % of epochs\u001b[0m\n",
      "\u001b[31m#metrics {\"Metrics\": {\"Max Batches Seen Between Resets\": {\"count\": 1, \"max\": 346, \"sum\": 346.0, \"min\": 346}, \"Number of Batches Since Last Reset\": {\"count\": 1, \"max\": 346, \"sum\": 346.0, \"min\": 346}, \"Number of Records Since Last Reset\": {\"count\": 1, \"max\": 34560, \"sum\": 34560.0, \"min\": 34560}, \"Total Batches Seen\": {\"count\": 1, \"max\": 693, \"sum\": 693.0, \"min\": 693}, \"Total Records Seen\": {\"count\": 1, \"max\": 69220, \"sum\": 69220.0, \"min\": 69220}, \"Max Records Seen Between Resets\": {\"count\": 1, \"max\": 34560, \"sum\": 34560.0, \"min\": 34560}, \"Reset Count\": {\"count\": 1, \"max\": 3, \"sum\": 3.0, \"min\": 3}}, \"EndTime\": 1550845765.819659, \"Dimensions\": {\"Host\": \"algo-1\", \"Meta\": \"training_data_iter\", \"Operation\": \"training\", \"Algorithm\": \"factorization-machines\", \"epoch\": 1}, \"StartTime\": 1550845765.160792}\n",
      "\u001b[0m\n",
      "\u001b[31m[02/22/2019 14:29:25 INFO 140042773481280] #throughput_metric: host=algo-1, train throughput=52441.3375159 records/second\u001b[0m\n",
      "\u001b[31m[2019-02-22 14:29:25.819] [tensorio] [info] data_pipeline_stats={\"name\": \"/opt/ml/input/data/train\", \"epoch\": 2, \"duration\": 657, \"num_examples\": 346}\u001b[0m\n",
      "\u001b[31m[02/22/2019 14:29:25 INFO 140042773481280] #quality_metric: host=algo-1, epoch=2, batch=0 train rmse <loss>=0.776269844526\u001b[0m\n",
      "\u001b[31m[02/22/2019 14:29:26 INFO 140042773481280] #quality_metric: host=algo-1, epoch=2, train rmse <loss>=0.780867355151\u001b[0m\n",
      "\u001b[31m#metrics {\"Metrics\": {\"update.time\": {\"count\": 1, \"max\": 612.4401092529297, \"sum\": 612.4401092529297, \"min\": 612.4401092529297}}, \"EndTime\": 1550845766.432437, \"Dimensions\": {\"Host\": \"algo-1\", \"Operation\": \"training\", \"Algorithm\": \"factorization-machines\"}, \"StartTime\": 1550845765.819531}\n",
      "\u001b[0m\n",
      "\u001b[31m[02/22/2019 14:29:26 INFO 140042773481280] #progress_metric: host=algo-1, completed 1 % of epochs\u001b[0m\n",
      "\u001b[31m#metrics {\"Metrics\": {\"Max Batches Seen Between Resets\": {\"count\": 1, \"max\": 346, \"sum\": 346.0, \"min\": 346}, \"Number of Batches Since Last Reset\": {\"count\": 1, \"max\": 346, \"sum\": 346.0, \"min\": 346}, \"Number of Records Since Last Reset\": {\"count\": 1, \"max\": 34560, \"sum\": 34560.0, \"min\": 34560}, \"Total Batches Seen\": {\"count\": 1, \"max\": 1039, \"sum\": 1039.0, \"min\": 1039}, \"Total Records Seen\": {\"count\": 1, \"max\": 103780, \"sum\": 103780.0, \"min\": 103780}, \"Max Records Seen Between Resets\": {\"count\": 1, \"max\": 34560, \"sum\": 34560.0, \"min\": 34560}, \"Reset Count\": {\"count\": 1, \"max\": 4, \"sum\": 4.0, \"min\": 4}}, \"EndTime\": 1550845766.432704, \"Dimensions\": {\"Host\": \"algo-1\", \"Meta\": \"training_data_iter\", \"Operation\": \"training\", \"Algorithm\": \"factorization-machines\", \"epoch\": 2}, \"StartTime\": 1550845765.819967}\n",
      "\u001b[0m\n",
      "\u001b[31m[02/22/2019 14:29:26 INFO 140042773481280] #throughput_metric: host=algo-1, train throughput=56390.6029009 records/second\u001b[0m\n",
      "\u001b[31m[2019-02-22 14:29:26.432] [tensorio] [info] data_pipeline_stats={\"name\": \"/opt/ml/input/data/train\", \"epoch\": 3, \"duration\": 611, \"num_examples\": 346}\u001b[0m\n",
      "\u001b[31m[02/22/2019 14:29:26 INFO 140042773481280] #quality_metric: host=algo-1, epoch=3, batch=0 train rmse <loss>=0.753051779579\u001b[0m\n",
      "\u001b[31m[02/22/2019 14:29:26 INFO 140042773481280] #quality_metric: host=algo-1, epoch=3, train rmse <loss>=0.74443345783\u001b[0m\n",
      "\u001b[31m#metrics {\"Metrics\": {\"update.time\": {\"count\": 1, \"max\": 565.3359889984131, \"sum\": 565.3359889984131, \"min\": 565.3359889984131}}, \"EndTime\": 1550845766.998339, \"Dimensions\": {\"Host\": \"algo-1\", \"Operation\": \"training\", \"Algorithm\": \"factorization-machines\"}, \"StartTime\": 1550845766.432515}\n",
      "\u001b[0m\n",
      "\u001b[31m[02/22/2019 14:29:26 INFO 140042773481280] #progress_metric: host=algo-1, completed 2 % of epochs\u001b[0m\n",
      "\u001b[31m#metrics {\"Metrics\": {\"Max Batches Seen Between Resets\": {\"count\": 1, \"max\": 346, \"sum\": 346.0, \"min\": 346}, \"Number of Batches Since Last Reset\": {\"count\": 1, \"max\": 346, \"sum\": 346.0, \"min\": 346}, \"Number of Records Since Last Reset\": {\"count\": 1, \"max\": 34560, \"sum\": 34560.0, \"min\": 34560}, \"Total Batches Seen\": {\"count\": 1, \"max\": 1385, \"sum\": 1385.0, \"min\": 1385}, \"Total Records Seen\": {\"count\": 1, \"max\": 138340, \"sum\": 138340.0, \"min\": 138340}, \"Max Records Seen Between Resets\": {\"count\": 1, \"max\": 34560, \"sum\": 34560.0, \"min\": 34560}, \"Reset Count\": {\"count\": 1, \"max\": 5, \"sum\": 5.0, \"min\": 5}}, \"EndTime\": 1550845766.998538, \"Dimensions\": {\"Host\": \"algo-1\", \"Meta\": \"training_data_iter\", \"Operation\": \"training\", \"Algorithm\": \"factorization-machines\", \"epoch\": 3}, \"StartTime\": 1550845766.43297}\n",
      "\u001b[0m\n",
      "\u001b[31m[02/22/2019 14:29:26 INFO 140042773481280] #throughput_metric: host=algo-1, train throughput=61092.4459797 records/second\u001b[0m\n",
      "\u001b[31m[2019-02-22 14:29:26.998] [tensorio] [info] data_pipeline_stats={\"name\": \"/opt/ml/input/data/train\", \"epoch\": 4, \"duration\": 564, \"num_examples\": 346}\u001b[0m\n",
      "\u001b[31m[02/22/2019 14:29:27 INFO 140042773481280] #quality_metric: host=algo-1, epoch=4, batch=0 train rmse <loss>=0.723753864495\u001b[0m\n",
      "\u001b[31m[02/22/2019 14:29:27 INFO 140042773481280] #quality_metric: host=algo-1, epoch=4, train rmse <loss>=0.707203425014\u001b[0m\n",
      "\u001b[31m#metrics {\"Metrics\": {\"update.time\": {\"count\": 1, \"max\": 582.4620723724365, \"sum\": 582.4620723724365, \"min\": 582.4620723724365}}, \"EndTime\": 1550845767.581312, \"Dimensions\": {\"Host\": \"algo-1\", \"Operation\": \"training\", \"Algorithm\": \"factorization-machines\"}, \"StartTime\": 1550845766.998409}\n",
      "\u001b[0m\n",
      "\u001b[31m[02/22/2019 14:29:27 INFO 140042773481280] #progress_metric: host=algo-1, completed 2 % of epochs\u001b[0m\n",
      "\u001b[31m#metrics {\"Metrics\": {\"Max Batches Seen Between Resets\": {\"count\": 1, \"max\": 346, \"sum\": 346.0, \"min\": 346}, \"Number of Batches Since Last Reset\": {\"count\": 1, \"max\": 346, \"sum\": 346.0, \"min\": 346}, \"Number of Records Since Last Reset\": {\"count\": 1, \"max\": 34560, \"sum\": 34560.0, \"min\": 34560}, \"Total Batches Seen\": {\"count\": 1, \"max\": 1731, \"sum\": 1731.0, \"min\": 1731}, \"Total Records Seen\": {\"count\": 1, \"max\": 172900, \"sum\": 172900.0, \"min\": 172900}, \"Max Records Seen Between Resets\": {\"count\": 1, \"max\": 34560, \"sum\": 34560.0, \"min\": 34560}, \"Reset Count\": {\"count\": 1, \"max\": 6, \"sum\": 6.0, \"min\": 6}}, \"EndTime\": 1550845767.581537, \"Dimensions\": {\"Host\": \"algo-1\", \"Meta\": \"training_data_iter\", \"Operation\": \"training\", \"Algorithm\": \"factorization-machines\", \"epoch\": 4}, \"StartTime\": 1550845766.998819}\n",
      "\u001b[0m\n",
      "\u001b[31m[02/22/2019 14:29:27 INFO 140042773481280] #throughput_metric: host=algo-1, train throughput=59294.5310826 records/second\u001b[0m\n",
      "\u001b[31m[2019-02-22 14:29:27.581] [tensorio] [info] data_pipeline_stats={\"name\": \"/opt/ml/input/data/train\", \"epoch\": 5, \"duration\": 581, \"num_examples\": 346}\u001b[0m\n",
      "\u001b[31m[02/22/2019 14:29:27 INFO 140042773481280] #quality_metric: host=algo-1, epoch=5, batch=0 train rmse <loss>=0.695495553941\u001b[0m\n",
      "\u001b[31m[02/22/2019 14:29:28 INFO 140042773481280] #quality_metric: host=algo-1, epoch=5, train rmse <loss>=0.676688145273\u001b[0m\n",
      "\u001b[31m#metrics {\"Metrics\": {\"update.time\": {\"count\": 1, \"max\": 755.483865737915, \"sum\": 755.483865737915, \"min\": 755.483865737915}}, \"EndTime\": 1550845768.337349, \"Dimensions\": {\"Host\": \"algo-1\", \"Operation\": \"training\", \"Algorithm\": \"factorization-machines\"}, \"StartTime\": 1550845767.581384}\n",
      "\u001b[0m\n",
      "\u001b[31m[02/22/2019 14:29:28 INFO 140042773481280] #progress_metric: host=algo-1, completed 3 % of epochs\u001b[0m\n",
      "\u001b[31m#metrics {\"Metrics\": {\"Max Batches Seen Between Resets\": {\"count\": 1, \"max\": 346, \"sum\": 346.0, \"min\": 346}, \"Number of Batches Since Last Reset\": {\"count\": 1, \"max\": 346, \"sum\": 346.0, \"min\": 346}, \"Number of Records Since Last Reset\": {\"count\": 1, \"max\": 34560, \"sum\": 34560.0, \"min\": 34560}, \"Total Batches Seen\": {\"count\": 1, \"max\": 2077, \"sum\": 2077.0, \"min\": 2077}, \"Total Records Seen\": {\"count\": 1, \"max\": 207460, \"sum\": 207460.0, \"min\": 207460}, \"Max Records Seen Between Resets\": {\"count\": 1, \"max\": 34560, \"sum\": 34560.0, \"min\": 34560}, \"Reset Count\": {\"count\": 1, \"max\": 7, \"sum\": 7.0, \"min\": 7}}, \"EndTime\": 1550845768.337567, \"Dimensions\": {\"Host\": \"algo-1\", \"Meta\": \"training_data_iter\", \"Operation\": \"training\", \"Algorithm\": \"factorization-machines\", \"epoch\": 5}, \"StartTime\": 1550845767.581832}\n",
      "\u001b[0m\n",
      "\u001b[31m[02/22/2019 14:29:28 INFO 140042773481280] #throughput_metric: host=algo-1, train throughput=45722.5743655 records/second\u001b[0m\n",
      "\u001b[31m[2019-02-22 14:29:28.337] [tensorio] [info] data_pipeline_stats={\"name\": \"/opt/ml/input/data/train\", \"epoch\": 6, \"duration\": 754, \"num_examples\": 346}\u001b[0m\n",
      "\u001b[31m[02/22/2019 14:29:28 INFO 140042773481280] #quality_metric: host=algo-1, epoch=6, batch=0 train rmse <loss>=0.672601635141\u001b[0m\n",
      "\u001b[31m[02/22/2019 14:29:29 INFO 140042773481280] #quality_metric: host=algo-1, epoch=6, train rmse <loss>=0.655101206288\u001b[0m\n",
      "\u001b[31m#metrics {\"Metrics\": {\"update.time\": {\"count\": 1, \"max\": 742.7470684051514, \"sum\": 742.7470684051514, \"min\": 742.7470684051514}}, \"EndTime\": 1550845769.080624, \"Dimensions\": {\"Host\": \"algo-1\", \"Operation\": \"training\", \"Algorithm\": \"factorization-machines\"}, \"StartTime\": 1550845768.337419}\n",
      "\u001b[0m\n",
      "\u001b[31m[02/22/2019 14:29:29 INFO 140042773481280] #progress_metric: host=algo-1, completed 3 % of epochs\u001b[0m\n",
      "\u001b[31m#metrics {\"Metrics\": {\"Max Batches Seen Between Resets\": {\"count\": 1, \"max\": 346, \"sum\": 346.0, \"min\": 346}, \"Number of Batches Since Last Reset\": {\"count\": 1, \"max\": 346, \"sum\": 346.0, \"min\": 346}, \"Number of Records Since Last Reset\": {\"count\": 1, \"max\": 34560, \"sum\": 34560.0, \"min\": 34560}, \"Total Batches Seen\": {\"count\": 1, \"max\": 2423, \"sum\": 2423.0, \"min\": 2423}, \"Total Records Seen\": {\"count\": 1, \"max\": 242020, \"sum\": 242020.0, \"min\": 242020}, \"Max Records Seen Between Resets\": {\"count\": 1, \"max\": 34560, \"sum\": 34560.0, \"min\": 34560}, \"Reset Count\": {\"count\": 1, \"max\": 8, \"sum\": 8.0, \"min\": 8}}, \"EndTime\": 1550845769.080844, \"Dimensions\": {\"Host\": \"algo-1\", \"Meta\": \"training_data_iter\", \"Operation\": \"training\", \"Algorithm\": \"factorization-machines\", \"epoch\": 6}, \"StartTime\": 1550845768.337844}\n",
      "\u001b[0m\n",
      "\u001b[31m[02/22/2019 14:29:29 INFO 140042773481280] #throughput_metric: host=algo-1, train throughput=46506.1162403 records/second\u001b[0m\n",
      "\u001b[31m[2019-02-22 14:29:29.081] [tensorio] [info] data_pipeline_stats={\"name\": \"/opt/ml/input/data/train\", \"epoch\": 7, \"duration\": 741, \"num_examples\": 346}\u001b[0m\n",
      "\u001b[31m[02/22/2019 14:29:29 INFO 140042773481280] #quality_metric: host=algo-1, epoch=7, batch=0 train rmse <loss>=0.655642738939\u001b[0m\n",
      "\u001b[31m[02/22/2019 14:29:29 INFO 140042773481280] #quality_metric: host=algo-1, epoch=7, train rmse <loss>=0.640594790198\u001b[0m\n",
      "\u001b[31m#metrics {\"Metrics\": {\"update.time\": {\"count\": 1, \"max\": 697.1919536590576, \"sum\": 697.1919536590576, \"min\": 697.1919536590576}}, \"EndTime\": 1550845769.778394, \"Dimensions\": {\"Host\": \"algo-1\", \"Operation\": \"training\", \"Algorithm\": \"factorization-machines\"}, \"StartTime\": 1550845769.080695}\n",
      "\u001b[0m\n",
      "\u001b[31m[02/22/2019 14:29:29 INFO 140042773481280] #progress_metric: host=algo-1, completed 4 % of epochs\u001b[0m\n",
      "\u001b[31m#metrics {\"Metrics\": {\"Max Batches Seen Between Resets\": {\"count\": 1, \"max\": 346, \"sum\": 346.0, \"min\": 346}, \"Number of Batches Since Last Reset\": {\"count\": 1, \"max\": 346, \"sum\": 346.0, \"min\": 346}, \"Number of Records Since Last Reset\": {\"count\": 1, \"max\": 34560, \"sum\": 34560.0, \"min\": 34560}, \"Total Batches Seen\": {\"count\": 1, \"max\": 2769, \"sum\": 2769.0, \"min\": 2769}, \"Total Records Seen\": {\"count\": 1, \"max\": 276580, \"sum\": 276580.0, \"min\": 276580}, \"Max Records Seen Between Resets\": {\"count\": 1, \"max\": 34560, \"sum\": 34560.0, \"min\": 34560}, \"Reset Count\": {\"count\": 1, \"max\": 9, \"sum\": 9.0, \"min\": 9}}, \"EndTime\": 1550845769.778772, \"Dimensions\": {\"Host\": \"algo-1\", \"Meta\": \"training_data_iter\", \"Operation\": \"training\", \"Algorithm\": \"factorization-machines\", \"epoch\": 7}, \"StartTime\": 1550845769.081164}\n",
      "\u001b[0m\n",
      "\u001b[31m[02/22/2019 14:29:29 INFO 140042773481280] #throughput_metric: host=algo-1, train throughput=49531.6262438 records/second\u001b[0m\n",
      "\u001b[31m[2019-02-22 14:29:29.778] [tensorio] [info] data_pipeline_stats={\"name\": \"/opt/ml/input/data/train\", \"epoch\": 8, \"duration\": 696, \"num_examples\": 346}\u001b[0m\n",
      "\u001b[31m[02/22/2019 14:29:29 INFO 140042773481280] #quality_metric: host=algo-1, epoch=8, batch=0 train rmse <loss>=0.643160414837\u001b[0m\n"
     ]
    },
    {
     "name": "stdout",
     "output_type": "stream",
     "text": [
      "\n",
      "2019-02-22 14:29:22 Training - Training image download completed. Training in progress.\u001b[31m[02/22/2019 14:29:30 INFO 140042773481280] #quality_metric: host=algo-1, epoch=8, train rmse <loss>=0.630365094681\u001b[0m\n",
      "\u001b[31m#metrics {\"Metrics\": {\"update.time\": {\"count\": 1, \"max\": 604.363203048706, \"sum\": 604.363203048706, \"min\": 604.363203048706}}, \"EndTime\": 1550845770.38344, \"Dimensions\": {\"Host\": \"algo-1\", \"Operation\": \"training\", \"Algorithm\": \"factorization-machines\"}, \"StartTime\": 1550845769.778471}\n",
      "\u001b[0m\n",
      "\u001b[31m[02/22/2019 14:29:30 INFO 140042773481280] #progress_metric: host=algo-1, completed 4 % of epochs\u001b[0m\n",
      "\u001b[31m#metrics {\"Metrics\": {\"Max Batches Seen Between Resets\": {\"count\": 1, \"max\": 346, \"sum\": 346.0, \"min\": 346}, \"Number of Batches Since Last Reset\": {\"count\": 1, \"max\": 346, \"sum\": 346.0, \"min\": 346}, \"Number of Records Since Last Reset\": {\"count\": 1, \"max\": 34560, \"sum\": 34560.0, \"min\": 34560}, \"Total Batches Seen\": {\"count\": 1, \"max\": 3115, \"sum\": 3115.0, \"min\": 3115}, \"Total Records Seen\": {\"count\": 1, \"max\": 311140, \"sum\": 311140.0, \"min\": 311140}, \"Max Records Seen Between Resets\": {\"count\": 1, \"max\": 34560, \"sum\": 34560.0, \"min\": 34560}, \"Reset Count\": {\"count\": 1, \"max\": 10, \"sum\": 10.0, \"min\": 10}}, \"EndTime\": 1550845770.383635, \"Dimensions\": {\"Host\": \"algo-1\", \"Meta\": \"training_data_iter\", \"Operation\": \"training\", \"Algorithm\": \"factorization-machines\", \"epoch\": 8}, \"StartTime\": 1550845769.779052}\n",
      "\u001b[0m\n",
      "\u001b[31m[02/22/2019 14:29:30 INFO 140042773481280] #throughput_metric: host=algo-1, train throughput=57150.9015052 records/second\u001b[0m\n",
      "\u001b[31m[2019-02-22 14:29:30.383] [tensorio] [info] data_pipeline_stats={\"name\": \"/opt/ml/input/data/train\", \"epoch\": 9, \"duration\": 603, \"num_examples\": 346}\u001b[0m\n",
      "\u001b[31m[02/22/2019 14:29:30 INFO 140042773481280] #quality_metric: host=algo-1, epoch=9, batch=0 train rmse <loss>=0.63345944337\u001b[0m\n",
      "\u001b[31m[02/22/2019 14:29:30 INFO 140042773481280] #quality_metric: host=algo-1, epoch=9, train rmse <loss>=0.622430225958\u001b[0m\n",
      "\u001b[31m#metrics {\"Metrics\": {\"update.time\": {\"count\": 1, \"max\": 577.3229598999023, \"sum\": 577.3229598999023, \"min\": 577.3229598999023}}, \"EndTime\": 1550845770.961249, \"Dimensions\": {\"Host\": \"algo-1\", \"Operation\": \"training\", \"Algorithm\": \"factorization-machines\"}, \"StartTime\": 1550845770.3835}\n",
      "\u001b[0m\n",
      "\u001b[31m[02/22/2019 14:29:30 INFO 140042773481280] #progress_metric: host=algo-1, completed 5 % of epochs\u001b[0m\n",
      "\u001b[31m#metrics {\"Metrics\": {\"Max Batches Seen Between Resets\": {\"count\": 1, \"max\": 346, \"sum\": 346.0, \"min\": 346}, \"Number of Batches Since Last Reset\": {\"count\": 1, \"max\": 346, \"sum\": 346.0, \"min\": 346}, \"Number of Records Since Last Reset\": {\"count\": 1, \"max\": 34560, \"sum\": 34560.0, \"min\": 34560}, \"Total Batches Seen\": {\"count\": 1, \"max\": 3461, \"sum\": 3461.0, \"min\": 3461}, \"Total Records Seen\": {\"count\": 1, \"max\": 345700, \"sum\": 345700.0, \"min\": 345700}, \"Max Records Seen Between Resets\": {\"count\": 1, \"max\": 34560, \"sum\": 34560.0, \"min\": 34560}, \"Reset Count\": {\"count\": 1, \"max\": 11, \"sum\": 11.0, \"min\": 11}}, \"EndTime\": 1550845770.961476, \"Dimensions\": {\"Host\": \"algo-1\", \"Meta\": \"training_data_iter\", \"Operation\": \"training\", \"Algorithm\": \"factorization-machines\", \"epoch\": 9}, \"StartTime\": 1550845770.383897}\n",
      "\u001b[0m\n",
      "\u001b[31m[02/22/2019 14:29:30 INFO 140042773481280] #throughput_metric: host=algo-1, train throughput=59825.1023904 records/second\u001b[0m\n",
      "\u001b[31m[2019-02-22 14:29:30.961] [tensorio] [info] data_pipeline_stats={\"name\": \"/opt/ml/input/data/train\", \"epoch\": 10, \"duration\": 576, \"num_examples\": 346}\u001b[0m\n",
      "\u001b[31m[02/22/2019 14:29:30 INFO 140042773481280] #quality_metric: host=algo-1, epoch=10, batch=0 train rmse <loss>=0.625386111203\u001b[0m\n",
      "\u001b[31m[02/22/2019 14:29:31 INFO 140042773481280] #quality_metric: host=algo-1, epoch=10, train rmse <loss>=0.61574381627\u001b[0m\n",
      "\u001b[31m#metrics {\"Metrics\": {\"update.time\": {\"count\": 1, \"max\": 587.4989032745361, \"sum\": 587.4989032745361, \"min\": 587.4989032745361}}, \"EndTime\": 1550845771.549213, \"Dimensions\": {\"Host\": \"algo-1\", \"Operation\": \"training\", \"Algorithm\": \"factorization-machines\"}, \"StartTime\": 1550845770.961323}\n",
      "\u001b[0m\n",
      "\u001b[31m[02/22/2019 14:29:31 INFO 140042773481280] #progress_metric: host=algo-1, completed 5 % of epochs\u001b[0m\n",
      "\u001b[31m#metrics {\"Metrics\": {\"Max Batches Seen Between Resets\": {\"count\": 1, \"max\": 346, \"sum\": 346.0, \"min\": 346}, \"Number of Batches Since Last Reset\": {\"count\": 1, \"max\": 346, \"sum\": 346.0, \"min\": 346}, \"Number of Records Since Last Reset\": {\"count\": 1, \"max\": 34560, \"sum\": 34560.0, \"min\": 34560}, \"Total Batches Seen\": {\"count\": 1, \"max\": 3807, \"sum\": 3807.0, \"min\": 3807}, \"Total Records Seen\": {\"count\": 1, \"max\": 380260, \"sum\": 380260.0, \"min\": 380260}, \"Max Records Seen Between Resets\": {\"count\": 1, \"max\": 34560, \"sum\": 34560.0, \"min\": 34560}, \"Reset Count\": {\"count\": 1, \"max\": 12, \"sum\": 12.0, \"min\": 12}}, \"EndTime\": 1550845771.549433, \"Dimensions\": {\"Host\": \"algo-1\", \"Meta\": \"training_data_iter\", \"Operation\": \"training\", \"Algorithm\": \"factorization-machines\", \"epoch\": 10}, \"StartTime\": 1550845770.961684}\n",
      "\u001b[0m\n",
      "\u001b[31m[02/22/2019 14:29:31 INFO 140042773481280] #throughput_metric: host=algo-1, train throughput=58789.9023015 records/second\u001b[0m\n",
      "\u001b[31m[2019-02-22 14:29:31.549] [tensorio] [info] data_pipeline_stats={\"name\": \"/opt/ml/input/data/train\", \"epoch\": 11, \"duration\": 586, \"num_examples\": 346}\u001b[0m\n",
      "\u001b[31m[02/22/2019 14:29:31 INFO 140042773481280] #quality_metric: host=algo-1, epoch=11, batch=0 train rmse <loss>=0.618330904124\u001b[0m\n",
      "\u001b[31m[02/22/2019 14:29:32 INFO 140042773481280] #quality_metric: host=algo-1, epoch=11, train rmse <loss>=0.609796012294\u001b[0m\n",
      "\u001b[31m#metrics {\"Metrics\": {\"update.time\": {\"count\": 1, \"max\": 602.9341220855713, \"sum\": 602.9341220855713, \"min\": 602.9341220855713}}, \"EndTime\": 1550845772.152655, \"Dimensions\": {\"Host\": \"algo-1\", \"Operation\": \"training\", \"Algorithm\": \"factorization-machines\"}, \"StartTime\": 1550845771.549287}\n",
      "\u001b[0m\n",
      "\u001b[31m[02/22/2019 14:29:32 INFO 140042773481280] #progress_metric: host=algo-1, completed 6 % of epochs\u001b[0m\n",
      "\u001b[31m#metrics {\"Metrics\": {\"Max Batches Seen Between Resets\": {\"count\": 1, \"max\": 346, \"sum\": 346.0, \"min\": 346}, \"Number of Batches Since Last Reset\": {\"count\": 1, \"max\": 346, \"sum\": 346.0, \"min\": 346}, \"Number of Records Since Last Reset\": {\"count\": 1, \"max\": 34560, \"sum\": 34560.0, \"min\": 34560}, \"Total Batches Seen\": {\"count\": 1, \"max\": 4153, \"sum\": 4153.0, \"min\": 4153}, \"Total Records Seen\": {\"count\": 1, \"max\": 414820, \"sum\": 414820.0, \"min\": 414820}, \"Max Records Seen Between Resets\": {\"count\": 1, \"max\": 34560, \"sum\": 34560.0, \"min\": 34560}, \"Reset Count\": {\"count\": 1, \"max\": 13, \"sum\": 13.0, \"min\": 13}}, \"EndTime\": 1550845772.152947, \"Dimensions\": {\"Host\": \"algo-1\", \"Meta\": \"training_data_iter\", \"Operation\": \"training\", \"Algorithm\": \"factorization-machines\", \"epoch\": 11}, \"StartTime\": 1550845771.54969}\n",
      "\u001b[0m\n",
      "\u001b[31m[02/22/2019 14:29:32 INFO 140042773481280] #throughput_metric: host=algo-1, train throughput=57272.8827526 records/second\u001b[0m\n",
      "\u001b[31m[2019-02-22 14:29:32.153] [tensorio] [info] data_pipeline_stats={\"name\": \"/opt/ml/input/data/train\", \"epoch\": 12, \"duration\": 601, \"num_examples\": 346}\u001b[0m\n",
      "\u001b[31m[02/22/2019 14:29:32 INFO 140042773481280] #quality_metric: host=algo-1, epoch=12, batch=0 train rmse <loss>=0.6119906429\u001b[0m\n",
      "\u001b[31m[02/22/2019 14:29:32 INFO 140042773481280] #quality_metric: host=algo-1, epoch=12, train rmse <loss>=0.604323655337\u001b[0m\n",
      "\u001b[31m#metrics {\"Metrics\": {\"update.time\": {\"count\": 1, \"max\": 609.5209121704102, \"sum\": 609.5209121704102, \"min\": 609.5209121704102}}, \"EndTime\": 1550845772.762824, \"Dimensions\": {\"Host\": \"algo-1\", \"Operation\": \"training\", \"Algorithm\": \"factorization-machines\"}, \"StartTime\": 1550845772.152751}\n",
      "\u001b[0m\n",
      "\u001b[31m[02/22/2019 14:29:32 INFO 140042773481280] #progress_metric: host=algo-1, completed 6 % of epochs\u001b[0m\n",
      "\u001b[31m#metrics {\"Metrics\": {\"Max Batches Seen Between Resets\": {\"count\": 1, \"max\": 346, \"sum\": 346.0, \"min\": 346}, \"Number of Batches Since Last Reset\": {\"count\": 1, \"max\": 346, \"sum\": 346.0, \"min\": 346}, \"Number of Records Since Last Reset\": {\"count\": 1, \"max\": 34560, \"sum\": 34560.0, \"min\": 34560}, \"Total Batches Seen\": {\"count\": 1, \"max\": 4499, \"sum\": 4499.0, \"min\": 4499}, \"Total Records Seen\": {\"count\": 1, \"max\": 449380, \"sum\": 449380.0, \"min\": 449380}, \"Max Records Seen Between Resets\": {\"count\": 1, \"max\": 34560, \"sum\": 34560.0, \"min\": 34560}, \"Reset Count\": {\"count\": 1, \"max\": 14, \"sum\": 14.0, \"min\": 14}}, \"EndTime\": 1550845772.763153, \"Dimensions\": {\"Host\": \"algo-1\", \"Meta\": \"training_data_iter\", \"Operation\": \"training\", \"Algorithm\": \"factorization-machines\", \"epoch\": 12}, \"StartTime\": 1550845772.153271}\n",
      "\u001b[0m\n",
      "\u001b[31m[02/22/2019 14:29:32 INFO 140042773481280] #throughput_metric: host=algo-1, train throughput=56652.2046442 records/second\u001b[0m\n",
      "\u001b[31m[2019-02-22 14:29:32.763] [tensorio] [info] data_pipeline_stats={\"name\": \"/opt/ml/input/data/train\", \"epoch\": 13, \"duration\": 608, \"num_examples\": 346}\u001b[0m\n",
      "\u001b[31m[02/22/2019 14:29:32 INFO 140042773481280] #quality_metric: host=algo-1, epoch=13, batch=0 train rmse <loss>=0.606187860509\u001b[0m\n",
      "\u001b[31m[02/22/2019 14:29:33 INFO 140042773481280] #quality_metric: host=algo-1, epoch=13, train rmse <loss>=0.599174645393\u001b[0m\n",
      "\u001b[31m#metrics {\"Metrics\": {\"update.time\": {\"count\": 1, \"max\": 601.4358997344971, \"sum\": 601.4358997344971, \"min\": 601.4358997344971}}, \"EndTime\": 1550845773.364965, \"Dimensions\": {\"Host\": \"algo-1\", \"Operation\": \"training\", \"Algorithm\": \"factorization-machines\"}, \"StartTime\": 1550845772.762977}\n",
      "\u001b[0m\n",
      "\u001b[31m[02/22/2019 14:29:33 INFO 140042773481280] #progress_metric: host=algo-1, completed 7 % of epochs\u001b[0m\n",
      "\u001b[31m#metrics {\"Metrics\": {\"Max Batches Seen Between Resets\": {\"count\": 1, \"max\": 346, \"sum\": 346.0, \"min\": 346}, \"Number of Batches Since Last Reset\": {\"count\": 1, \"max\": 346, \"sum\": 346.0, \"min\": 346}, \"Number of Records Since Last Reset\": {\"count\": 1, \"max\": 34560, \"sum\": 34560.0, \"min\": 34560}, \"Total Batches Seen\": {\"count\": 1, \"max\": 4845, \"sum\": 4845.0, \"min\": 4845}, \"Total Records Seen\": {\"count\": 1, \"max\": 483940, \"sum\": 483940.0, \"min\": 483940}, \"Max Records Seen Between Resets\": {\"count\": 1, \"max\": 34560, \"sum\": 34560.0, \"min\": 34560}, \"Reset Count\": {\"count\": 1, \"max\": 15, \"sum\": 15.0, \"min\": 15}}, \"EndTime\": 1550845773.365195, \"Dimensions\": {\"Host\": \"algo-1\", \"Meta\": \"training_data_iter\", \"Operation\": \"training\", \"Algorithm\": \"factorization-machines\", \"epoch\": 13}, \"StartTime\": 1550845772.763496}\n",
      "\u001b[0m\n",
      "\u001b[31m[02/22/2019 14:29:33 INFO 140042773481280] #throughput_metric: host=algo-1, train throughput=57424.671663 records/second\u001b[0m\n",
      "\u001b[31m[2019-02-22 14:29:33.365] [tensorio] [info] data_pipeline_stats={\"name\": \"/opt/ml/input/data/train\", \"epoch\": 14, \"duration\": 600, \"num_examples\": 346}\u001b[0m\n",
      "\u001b[31m[02/22/2019 14:29:33 INFO 140042773481280] #quality_metric: host=algo-1, epoch=14, batch=0 train rmse <loss>=0.600789885341\u001b[0m\n",
      "\u001b[31m[02/22/2019 14:29:33 INFO 140042773481280] #quality_metric: host=algo-1, epoch=14, train rmse <loss>=0.594250765094\u001b[0m\n",
      "\u001b[31m#metrics {\"Metrics\": {\"update.time\": {\"count\": 1, \"max\": 580.0950527191162, \"sum\": 580.0950527191162, \"min\": 580.0950527191162}}, \"EndTime\": 1550845773.945599, \"Dimensions\": {\"Host\": \"algo-1\", \"Operation\": \"training\", \"Algorithm\": \"factorization-machines\"}, \"StartTime\": 1550845773.365039}\n",
      "\u001b[0m\n",
      "\u001b[31m[02/22/2019 14:29:33 INFO 140042773481280] #progress_metric: host=algo-1, completed 7 % of epochs\u001b[0m\n",
      "\u001b[31m#metrics {\"Metrics\": {\"Max Batches Seen Between Resets\": {\"count\": 1, \"max\": 346, \"sum\": 346.0, \"min\": 346}, \"Number of Batches Since Last Reset\": {\"count\": 1, \"max\": 346, \"sum\": 346.0, \"min\": 346}, \"Number of Records Since Last Reset\": {\"count\": 1, \"max\": 34560, \"sum\": 34560.0, \"min\": 34560}, \"Total Batches Seen\": {\"count\": 1, \"max\": 5191, \"sum\": 5191.0, \"min\": 5191}, \"Total Records Seen\": {\"count\": 1, \"max\": 518500, \"sum\": 518500.0, \"min\": 518500}, \"Max Records Seen Between Resets\": {\"count\": 1, \"max\": 34560, \"sum\": 34560.0, \"min\": 34560}, \"Reset Count\": {\"count\": 1, \"max\": 16, \"sum\": 16.0, \"min\": 16}}, \"EndTime\": 1550845773.945785, \"Dimensions\": {\"Host\": \"algo-1\", \"Meta\": \"training_data_iter\", \"Operation\": \"training\", \"Algorithm\": \"factorization-machines\", \"epoch\": 14}, \"StartTime\": 1550845773.365472}\n",
      "\u001b[0m\n",
      "\u001b[31m[02/22/2019 14:29:33 INFO 140042773481280] #throughput_metric: host=algo-1, train throughput=59543.0877181 records/second\u001b[0m\n",
      "\u001b[31m[2019-02-22 14:29:33.945] [tensorio] [info] data_pipeline_stats={\"name\": \"/opt/ml/input/data/train\", \"epoch\": 15, \"duration\": 579, \"num_examples\": 346}\u001b[0m\n",
      "\u001b[31m[02/22/2019 14:29:33 INFO 140042773481280] #quality_metric: host=algo-1, epoch=15, batch=0 train rmse <loss>=0.59568532248\u001b[0m\n",
      "\u001b[31m[02/22/2019 14:29:34 INFO 140042773481280] #quality_metric: host=algo-1, epoch=15, train rmse <loss>=0.589483079972\u001b[0m\n",
      "\u001b[31m#metrics {\"Metrics\": {\"update.time\": {\"count\": 1, \"max\": 615.415096282959, \"sum\": 615.415096282959, \"min\": 615.415096282959}}, \"EndTime\": 1550845774.56161, \"Dimensions\": {\"Host\": \"algo-1\", \"Operation\": \"training\", \"Algorithm\": \"factorization-machines\"}, \"StartTime\": 1550845773.945661}\n",
      "\u001b[0m\n",
      "\u001b[31m[02/22/2019 14:29:34 INFO 140042773481280] #progress_metric: host=algo-1, completed 8 % of epochs\u001b[0m\n",
      "\u001b[31m#metrics {\"Metrics\": {\"Max Batches Seen Between Resets\": {\"count\": 1, \"max\": 346, \"sum\": 346.0, \"min\": 346}, \"Number of Batches Since Last Reset\": {\"count\": 1, \"max\": 346, \"sum\": 346.0, \"min\": 346}, \"Number of Records Since Last Reset\": {\"count\": 1, \"max\": 34560, \"sum\": 34560.0, \"min\": 34560}, \"Total Batches Seen\": {\"count\": 1, \"max\": 5537, \"sum\": 5537.0, \"min\": 5537}, \"Total Records Seen\": {\"count\": 1, \"max\": 553060, \"sum\": 553060.0, \"min\": 553060}, \"Max Records Seen Between Resets\": {\"count\": 1, \"max\": 34560, \"sum\": 34560.0, \"min\": 34560}, \"Reset Count\": {\"count\": 1, \"max\": 17, \"sum\": 17.0, \"min\": 17}}, \"EndTime\": 1550845774.561837, \"Dimensions\": {\"Host\": \"algo-1\", \"Meta\": \"training_data_iter\", \"Operation\": \"training\", \"Algorithm\": \"factorization-machines\", \"epoch\": 15}, \"StartTime\": 1550845773.946011}\n",
      "\u001b[0m\n",
      "\u001b[31m[02/22/2019 14:29:34 INFO 140042773481280] #throughput_metric: host=algo-1, train throughput=56109.6350855 records/second\u001b[0m\n",
      "\u001b[31m[2019-02-22 14:29:34.562] [tensorio] [info] data_pipeline_stats={\"name\": \"/opt/ml/input/data/train\", \"epoch\": 16, \"duration\": 614, \"num_examples\": 346}\u001b[0m\n",
      "\u001b[31m[02/22/2019 14:29:34 INFO 140042773481280] #quality_metric: host=algo-1, epoch=16, batch=0 train rmse <loss>=0.590780538434\u001b[0m\n",
      "\u001b[31m[02/22/2019 14:29:35 INFO 140042773481280] #quality_metric: host=algo-1, epoch=16, train rmse <loss>=0.584820644999\u001b[0m\n",
      "\u001b[31m#metrics {\"Metrics\": {\"update.time\": {\"count\": 1, \"max\": 582.9989910125732, \"sum\": 582.9989910125732, \"min\": 582.9989910125732}}, \"EndTime\": 1550845775.145121, \"Dimensions\": {\"Host\": \"algo-1\", \"Operation\": \"training\", \"Algorithm\": \"factorization-machines\"}, \"StartTime\": 1550845774.561686}\n",
      "\u001b[0m\n",
      "\u001b[31m[02/22/2019 14:29:35 INFO 140042773481280] #progress_metric: host=algo-1, completed 8 % of epochs\u001b[0m\n",
      "\u001b[31m#metrics {\"Metrics\": {\"Max Batches Seen Between Resets\": {\"count\": 1, \"max\": 346, \"sum\": 346.0, \"min\": 346}, \"Number of Batches Since Last Reset\": {\"count\": 1, \"max\": 346, \"sum\": 346.0, \"min\": 346}, \"Number of Records Since Last Reset\": {\"count\": 1, \"max\": 34560, \"sum\": 34560.0, \"min\": 34560}, \"Total Batches Seen\": {\"count\": 1, \"max\": 5883, \"sum\": 5883.0, \"min\": 5883}, \"Total Records Seen\": {\"count\": 1, \"max\": 587620, \"sum\": 587620.0, \"min\": 587620}, \"Max Records Seen Between Resets\": {\"count\": 1, \"max\": 34560, \"sum\": 34560.0, \"min\": 34560}, \"Reset Count\": {\"count\": 1, \"max\": 18, \"sum\": 18.0, \"min\": 18}}, \"EndTime\": 1550845775.145325, \"Dimensions\": {\"Host\": \"algo-1\", \"Meta\": \"training_data_iter\", \"Operation\": \"training\", \"Algorithm\": \"factorization-machines\", \"epoch\": 16}, \"StartTime\": 1550845774.562092}\n",
      "\u001b[0m\n",
      "\u001b[31m[02/22/2019 14:29:35 INFO 140042773481280] #throughput_metric: host=algo-1, train throughput=59243.3978305 records/second\u001b[0m\n",
      "\u001b[31m[2019-02-22 14:29:35.145] [tensorio] [info] data_pipeline_stats={\"name\": \"/opt/ml/input/data/train\", \"epoch\": 17, \"duration\": 582, \"num_examples\": 346}\u001b[0m\n",
      "\u001b[31m[02/22/2019 14:29:35 INFO 140042773481280] #quality_metric: host=algo-1, epoch=17, batch=0 train rmse <loss>=0.585999638632\u001b[0m\n",
      "\u001b[31m[02/22/2019 14:29:35 INFO 140042773481280] #quality_metric: host=algo-1, epoch=17, train rmse <loss>=0.580224737908\u001b[0m\n",
      "\u001b[31m#metrics {\"Metrics\": {\"update.time\": {\"count\": 1, \"max\": 569.8659420013428, \"sum\": 569.8659420013428, \"min\": 569.8659420013428}}, \"EndTime\": 1550845775.715478, \"Dimensions\": {\"Host\": \"algo-1\", \"Operation\": \"training\", \"Algorithm\": \"factorization-machines\"}, \"StartTime\": 1550845775.145185}\n",
      "\u001b[0m\n",
      "\u001b[31m[02/22/2019 14:29:35 INFO 140042773481280] #progress_metric: host=algo-1, completed 9 % of epochs\u001b[0m\n",
      "\u001b[31m#metrics {\"Metrics\": {\"Max Batches Seen Between Resets\": {\"count\": 1, \"max\": 346, \"sum\": 346.0, \"min\": 346}, \"Number of Batches Since Last Reset\": {\"count\": 1, \"max\": 346, \"sum\": 346.0, \"min\": 346}, \"Number of Records Since Last Reset\": {\"count\": 1, \"max\": 34560, \"sum\": 34560.0, \"min\": 34560}, \"Total Batches Seen\": {\"count\": 1, \"max\": 6229, \"sum\": 6229.0, \"min\": 6229}, \"Total Records Seen\": {\"count\": 1, \"max\": 622180, \"sum\": 622180.0, \"min\": 622180}, \"Max Records Seen Between Resets\": {\"count\": 1, \"max\": 34560, \"sum\": 34560.0, \"min\": 34560}, \"Reset Count\": {\"count\": 1, \"max\": 19, \"sum\": 19.0, \"min\": 19}}, \"EndTime\": 1550845775.715746, \"Dimensions\": {\"Host\": \"algo-1\", \"Meta\": \"training_data_iter\", \"Operation\": \"training\", \"Algorithm\": \"factorization-machines\", \"epoch\": 17}, \"StartTime\": 1550845775.14558}\n",
      "\u001b[0m\n",
      "\u001b[31m[02/22/2019 14:29:35 INFO 140042773481280] #throughput_metric: host=algo-1, train throughput=60601.0669255 records/second\u001b[0m\n",
      "\u001b[31m[2019-02-22 14:29:35.715] [tensorio] [info] data_pipeline_stats={\"name\": \"/opt/ml/input/data/train\", \"epoch\": 18, \"duration\": 568, \"num_examples\": 346}\u001b[0m\n",
      "\u001b[31m[02/22/2019 14:29:35 INFO 140042773481280] #quality_metric: host=algo-1, epoch=18, batch=0 train rmse <loss>=0.58128301055\u001b[0m\n",
      "\u001b[31m[02/22/2019 14:29:36 INFO 140042773481280] #quality_metric: host=algo-1, epoch=18, train rmse <loss>=0.575665498857\u001b[0m\n",
      "\u001b[31m#metrics {\"Metrics\": {\"update.time\": {\"count\": 1, \"max\": 606.6930294036865, \"sum\": 606.6930294036865, \"min\": 606.6930294036865}}, \"EndTime\": 1550845776.322746, \"Dimensions\": {\"Host\": \"algo-1\", \"Operation\": \"training\", \"Algorithm\": \"factorization-machines\"}, \"StartTime\": 1550845775.715573}\n",
      "\u001b[0m\n",
      "\u001b[31m[02/22/2019 14:29:36 INFO 140042773481280] #progress_metric: host=algo-1, completed 9 % of epochs\u001b[0m\n",
      "\u001b[31m#metrics {\"Metrics\": {\"Max Batches Seen Between Resets\": {\"count\": 1, \"max\": 346, \"sum\": 346.0, \"min\": 346}, \"Number of Batches Since Last Reset\": {\"count\": 1, \"max\": 346, \"sum\": 346.0, \"min\": 346}, \"Number of Records Since Last Reset\": {\"count\": 1, \"max\": 34560, \"sum\": 34560.0, \"min\": 34560}, \"Total Batches Seen\": {\"count\": 1, \"max\": 6575, \"sum\": 6575.0, \"min\": 6575}, \"Total Records Seen\": {\"count\": 1, \"max\": 656740, \"sum\": 656740.0, \"min\": 656740}, \"Max Records Seen Between Resets\": {\"count\": 1, \"max\": 34560, \"sum\": 34560.0, \"min\": 34560}, \"Reset Count\": {\"count\": 1, \"max\": 20, \"sum\": 20.0, \"min\": 20}}, \"EndTime\": 1550845776.323084, \"Dimensions\": {\"Host\": \"algo-1\", \"Meta\": \"training_data_iter\", \"Operation\": \"training\", \"Algorithm\": \"factorization-machines\", \"epoch\": 18}, \"StartTime\": 1550845775.716021}\n",
      "\u001b[0m\n",
      "\u001b[31m[02/22/2019 14:29:36 INFO 140042773481280] #throughput_metric: host=algo-1, train throughput=56918.1221888 records/second\u001b[0m\n",
      "\u001b[31m[2019-02-22 14:29:36.323] [tensorio] [info] data_pipeline_stats={\"name\": \"/opt/ml/input/data/train\", \"epoch\": 19, \"duration\": 605, \"num_examples\": 346}\u001b[0m\n",
      "\u001b[31m[02/22/2019 14:29:36 INFO 140042773481280] #quality_metric: host=algo-1, epoch=19, batch=0 train rmse <loss>=0.576585358784\u001b[0m\n",
      "\u001b[31m[02/22/2019 14:29:36 INFO 140042773481280] #quality_metric: host=algo-1, epoch=19, train rmse <loss>=0.571119661807\u001b[0m\n",
      "\u001b[31m#metrics {\"Metrics\": {\"update.time\": {\"count\": 1, \"max\": 572.0319747924805, \"sum\": 572.0319747924805, \"min\": 572.0319747924805}}, \"EndTime\": 1550845776.895406, \"Dimensions\": {\"Host\": \"algo-1\", \"Operation\": \"training\", \"Algorithm\": \"factorization-machines\"}, \"StartTime\": 1550845776.322816}\n",
      "\u001b[0m\n",
      "\u001b[31m[02/22/2019 14:29:36 INFO 140042773481280] #progress_metric: host=algo-1, completed 10 % of epochs\u001b[0m\n",
      "\u001b[31m#metrics {\"Metrics\": {\"Max Batches Seen Between Resets\": {\"count\": 1, \"max\": 346, \"sum\": 346.0, \"min\": 346}, \"Number of Batches Since Last Reset\": {\"count\": 1, \"max\": 346, \"sum\": 346.0, \"min\": 346}, \"Number of Records Since Last Reset\": {\"count\": 1, \"max\": 34560, \"sum\": 34560.0, \"min\": 34560}, \"Total Batches Seen\": {\"count\": 1, \"max\": 6921, \"sum\": 6921.0, \"min\": 6921}, \"Total Records Seen\": {\"count\": 1, \"max\": 691300, \"sum\": 691300.0, \"min\": 691300}, \"Max Records Seen Between Resets\": {\"count\": 1, \"max\": 34560, \"sum\": 34560.0, \"min\": 34560}, \"Reset Count\": {\"count\": 1, \"max\": 21, \"sum\": 21.0, \"min\": 21}}, \"EndTime\": 1550845776.895591, \"Dimensions\": {\"Host\": \"algo-1\", \"Meta\": \"training_data_iter\", \"Operation\": \"training\", \"Algorithm\": \"factorization-machines\", \"epoch\": 19}, \"StartTime\": 1550845776.323342}\n",
      "\u001b[0m\n",
      "\u001b[31m[02/22/2019 14:29:36 INFO 140042773481280] #throughput_metric: host=algo-1, train throughput=60380.4169621 records/second\u001b[0m\n",
      "\u001b[31m[2019-02-22 14:29:36.895] [tensorio] [info] data_pipeline_stats={\"name\": \"/opt/ml/input/data/train\", \"epoch\": 20, \"duration\": 570, \"num_examples\": 346}\u001b[0m\n",
      "\u001b[31m[02/22/2019 14:29:36 INFO 140042773481280] #quality_metric: host=algo-1, epoch=20, batch=0 train rmse <loss>=0.571873999423\u001b[0m\n",
      "\u001b[31m[02/22/2019 14:29:37 INFO 140042773481280] #quality_metric: host=algo-1, epoch=20, train rmse <loss>=0.566569048838\u001b[0m\n",
      "\u001b[31m#metrics {\"Metrics\": {\"update.time\": {\"count\": 1, \"max\": 573.0319023132324, \"sum\": 573.0319023132324, \"min\": 573.0319023132324}}, \"EndTime\": 1550845777.468926, \"Dimensions\": {\"Host\": \"algo-1\", \"Operation\": \"training\", \"Algorithm\": \"factorization-machines\"}, \"StartTime\": 1550845776.895469}\n",
      "\u001b[0m\n",
      "\u001b[31m[02/22/2019 14:29:37 INFO 140042773481280] #progress_metric: host=algo-1, completed 10 % of epochs\u001b[0m\n",
      "\u001b[31m#metrics {\"Metrics\": {\"Max Batches Seen Between Resets\": {\"count\": 1, \"max\": 346, \"sum\": 346.0, \"min\": 346}, \"Number of Batches Since Last Reset\": {\"count\": 1, \"max\": 346, \"sum\": 346.0, \"min\": 346}, \"Number of Records Since Last Reset\": {\"count\": 1, \"max\": 34560, \"sum\": 34560.0, \"min\": 34560}, \"Total Batches Seen\": {\"count\": 1, \"max\": 7267, \"sum\": 7267.0, \"min\": 7267}, \"Total Records Seen\": {\"count\": 1, \"max\": 725860, \"sum\": 725860.0, \"min\": 725860}, \"Max Records Seen Between Resets\": {\"count\": 1, \"max\": 34560, \"sum\": 34560.0, \"min\": 34560}, \"Reset Count\": {\"count\": 1, \"max\": 22, \"sum\": 22.0, \"min\": 22}}, \"EndTime\": 1550845777.469151, \"Dimensions\": {\"Host\": \"algo-1\", \"Meta\": \"training_data_iter\", \"Operation\": \"training\", \"Algorithm\": \"factorization-machines\", \"epoch\": 20}, \"StartTime\": 1550845776.895862}\n",
      "\u001b[0m\n",
      "\u001b[31m[02/22/2019 14:29:37 INFO 140042773481280] #throughput_metric: host=algo-1, train throughput=60269.9541723 records/second\u001b[0m\n",
      "\u001b[31m[2019-02-22 14:29:37.469] [tensorio] [info] data_pipeline_stats={\"name\": \"/opt/ml/input/data/train\", \"epoch\": 21, \"duration\": 572, \"num_examples\": 346}\u001b[0m\n",
      "\u001b[31m[02/22/2019 14:29:37 INFO 140042773481280] #quality_metric: host=algo-1, epoch=21, batch=0 train rmse <loss>=0.567126629718\u001b[0m\n",
      "\u001b[31m[02/22/2019 14:29:38 INFO 140042773481280] #quality_metric: host=algo-1, epoch=21, train rmse <loss>=0.561999428297\u001b[0m\n",
      "\u001b[31m#metrics {\"Metrics\": {\"update.time\": {\"count\": 1, \"max\": 586.3640308380127, \"sum\": 586.3640308380127, \"min\": 586.3640308380127}}, \"EndTime\": 1550845778.055821, \"Dimensions\": {\"Host\": \"algo-1\", \"Operation\": \"training\", \"Algorithm\": \"factorization-machines\"}, \"StartTime\": 1550845777.468998}\n",
      "\u001b[0m\n",
      "\u001b[31m[02/22/2019 14:29:38 INFO 140042773481280] #progress_metric: host=algo-1, completed 11 % of epochs\u001b[0m\n",
      "\u001b[31m#metrics {\"Metrics\": {\"Max Batches Seen Between Resets\": {\"count\": 1, \"max\": 346, \"sum\": 346.0, \"min\": 346}, \"Number of Batches Since Last Reset\": {\"count\": 1, \"max\": 346, \"sum\": 346.0, \"min\": 346}, \"Number of Records Since Last Reset\": {\"count\": 1, \"max\": 34560, \"sum\": 34560.0, \"min\": 34560}, \"Total Batches Seen\": {\"count\": 1, \"max\": 7613, \"sum\": 7613.0, \"min\": 7613}, \"Total Records Seen\": {\"count\": 1, \"max\": 760420, \"sum\": 760420.0, \"min\": 760420}, \"Max Records Seen Between Resets\": {\"count\": 1, \"max\": 34560, \"sum\": 34560.0, \"min\": 34560}, \"Reset Count\": {\"count\": 1, \"max\": 23, \"sum\": 23.0, \"min\": 23}}, \"EndTime\": 1550845778.056101, \"Dimensions\": {\"Host\": \"algo-1\", \"Meta\": \"training_data_iter\", \"Operation\": \"training\", \"Algorithm\": \"factorization-machines\", \"epoch\": 21}, \"StartTime\": 1550845777.469426}\n",
      "\u001b[0m\n",
      "\u001b[31m[02/22/2019 14:29:38 INFO 140042773481280] #throughput_metric: host=algo-1, train throughput=58893.2070814 records/second\u001b[0m\n",
      "\u001b[31m[2019-02-22 14:29:38.056] [tensorio] [info] data_pipeline_stats={\"name\": \"/opt/ml/input/data/train\", \"epoch\": 22, \"duration\": 585, \"num_examples\": 346}\u001b[0m\n",
      "\u001b[31m[02/22/2019 14:29:38 INFO 140042773481280] #quality_metric: host=algo-1, epoch=22, batch=0 train rmse <loss>=0.562329584374\u001b[0m\n",
      "\u001b[31m[02/22/2019 14:29:38 INFO 140042773481280] #quality_metric: host=algo-1, epoch=22, train rmse <loss>=0.557399643876\u001b[0m\n",
      "\u001b[31m#metrics {\"Metrics\": {\"update.time\": {\"count\": 1, \"max\": 614.4459247589111, \"sum\": 614.4459247589111, \"min\": 614.4459247589111}}, \"EndTime\": 1550845778.670947, \"Dimensions\": {\"Host\": \"algo-1\", \"Operation\": \"training\", \"Algorithm\": \"factorization-machines\"}, \"StartTime\": 1550845778.05592}\n",
      "\u001b[0m\n",
      "\u001b[31m[02/22/2019 14:29:38 INFO 140042773481280] #progress_metric: host=algo-1, completed 11 % of epochs\u001b[0m\n",
      "\u001b[31m#metrics {\"Metrics\": {\"Max Batches Seen Between Resets\": {\"count\": 1, \"max\": 346, \"sum\": 346.0, \"min\": 346}, \"Number of Batches Since Last Reset\": {\"count\": 1, \"max\": 346, \"sum\": 346.0, \"min\": 346}, \"Number of Records Since Last Reset\": {\"count\": 1, \"max\": 34560, \"sum\": 34560.0, \"min\": 34560}, \"Total Batches Seen\": {\"count\": 1, \"max\": 7959, \"sum\": 7959.0, \"min\": 7959}, \"Total Records Seen\": {\"count\": 1, \"max\": 794980, \"sum\": 794980.0, \"min\": 794980}, \"Max Records Seen Between Resets\": {\"count\": 1, \"max\": 34560, \"sum\": 34560.0, \"min\": 34560}, \"Reset Count\": {\"count\": 1, \"max\": 24, \"sum\": 24.0, \"min\": 24}}, \"EndTime\": 1550845778.671154, \"Dimensions\": {\"Host\": \"algo-1\", \"Meta\": \"training_data_iter\", \"Operation\": \"training\", \"Algorithm\": \"factorization-machines\", \"epoch\": 22}, \"StartTime\": 1550845778.056454}\n",
      "\u001b[0m\n",
      "\u001b[31m[02/22/2019 14:29:38 INFO 140042773481280] #throughput_metric: host=algo-1, train throughput=56210.8326741 records/second\u001b[0m\n",
      "\u001b[31m[2019-02-22 14:29:38.671] [tensorio] [info] data_pipeline_stats={\"name\": \"/opt/ml/input/data/train\", \"epoch\": 23, \"duration\": 613, \"num_examples\": 346}\u001b[0m\n",
      "\u001b[31m[02/22/2019 14:29:38 INFO 140042773481280] #quality_metric: host=algo-1, epoch=23, batch=0 train rmse <loss>=0.557475473865\u001b[0m\n",
      "\u001b[31m[02/22/2019 14:29:39 INFO 140042773481280] #quality_metric: host=algo-1, epoch=23, train rmse <loss>=0.552760819087\u001b[0m\n",
      "\u001b[31m#metrics {\"Metrics\": {\"update.time\": {\"count\": 1, \"max\": 573.6470222473145, \"sum\": 573.6470222473145, \"min\": 573.6470222473145}}, \"EndTime\": 1550845779.245077, \"Dimensions\": {\"Host\": \"algo-1\", \"Operation\": \"training\", \"Algorithm\": \"factorization-machines\"}, \"StartTime\": 1550845778.671012}\n",
      "\u001b[0m\n",
      "\u001b[31m[02/22/2019 14:29:39 INFO 140042773481280] #progress_metric: host=algo-1, completed 12 % of epochs\u001b[0m\n",
      "\u001b[31m#metrics {\"Metrics\": {\"Max Batches Seen Between Resets\": {\"count\": 1, \"max\": 346, \"sum\": 346.0, \"min\": 346}, \"Number of Batches Since Last Reset\": {\"count\": 1, \"max\": 346, \"sum\": 346.0, \"min\": 346}, \"Number of Records Since Last Reset\": {\"count\": 1, \"max\": 34560, \"sum\": 34560.0, \"min\": 34560}, \"Total Batches Seen\": {\"count\": 1, \"max\": 8305, \"sum\": 8305.0, \"min\": 8305}, \"Total Records Seen\": {\"count\": 1, \"max\": 829540, \"sum\": 829540.0, \"min\": 829540}, \"Max Records Seen Between Resets\": {\"count\": 1, \"max\": 34560, \"sum\": 34560.0, \"min\": 34560}, \"Reset Count\": {\"count\": 1, \"max\": 25, \"sum\": 25.0, \"min\": 25}}, \"EndTime\": 1550845779.245273, \"Dimensions\": {\"Host\": \"algo-1\", \"Meta\": \"training_data_iter\", \"Operation\": \"training\", \"Algorithm\": \"factorization-machines\", \"epoch\": 23}, \"StartTime\": 1550845778.671399}\n",
      "\u001b[0m\n",
      "\u001b[31m[02/22/2019 14:29:39 INFO 140042773481280] #throughput_metric: host=algo-1, train throughput=60208.8715692 records/second\u001b[0m\n",
      "\u001b[31m[2019-02-22 14:29:39.245] [tensorio] [info] data_pipeline_stats={\"name\": \"/opt/ml/input/data/train\", \"epoch\": 24, \"duration\": 572, \"num_examples\": 346}\u001b[0m\n",
      "\u001b[31m[02/22/2019 14:29:39 INFO 140042773481280] #quality_metric: host=algo-1, epoch=24, batch=0 train rmse <loss>=0.552560878524\u001b[0m\n",
      "\u001b[31m[02/22/2019 14:29:39 INFO 140042773481280] #quality_metric: host=algo-1, epoch=24, train rmse <loss>=0.548075734644\u001b[0m\n",
      "\u001b[31m#metrics {\"Metrics\": {\"update.time\": {\"count\": 1, \"max\": 575.3769874572754, \"sum\": 575.3769874572754, \"min\": 575.3769874572754}}, \"EndTime\": 1550845779.820964, \"Dimensions\": {\"Host\": \"algo-1\", \"Operation\": \"training\", \"Algorithm\": \"factorization-machines\"}, \"StartTime\": 1550845779.245133}\n",
      "\u001b[0m\n",
      "\u001b[31m[02/22/2019 14:29:39 INFO 140042773481280] #progress_metric: host=algo-1, completed 12 % of epochs\u001b[0m\n",
      "\u001b[31m#metrics {\"Metrics\": {\"Max Batches Seen Between Resets\": {\"count\": 1, \"max\": 346, \"sum\": 346.0, \"min\": 346}, \"Number of Batches Since Last Reset\": {\"count\": 1, \"max\": 346, \"sum\": 346.0, \"min\": 346}, \"Number of Records Since Last Reset\": {\"count\": 1, \"max\": 34560, \"sum\": 34560.0, \"min\": 34560}, \"Total Batches Seen\": {\"count\": 1, \"max\": 8651, \"sum\": 8651.0, \"min\": 8651}, \"Total Records Seen\": {\"count\": 1, \"max\": 864100, \"sum\": 864100.0, \"min\": 864100}, \"Max Records Seen Between Resets\": {\"count\": 1, \"max\": 34560, \"sum\": 34560.0, \"min\": 34560}, \"Reset Count\": {\"count\": 1, \"max\": 26, \"sum\": 26.0, \"min\": 26}}, \"EndTime\": 1550845779.821195, \"Dimensions\": {\"Host\": \"algo-1\", \"Meta\": \"training_data_iter\", \"Operation\": \"training\", \"Algorithm\": \"factorization-machines\", \"epoch\": 24}, \"StartTime\": 1550845779.245555}\n",
      "\u001b[0m\n",
      "\u001b[31m[02/22/2019 14:29:39 INFO 140042773481280] #throughput_metric: host=algo-1, train throughput=60024.5995804 records/second\u001b[0m\n",
      "\u001b[31m[2019-02-22 14:29:39.821] [tensorio] [info] data_pipeline_stats={\"name\": \"/opt/ml/input/data/train\", \"epoch\": 25, \"duration\": 574, \"num_examples\": 346}\u001b[0m\n",
      "\u001b[31m[02/22/2019 14:29:39 INFO 140042773481280] #quality_metric: host=algo-1, epoch=25, batch=0 train rmse <loss>=0.547584744518\u001b[0m\n"
     ]
    },
    {
     "name": "stdout",
     "output_type": "stream",
     "text": [
      "\u001b[31m[02/22/2019 14:29:40 INFO 140042773481280] #quality_metric: host=algo-1, epoch=25, train rmse <loss>=0.543338305246\u001b[0m\n",
      "\u001b[31m#metrics {\"Metrics\": {\"update.time\": {\"count\": 1, \"max\": 578.0069828033447, \"sum\": 578.0069828033447, \"min\": 578.0069828033447}}, \"EndTime\": 1550845780.3995, \"Dimensions\": {\"Host\": \"algo-1\", \"Operation\": \"training\", \"Algorithm\": \"factorization-machines\"}, \"StartTime\": 1550845779.821034}\n",
      "\u001b[0m\n",
      "\u001b[31m[02/22/2019 14:29:40 INFO 140042773481280] #progress_metric: host=algo-1, completed 13 % of epochs\u001b[0m\n",
      "\u001b[31m#metrics {\"Metrics\": {\"Max Batches Seen Between Resets\": {\"count\": 1, \"max\": 346, \"sum\": 346.0, \"min\": 346}, \"Number of Batches Since Last Reset\": {\"count\": 1, \"max\": 346, \"sum\": 346.0, \"min\": 346}, \"Number of Records Since Last Reset\": {\"count\": 1, \"max\": 34560, \"sum\": 34560.0, \"min\": 34560}, \"Total Batches Seen\": {\"count\": 1, \"max\": 8997, \"sum\": 8997.0, \"min\": 8997}, \"Total Records Seen\": {\"count\": 1, \"max\": 898660, \"sum\": 898660.0, \"min\": 898660}, \"Max Records Seen Between Resets\": {\"count\": 1, \"max\": 34560, \"sum\": 34560.0, \"min\": 34560}, \"Reset Count\": {\"count\": 1, \"max\": 27, \"sum\": 27.0, \"min\": 27}}, \"EndTime\": 1550845780.399726, \"Dimensions\": {\"Host\": \"algo-1\", \"Meta\": \"training_data_iter\", \"Operation\": \"training\", \"Algorithm\": \"factorization-machines\", \"epoch\": 25}, \"StartTime\": 1550845779.821461}\n",
      "\u001b[0m\n",
      "\u001b[31m[02/22/2019 14:29:40 INFO 140042773481280] #throughput_metric: host=algo-1, train throughput=59751.5652499 records/second\u001b[0m\n",
      "\u001b[31m[2019-02-22 14:29:40.399] [tensorio] [info] data_pipeline_stats={\"name\": \"/opt/ml/input/data/train\", \"epoch\": 26, \"duration\": 576, \"num_examples\": 346}\u001b[0m\n",
      "\u001b[31m[02/22/2019 14:29:40 INFO 140042773481280] #quality_metric: host=algo-1, epoch=26, batch=0 train rmse <loss>=0.542546292628\u001b[0m\n",
      "\u001b[31m[02/22/2019 14:29:41 INFO 140042773481280] #quality_metric: host=algo-1, epoch=26, train rmse <loss>=0.538543147527\u001b[0m\n",
      "\u001b[31m#metrics {\"Metrics\": {\"update.time\": {\"count\": 1, \"max\": 600.8701324462891, \"sum\": 600.8701324462891, \"min\": 600.8701324462891}}, \"EndTime\": 1550845781.000902, \"Dimensions\": {\"Host\": \"algo-1\", \"Operation\": \"training\", \"Algorithm\": \"factorization-machines\"}, \"StartTime\": 1550845780.399571}\n",
      "\u001b[0m\n",
      "\u001b[31m[02/22/2019 14:29:41 INFO 140042773481280] #progress_metric: host=algo-1, completed 13 % of epochs\u001b[0m\n",
      "\u001b[31m#metrics {\"Metrics\": {\"Max Batches Seen Between Resets\": {\"count\": 1, \"max\": 346, \"sum\": 346.0, \"min\": 346}, \"Number of Batches Since Last Reset\": {\"count\": 1, \"max\": 346, \"sum\": 346.0, \"min\": 346}, \"Number of Records Since Last Reset\": {\"count\": 1, \"max\": 34560, \"sum\": 34560.0, \"min\": 34560}, \"Total Batches Seen\": {\"count\": 1, \"max\": 9343, \"sum\": 9343.0, \"min\": 9343}, \"Total Records Seen\": {\"count\": 1, \"max\": 933220, \"sum\": 933220.0, \"min\": 933220}, \"Max Records Seen Between Resets\": {\"count\": 1, \"max\": 34560, \"sum\": 34560.0, \"min\": 34560}, \"Reset Count\": {\"count\": 1, \"max\": 28, \"sum\": 28.0, \"min\": 28}}, \"EndTime\": 1550845781.00107, \"Dimensions\": {\"Host\": \"algo-1\", \"Meta\": \"training_data_iter\", \"Operation\": \"training\", \"Algorithm\": \"factorization-machines\", \"epoch\": 26}, \"StartTime\": 1550845780.400006}\n",
      "\u001b[0m\n",
      "\u001b[31m[02/22/2019 14:29:41 INFO 140042773481280] #throughput_metric: host=algo-1, train throughput=57487.5961837 records/second\u001b[0m\n",
      "\u001b[31m[2019-02-22 14:29:41.001] [tensorio] [info] data_pipeline_stats={\"name\": \"/opt/ml/input/data/train\", \"epoch\": 27, \"duration\": 599, \"num_examples\": 346}\u001b[0m\n",
      "\u001b[31m[02/22/2019 14:29:41 INFO 140042773481280] #quality_metric: host=algo-1, epoch=27, batch=0 train rmse <loss>=0.537444391257\u001b[0m\n",
      "\u001b[31m[02/22/2019 14:29:41 INFO 140042773481280] #quality_metric: host=algo-1, epoch=27, train rmse <loss>=0.53368525749\u001b[0m\n",
      "\u001b[31m#metrics {\"Metrics\": {\"update.time\": {\"count\": 1, \"max\": 574.8989582061768, \"sum\": 574.8989582061768, \"min\": 574.8989582061768}}, \"EndTime\": 1550845781.576269, \"Dimensions\": {\"Host\": \"algo-1\", \"Operation\": \"training\", \"Algorithm\": \"factorization-machines\"}, \"StartTime\": 1550845781.000954}\n",
      "\u001b[0m\n",
      "\u001b[31m[02/22/2019 14:29:41 INFO 140042773481280] #progress_metric: host=algo-1, completed 14 % of epochs\u001b[0m\n",
      "\u001b[31m#metrics {\"Metrics\": {\"Max Batches Seen Between Resets\": {\"count\": 1, \"max\": 346, \"sum\": 346.0, \"min\": 346}, \"Number of Batches Since Last Reset\": {\"count\": 1, \"max\": 346, \"sum\": 346.0, \"min\": 346}, \"Number of Records Since Last Reset\": {\"count\": 1, \"max\": 34560, \"sum\": 34560.0, \"min\": 34560}, \"Total Batches Seen\": {\"count\": 1, \"max\": 9689, \"sum\": 9689.0, \"min\": 9689}, \"Total Records Seen\": {\"count\": 1, \"max\": 967780, \"sum\": 967780.0, \"min\": 967780}, \"Max Records Seen Between Resets\": {\"count\": 1, \"max\": 34560, \"sum\": 34560.0, \"min\": 34560}, \"Reset Count\": {\"count\": 1, \"max\": 29, \"sum\": 29.0, \"min\": 29}}, \"EndTime\": 1550845781.576473, \"Dimensions\": {\"Host\": \"algo-1\", \"Meta\": \"training_data_iter\", \"Operation\": \"training\", \"Algorithm\": \"factorization-machines\", \"epoch\": 27}, \"StartTime\": 1550845781.00133}\n",
      "\u001b[0m\n",
      "\u001b[31m[02/22/2019 14:29:41 INFO 140042773481280] #throughput_metric: host=algo-1, train throughput=60076.5430627 records/second\u001b[0m\n",
      "\u001b[31m[2019-02-22 14:29:41.576] [tensorio] [info] data_pipeline_stats={\"name\": \"/opt/ml/input/data/train\", \"epoch\": 28, \"duration\": 573, \"num_examples\": 346}\u001b[0m\n",
      "\u001b[31m[02/22/2019 14:29:41 INFO 140042773481280] #quality_metric: host=algo-1, epoch=28, batch=0 train rmse <loss>=0.53227640965\u001b[0m\n",
      "\u001b[31m[02/22/2019 14:29:42 INFO 140042773481280] #quality_metric: host=algo-1, epoch=28, train rmse <loss>=0.528759810572\u001b[0m\n",
      "\u001b[31m#metrics {\"Metrics\": {\"update.time\": {\"count\": 1, \"max\": 572.7839469909668, \"sum\": 572.7839469909668, \"min\": 572.7839469909668}}, \"EndTime\": 1550845782.149534, \"Dimensions\": {\"Host\": \"algo-1\", \"Operation\": \"training\", \"Algorithm\": \"factorization-machines\"}, \"StartTime\": 1550845781.576333}\n",
      "\u001b[0m\n",
      "\u001b[31m[02/22/2019 14:29:42 INFO 140042773481280] #progress_metric: host=algo-1, completed 14 % of epochs\u001b[0m\n",
      "\u001b[31m#metrics {\"Metrics\": {\"Max Batches Seen Between Resets\": {\"count\": 1, \"max\": 346, \"sum\": 346.0, \"min\": 346}, \"Number of Batches Since Last Reset\": {\"count\": 1, \"max\": 346, \"sum\": 346.0, \"min\": 346}, \"Number of Records Since Last Reset\": {\"count\": 1, \"max\": 34560, \"sum\": 34560.0, \"min\": 34560}, \"Total Batches Seen\": {\"count\": 1, \"max\": 10035, \"sum\": 10035.0, \"min\": 10035}, \"Total Records Seen\": {\"count\": 1, \"max\": 1002340, \"sum\": 1002340.0, \"min\": 1002340}, \"Max Records Seen Between Resets\": {\"count\": 1, \"max\": 34560, \"sum\": 34560.0, \"min\": 34560}, \"Reset Count\": {\"count\": 1, \"max\": 30, \"sum\": 30.0, \"min\": 30}}, \"EndTime\": 1550845782.149737, \"Dimensions\": {\"Host\": \"algo-1\", \"Meta\": \"training_data_iter\", \"Operation\": \"training\", \"Algorithm\": \"factorization-machines\", \"epoch\": 28}, \"StartTime\": 1550845781.576719}\n",
      "\u001b[0m\n",
      "\u001b[31m[02/22/2019 14:29:42 INFO 140042773481280] #throughput_metric: host=algo-1, train throughput=60300.667398 records/second\u001b[0m\n",
      "\u001b[31m[2019-02-22 14:29:42.149] [tensorio] [info] data_pipeline_stats={\"name\": \"/opt/ml/input/data/train\", \"epoch\": 29, \"duration\": 571, \"num_examples\": 346}\u001b[0m\n",
      "\u001b[31m[02/22/2019 14:29:42 INFO 140042773481280] #quality_metric: host=algo-1, epoch=29, batch=0 train rmse <loss>=0.5270379973\u001b[0m\n",
      "\u001b[31m[02/22/2019 14:29:42 INFO 140042773481280] #quality_metric: host=algo-1, epoch=29, train rmse <loss>=0.523761978344\u001b[0m\n",
      "\u001b[31m#metrics {\"Metrics\": {\"update.time\": {\"count\": 1, \"max\": 614.6988868713379, \"sum\": 614.6988868713379, \"min\": 614.6988868713379}}, \"EndTime\": 1550845782.764704, \"Dimensions\": {\"Host\": \"algo-1\", \"Operation\": \"training\", \"Algorithm\": \"factorization-machines\"}, \"StartTime\": 1550845782.149599}\n",
      "\u001b[0m\n",
      "\u001b[31m[02/22/2019 14:29:42 INFO 140042773481280] #progress_metric: host=algo-1, completed 15 % of epochs\u001b[0m\n",
      "\u001b[31m#metrics {\"Metrics\": {\"Max Batches Seen Between Resets\": {\"count\": 1, \"max\": 346, \"sum\": 346.0, \"min\": 346}, \"Number of Batches Since Last Reset\": {\"count\": 1, \"max\": 346, \"sum\": 346.0, \"min\": 346}, \"Number of Records Since Last Reset\": {\"count\": 1, \"max\": 34560, \"sum\": 34560.0, \"min\": 34560}, \"Total Batches Seen\": {\"count\": 1, \"max\": 10381, \"sum\": 10381.0, \"min\": 10381}, \"Total Records Seen\": {\"count\": 1, \"max\": 1036900, \"sum\": 1036900.0, \"min\": 1036900}, \"Max Records Seen Between Resets\": {\"count\": 1, \"max\": 34560, \"sum\": 34560.0, \"min\": 34560}, \"Reset Count\": {\"count\": 1, \"max\": 31, \"sum\": 31.0, \"min\": 31}}, \"EndTime\": 1550845782.764937, \"Dimensions\": {\"Host\": \"algo-1\", \"Meta\": \"training_data_iter\", \"Operation\": \"training\", \"Algorithm\": \"factorization-machines\", \"epoch\": 29}, \"StartTime\": 1550845782.149974}\n",
      "\u001b[0m\n",
      "\u001b[31m[02/22/2019 14:29:42 INFO 140042773481280] #throughput_metric: host=algo-1, train throughput=56187.3665825 records/second\u001b[0m\n",
      "\u001b[31m[2019-02-22 14:29:42.765] [tensorio] [info] data_pipeline_stats={\"name\": \"/opt/ml/input/data/train\", \"epoch\": 30, \"duration\": 613, \"num_examples\": 346}\u001b[0m\n",
      "\u001b[31m[02/22/2019 14:29:42 INFO 140042773481280] #quality_metric: host=algo-1, epoch=30, batch=0 train rmse <loss>=0.521723011293\u001b[0m\n",
      "\u001b[31m[02/22/2019 14:29:43 INFO 140042773481280] #quality_metric: host=algo-1, epoch=30, train rmse <loss>=0.518686985737\u001b[0m\n",
      "\u001b[31m#metrics {\"Metrics\": {\"update.time\": {\"count\": 1, \"max\": 635.3909969329834, \"sum\": 635.3909969329834, \"min\": 635.3909969329834}}, \"EndTime\": 1550845783.40062, \"Dimensions\": {\"Host\": \"algo-1\", \"Operation\": \"training\", \"Algorithm\": \"factorization-machines\"}, \"StartTime\": 1550845782.764779}\n",
      "\u001b[0m\n",
      "\u001b[31m[02/22/2019 14:29:43 INFO 140042773481280] #progress_metric: host=algo-1, completed 15 % of epochs\u001b[0m\n",
      "\u001b[31m#metrics {\"Metrics\": {\"Max Batches Seen Between Resets\": {\"count\": 1, \"max\": 346, \"sum\": 346.0, \"min\": 346}, \"Number of Batches Since Last Reset\": {\"count\": 1, \"max\": 346, \"sum\": 346.0, \"min\": 346}, \"Number of Records Since Last Reset\": {\"count\": 1, \"max\": 34560, \"sum\": 34560.0, \"min\": 34560}, \"Total Batches Seen\": {\"count\": 1, \"max\": 10727, \"sum\": 10727.0, \"min\": 10727}, \"Total Records Seen\": {\"count\": 1, \"max\": 1071460, \"sum\": 1071460.0, \"min\": 1071460}, \"Max Records Seen Between Resets\": {\"count\": 1, \"max\": 34560, \"sum\": 34560.0, \"min\": 34560}, \"Reset Count\": {\"count\": 1, \"max\": 32, \"sum\": 32.0, \"min\": 32}}, \"EndTime\": 1550845783.400895, \"Dimensions\": {\"Host\": \"algo-1\", \"Meta\": \"training_data_iter\", \"Operation\": \"training\", \"Algorithm\": \"factorization-machines\", \"epoch\": 30}, \"StartTime\": 1550845782.765198}\n",
      "\u001b[0m\n",
      "\u001b[31m[02/22/2019 14:29:43 INFO 140042773481280] #throughput_metric: host=algo-1, train throughput=54353.0366839 records/second\u001b[0m\n",
      "\u001b[31m[2019-02-22 14:29:43.401] [tensorio] [info] data_pipeline_stats={\"name\": \"/opt/ml/input/data/train\", \"epoch\": 31, \"duration\": 634, \"num_examples\": 346}\u001b[0m\n",
      "\u001b[31m[02/22/2019 14:29:43 INFO 140042773481280] #quality_metric: host=algo-1, epoch=31, batch=0 train rmse <loss>=0.516323933699\u001b[0m\n",
      "\u001b[31m[02/22/2019 14:29:43 INFO 140042773481280] #quality_metric: host=algo-1, epoch=31, train rmse <loss>=0.513530132345\u001b[0m\n",
      "\u001b[31m#metrics {\"Metrics\": {\"update.time\": {\"count\": 1, \"max\": 576.3680934906006, \"sum\": 576.3680934906006, \"min\": 576.3680934906006}}, \"EndTime\": 1550845783.977609, \"Dimensions\": {\"Host\": \"algo-1\", \"Operation\": \"training\", \"Algorithm\": \"factorization-machines\"}, \"StartTime\": 1550845783.40072}\n",
      "\u001b[0m\n",
      "\u001b[31m[02/22/2019 14:29:43 INFO 140042773481280] #progress_metric: host=algo-1, completed 16 % of epochs\u001b[0m\n",
      "\u001b[31m#metrics {\"Metrics\": {\"Max Batches Seen Between Resets\": {\"count\": 1, \"max\": 346, \"sum\": 346.0, \"min\": 346}, \"Number of Batches Since Last Reset\": {\"count\": 1, \"max\": 346, \"sum\": 346.0, \"min\": 346}, \"Number of Records Since Last Reset\": {\"count\": 1, \"max\": 34560, \"sum\": 34560.0, \"min\": 34560}, \"Total Batches Seen\": {\"count\": 1, \"max\": 11073, \"sum\": 11073.0, \"min\": 11073}, \"Total Records Seen\": {\"count\": 1, \"max\": 1106020, \"sum\": 1106020.0, \"min\": 1106020}, \"Max Records Seen Between Resets\": {\"count\": 1, \"max\": 34560, \"sum\": 34560.0, \"min\": 34560}, \"Reset Count\": {\"count\": 1, \"max\": 33, \"sum\": 33.0, \"min\": 33}}, \"EndTime\": 1550845783.977957, \"Dimensions\": {\"Host\": \"algo-1\", \"Meta\": \"training_data_iter\", \"Operation\": \"training\", \"Algorithm\": \"factorization-machines\", \"epoch\": 31}, \"StartTime\": 1550845783.40121}\n",
      "\u001b[0m\n",
      "\u001b[31m[02/22/2019 14:29:43 INFO 140042773481280] #throughput_metric: host=algo-1, train throughput=59908.0545225 records/second\u001b[0m\n",
      "\u001b[31m[2019-02-22 14:29:43.978] [tensorio] [info] data_pipeline_stats={\"name\": \"/opt/ml/input/data/train\", \"epoch\": 32, \"duration\": 575, \"num_examples\": 346}\u001b[0m\n",
      "\u001b[31m[02/22/2019 14:29:43 INFO 140042773481280] #quality_metric: host=algo-1, epoch=32, batch=0 train rmse <loss>=0.510832030817\u001b[0m\n",
      "\u001b[31m[02/22/2019 14:29:44 INFO 140042773481280] #quality_metric: host=algo-1, epoch=32, train rmse <loss>=0.50828699416\u001b[0m\n",
      "\u001b[31m#metrics {\"Metrics\": {\"update.time\": {\"count\": 1, \"max\": 581.5811157226562, \"sum\": 581.5811157226562, \"min\": 581.5811157226562}}, \"EndTime\": 1550845784.559918, \"Dimensions\": {\"Host\": \"algo-1\", \"Operation\": \"training\", \"Algorithm\": \"factorization-machines\"}, \"StartTime\": 1550845783.977709}\n",
      "\u001b[0m\n",
      "\u001b[31m[02/22/2019 14:29:44 INFO 140042773481280] #progress_metric: host=algo-1, completed 16 % of epochs\u001b[0m\n",
      "\u001b[31m#metrics {\"Metrics\": {\"Max Batches Seen Between Resets\": {\"count\": 1, \"max\": 346, \"sum\": 346.0, \"min\": 346}, \"Number of Batches Since Last Reset\": {\"count\": 1, \"max\": 346, \"sum\": 346.0, \"min\": 346}, \"Number of Records Since Last Reset\": {\"count\": 1, \"max\": 34560, \"sum\": 34560.0, \"min\": 34560}, \"Total Batches Seen\": {\"count\": 1, \"max\": 11419, \"sum\": 11419.0, \"min\": 11419}, \"Total Records Seen\": {\"count\": 1, \"max\": 1140580, \"sum\": 1140580.0, \"min\": 1140580}, \"Max Records Seen Between Resets\": {\"count\": 1, \"max\": 34560, \"sum\": 34560.0, \"min\": 34560}, \"Reset Count\": {\"count\": 1, \"max\": 34, \"sum\": 34.0, \"min\": 34}}, \"EndTime\": 1550845784.560121, \"Dimensions\": {\"Host\": \"algo-1\", \"Meta\": \"training_data_iter\", \"Operation\": \"training\", \"Algorithm\": \"factorization-machines\", \"epoch\": 32}, \"StartTime\": 1550845783.978304}\n",
      "\u001b[0m\n",
      "\u001b[31m[02/22/2019 14:29:44 INFO 140042773481280] #throughput_metric: host=algo-1, train throughput=59383.7769199 records/second\u001b[0m\n",
      "\u001b[31m[2019-02-22 14:29:44.560] [tensorio] [info] data_pipeline_stats={\"name\": \"/opt/ml/input/data/train\", \"epoch\": 33, \"duration\": 580, \"num_examples\": 346}\u001b[0m\n",
      "\u001b[31m[02/22/2019 14:29:44 INFO 140042773481280] #quality_metric: host=algo-1, epoch=33, batch=0 train rmse <loss>=0.505238556368\u001b[0m\n",
      "\u001b[31m[02/22/2019 14:29:45 INFO 140042773481280] #quality_metric: host=algo-1, epoch=33, train rmse <loss>=0.502953699217\u001b[0m\n",
      "\u001b[31m#metrics {\"Metrics\": {\"update.time\": {\"count\": 1, \"max\": 604.2389869689941, \"sum\": 604.2389869689941, \"min\": 604.2389869689941}}, \"EndTime\": 1550845785.164632, \"Dimensions\": {\"Host\": \"algo-1\", \"Operation\": \"training\", \"Algorithm\": \"factorization-machines\"}, \"StartTime\": 1550845784.559983}\n",
      "\u001b[0m\n",
      "\u001b[31m[02/22/2019 14:29:45 INFO 140042773481280] #progress_metric: host=algo-1, completed 17 % of epochs\u001b[0m\n",
      "\u001b[31m#metrics {\"Metrics\": {\"Max Batches Seen Between Resets\": {\"count\": 1, \"max\": 346, \"sum\": 346.0, \"min\": 346}, \"Number of Batches Since Last Reset\": {\"count\": 1, \"max\": 346, \"sum\": 346.0, \"min\": 346}, \"Number of Records Since Last Reset\": {\"count\": 1, \"max\": 34560, \"sum\": 34560.0, \"min\": 34560}, \"Total Batches Seen\": {\"count\": 1, \"max\": 11765, \"sum\": 11765.0, \"min\": 11765}, \"Total Records Seen\": {\"count\": 1, \"max\": 1175140, \"sum\": 1175140.0, \"min\": 1175140}, \"Max Records Seen Between Resets\": {\"count\": 1, \"max\": 34560, \"sum\": 34560.0, \"min\": 34560}, \"Reset Count\": {\"count\": 1, \"max\": 35, \"sum\": 35.0, \"min\": 35}}, \"EndTime\": 1550845785.164836, \"Dimensions\": {\"Host\": \"algo-1\", \"Meta\": \"training_data_iter\", \"Operation\": \"training\", \"Algorithm\": \"factorization-machines\", \"epoch\": 33}, \"StartTime\": 1550845784.560362}\n",
      "\u001b[0m\n",
      "\u001b[31m[02/22/2019 14:29:45 INFO 140042773481280] #throughput_metric: host=algo-1, train throughput=57162.3278497 records/second\u001b[0m\n",
      "\u001b[31m[2019-02-22 14:29:45.165] [tensorio] [info] data_pipeline_stats={\"name\": \"/opt/ml/input/data/train\", \"epoch\": 34, \"duration\": 603, \"num_examples\": 346}\u001b[0m\n",
      "\u001b[31m[02/22/2019 14:29:45 INFO 140042773481280] #quality_metric: host=algo-1, epoch=34, batch=0 train rmse <loss>=0.499535363795\u001b[0m\n",
      "\u001b[31m[02/22/2019 14:29:45 INFO 140042773481280] #quality_metric: host=algo-1, epoch=34, train rmse <loss>=0.497527159307\u001b[0m\n",
      "\u001b[31m#metrics {\"Metrics\": {\"update.time\": {\"count\": 1, \"max\": 577.0220756530762, \"sum\": 577.0220756530762, \"min\": 577.0220756530762}}, \"EndTime\": 1550845785.742137, \"Dimensions\": {\"Host\": \"algo-1\", \"Operation\": \"training\", \"Algorithm\": \"factorization-machines\"}, \"StartTime\": 1550845785.164696}\n",
      "\u001b[0m\n",
      "\u001b[31m[02/22/2019 14:29:45 INFO 140042773481280] #progress_metric: host=algo-1, completed 17 % of epochs\u001b[0m\n",
      "\u001b[31m#metrics {\"Metrics\": {\"Max Batches Seen Between Resets\": {\"count\": 1, \"max\": 346, \"sum\": 346.0, \"min\": 346}, \"Number of Batches Since Last Reset\": {\"count\": 1, \"max\": 346, \"sum\": 346.0, \"min\": 346}, \"Number of Records Since Last Reset\": {\"count\": 1, \"max\": 34560, \"sum\": 34560.0, \"min\": 34560}, \"Total Batches Seen\": {\"count\": 1, \"max\": 12111, \"sum\": 12111.0, \"min\": 12111}, \"Total Records Seen\": {\"count\": 1, \"max\": 1209700, \"sum\": 1209700.0, \"min\": 1209700}, \"Max Records Seen Between Resets\": {\"count\": 1, \"max\": 34560, \"sum\": 34560.0, \"min\": 34560}, \"Reset Count\": {\"count\": 1, \"max\": 36, \"sum\": 36.0, \"min\": 36}}, \"EndTime\": 1550845785.742375, \"Dimensions\": {\"Host\": \"algo-1\", \"Meta\": \"training_data_iter\", \"Operation\": \"training\", \"Algorithm\": \"factorization-machines\", \"epoch\": 34}, \"StartTime\": 1550845785.165084}\n",
      "\u001b[0m\n",
      "\u001b[31m[02/22/2019 14:29:45 INFO 140042773481280] #throughput_metric: host=algo-1, train throughput=59853.485455 records/second\u001b[0m\n",
      "\u001b[31m[2019-02-22 14:29:45.742] [tensorio] [info] data_pipeline_stats={\"name\": \"/opt/ml/input/data/train\", \"epoch\": 35, \"duration\": 575, \"num_examples\": 346}\u001b[0m\n",
      "\u001b[31m[02/22/2019 14:29:45 INFO 140042773481280] #quality_metric: host=algo-1, epoch=35, batch=0 train rmse <loss>=0.49371577277\u001b[0m\n",
      "\u001b[31m[02/22/2019 14:29:46 INFO 140042773481280] #quality_metric: host=algo-1, epoch=35, train rmse <loss>=0.492005391758\u001b[0m\n",
      "\u001b[31m#metrics {\"Metrics\": {\"update.time\": {\"count\": 1, \"max\": 571.0170269012451, \"sum\": 571.0170269012451, \"min\": 571.0170269012451}}, \"EndTime\": 1550845786.313667, \"Dimensions\": {\"Host\": \"algo-1\", \"Operation\": \"training\", \"Algorithm\": \"factorization-machines\"}, \"StartTime\": 1550845785.742202}\n",
      "\u001b[0m\n",
      "\u001b[31m[02/22/2019 14:29:46 INFO 140042773481280] #progress_metric: host=algo-1, completed 18 % of epochs\u001b[0m\n",
      "\u001b[31m#metrics {\"Metrics\": {\"Max Batches Seen Between Resets\": {\"count\": 1, \"max\": 346, \"sum\": 346.0, \"min\": 346}, \"Number of Batches Since Last Reset\": {\"count\": 1, \"max\": 346, \"sum\": 346.0, \"min\": 346}, \"Number of Records Since Last Reset\": {\"count\": 1, \"max\": 34560, \"sum\": 34560.0, \"min\": 34560}, \"Total Batches Seen\": {\"count\": 1, \"max\": 12457, \"sum\": 12457.0, \"min\": 12457}, \"Total Records Seen\": {\"count\": 1, \"max\": 1244260, \"sum\": 1244260.0, \"min\": 1244260}, \"Max Records Seen Between Resets\": {\"count\": 1, \"max\": 34560, \"sum\": 34560.0, \"min\": 34560}, \"Reset Count\": {\"count\": 1, \"max\": 37, \"sum\": 37.0, \"min\": 37}}, \"EndTime\": 1550845786.313873, \"Dimensions\": {\"Host\": \"algo-1\", \"Meta\": \"training_data_iter\", \"Operation\": \"training\", \"Algorithm\": \"factorization-machines\", \"epoch\": 35}, \"StartTime\": 1550845785.74262}\n",
      "\u001b[0m\n",
      "\u001b[31m[02/22/2019 14:29:46 INFO 140042773481280] #throughput_metric: host=algo-1, train throughput=60486.7166539 records/second\u001b[0m\n",
      "\u001b[31m[2019-02-22 14:29:46.314] [tensorio] [info] data_pipeline_stats={\"name\": \"/opt/ml/input/data/train\", \"epoch\": 36, \"duration\": 569, \"num_examples\": 346}\u001b[0m\n",
      "\u001b[31m[02/22/2019 14:29:46 INFO 140042773481280] #quality_metric: host=algo-1, epoch=36, batch=0 train rmse <loss>=0.487775186973\u001b[0m\n",
      "\u001b[31m[02/22/2019 14:29:46 INFO 140042773481280] #quality_metric: host=algo-1, epoch=36, train rmse <loss>=0.486387727887\u001b[0m\n",
      "\u001b[31m#metrics {\"Metrics\": {\"update.time\": {\"count\": 1, \"max\": 593.6479568481445, \"sum\": 593.6479568481445, \"min\": 593.6479568481445}}, \"EndTime\": 1550845786.907804, \"Dimensions\": {\"Host\": \"algo-1\", \"Operation\": \"training\", \"Algorithm\": \"factorization-machines\"}, \"StartTime\": 1550845786.313731}\n",
      "\u001b[0m\n",
      "\u001b[31m[02/22/2019 14:29:46 INFO 140042773481280] #progress_metric: host=algo-1, completed 18 % of epochs\u001b[0m\n",
      "\u001b[31m#metrics {\"Metrics\": {\"Max Batches Seen Between Resets\": {\"count\": 1, \"max\": 346, \"sum\": 346.0, \"min\": 346}, \"Number of Batches Since Last Reset\": {\"count\": 1, \"max\": 346, \"sum\": 346.0, \"min\": 346}, \"Number of Records Since Last Reset\": {\"count\": 1, \"max\": 34560, \"sum\": 34560.0, \"min\": 34560}, \"Total Batches Seen\": {\"count\": 1, \"max\": 12803, \"sum\": 12803.0, \"min\": 12803}, \"Total Records Seen\": {\"count\": 1, \"max\": 1278820, \"sum\": 1278820.0, \"min\": 1278820}, \"Max Records Seen Between Resets\": {\"count\": 1, \"max\": 34560, \"sum\": 34560.0, \"min\": 34560}, \"Reset Count\": {\"count\": 1, \"max\": 38, \"sum\": 38.0, \"min\": 38}}, \"EndTime\": 1550845786.908034, \"Dimensions\": {\"Host\": \"algo-1\", \"Meta\": \"training_data_iter\", \"Operation\": \"training\", \"Algorithm\": \"factorization-machines\", \"epoch\": 36}, \"StartTime\": 1550845786.314108}\n",
      "\u001b[0m\n",
      "\u001b[31m[02/22/2019 14:29:46 INFO 140042773481280] #throughput_metric: host=algo-1, train throughput=58178.0954063 records/second\u001b[0m\n",
      "\u001b[31m[2019-02-22 14:29:46.908] [tensorio] [info] data_pipeline_stats={\"name\": \"/opt/ml/input/data/train\", \"epoch\": 37, \"duration\": 592, \"num_examples\": 346}\u001b[0m\n",
      "\u001b[31m[02/22/2019 14:29:46 INFO 140042773481280] #quality_metric: host=algo-1, epoch=37, batch=0 train rmse <loss>=0.48171148591\u001b[0m\n",
      "\u001b[31m[02/22/2019 14:29:47 INFO 140042773481280] #quality_metric: host=algo-1, epoch=37, train rmse <loss>=0.480674956477\u001b[0m\n",
      "\u001b[31m#metrics {\"Metrics\": {\"update.time\": {\"count\": 1, \"max\": 567.5690174102783, \"sum\": 567.5690174102783, \"min\": 567.5690174102783}}, \"EndTime\": 1550845787.475886, \"Dimensions\": {\"Host\": \"algo-1\", \"Operation\": \"training\", \"Algorithm\": \"factorization-machines\"}, \"StartTime\": 1550845786.90787}\n",
      "\u001b[0m\n",
      "\u001b[31m[02/22/2019 14:29:47 INFO 140042773481280] #progress_metric: host=algo-1, completed 19 % of epochs\u001b[0m\n",
      "\u001b[31m#metrics {\"Metrics\": {\"Max Batches Seen Between Resets\": {\"count\": 1, \"max\": 346, \"sum\": 346.0, \"min\": 346}, \"Number of Batches Since Last Reset\": {\"count\": 1, \"max\": 346, \"sum\": 346.0, \"min\": 346}, \"Number of Records Since Last Reset\": {\"count\": 1, \"max\": 34560, \"sum\": 34560.0, \"min\": 34560}, \"Total Batches Seen\": {\"count\": 1, \"max\": 13149, \"sum\": 13149.0, \"min\": 13149}, \"Total Records Seen\": {\"count\": 1, \"max\": 1313380, \"sum\": 1313380.0, \"min\": 1313380}, \"Max Records Seen Between Resets\": {\"count\": 1, \"max\": 34560, \"sum\": 34560.0, \"min\": 34560}, \"Reset Count\": {\"count\": 1, \"max\": 39, \"sum\": 39.0, \"min\": 39}}, \"EndTime\": 1550845787.476149, \"Dimensions\": {\"Host\": \"algo-1\", \"Meta\": \"training_data_iter\", \"Operation\": \"training\", \"Algorithm\": \"factorization-machines\", \"epoch\": 37}, \"StartTime\": 1550845786.908285}\n",
      "\u001b[0m\n",
      "\u001b[31m[02/22/2019 14:29:47 INFO 140042773481280] #throughput_metric: host=algo-1, train throughput=60846.3646018 records/second\u001b[0m\n",
      "\u001b[31m[2019-02-22 14:29:47.476] [tensorio] [info] data_pipeline_stats={\"name\": \"/opt/ml/input/data/train\", \"epoch\": 38, \"duration\": 566, \"num_examples\": 346}\u001b[0m\n",
      "\u001b[31m[02/22/2019 14:29:47 INFO 140042773481280] #quality_metric: host=algo-1, epoch=38, batch=0 train rmse <loss>=0.475525454958\u001b[0m\n",
      "\u001b[31m[02/22/2019 14:29:48 INFO 140042773481280] #quality_metric: host=algo-1, epoch=38, train rmse <loss>=0.474869353603\u001b[0m\n",
      "\u001b[31m#metrics {\"Metrics\": {\"update.time\": {\"count\": 1, \"max\": 573.1940269470215, \"sum\": 573.1940269470215, \"min\": 573.1940269470215}}, \"EndTime\": 1550845788.049651, \"Dimensions\": {\"Host\": \"algo-1\", \"Operation\": \"training\", \"Algorithm\": \"factorization-machines\"}, \"StartTime\": 1550845787.475954}\n",
      "\u001b[0m\n",
      "\u001b[31m[02/22/2019 14:29:48 INFO 140042773481280] #progress_metric: host=algo-1, completed 19 % of epochs\u001b[0m\n",
      "\u001b[31m#metrics {\"Metrics\": {\"Max Batches Seen Between Resets\": {\"count\": 1, \"max\": 346, \"sum\": 346.0, \"min\": 346}, \"Number of Batches Since Last Reset\": {\"count\": 1, \"max\": 346, \"sum\": 346.0, \"min\": 346}, \"Number of Records Since Last Reset\": {\"count\": 1, \"max\": 34560, \"sum\": 34560.0, \"min\": 34560}, \"Total Batches Seen\": {\"count\": 1, \"max\": 13495, \"sum\": 13495.0, \"min\": 13495}, \"Total Records Seen\": {\"count\": 1, \"max\": 1347940, \"sum\": 1347940.0, \"min\": 1347940}, \"Max Records Seen Between Resets\": {\"count\": 1, \"max\": 34560, \"sum\": 34560.0, \"min\": 34560}, \"Reset Count\": {\"count\": 1, \"max\": 40, \"sum\": 40.0, \"min\": 40}}, \"EndTime\": 1550845788.04986, \"Dimensions\": {\"Host\": \"algo-1\", \"Meta\": \"training_data_iter\", \"Operation\": \"training\", \"Algorithm\": \"factorization-machines\", \"epoch\": 38}, \"StartTime\": 1550845787.476425}\n",
      "\u001b[0m\n",
      "\u001b[31m[02/22/2019 14:29:48 INFO 140042773481280] #throughput_metric: host=algo-1, train throughput=60254.7219984 records/second\u001b[0m\n",
      "\u001b[31m[2019-02-22 14:29:48.050] [tensorio] [info] data_pipeline_stats={\"name\": \"/opt/ml/input/data/train\", \"epoch\": 39, \"duration\": 572, \"num_examples\": 346}\u001b[0m\n",
      "\u001b[31m[02/22/2019 14:29:48 INFO 140042773481280] #quality_metric: host=algo-1, epoch=39, batch=0 train rmse <loss>=0.469220446705\u001b[0m\n",
      "\u001b[31m[02/22/2019 14:29:48 INFO 140042773481280] #quality_metric: host=algo-1, epoch=39, train rmse <loss>=0.46897465653\u001b[0m\n",
      "\u001b[31m#metrics {\"Metrics\": {\"update.time\": {\"count\": 1, \"max\": 628.8981437683105, \"sum\": 628.8981437683105, \"min\": 628.8981437683105}}, \"EndTime\": 1550845788.679072, \"Dimensions\": {\"Host\": \"algo-1\", \"Operation\": \"training\", \"Algorithm\": \"factorization-machines\"}, \"StartTime\": 1550845788.049726}\n",
      "\u001b[0m\n",
      "\u001b[31m[02/22/2019 14:29:48 INFO 140042773481280] #progress_metric: host=algo-1, completed 20 % of epochs\u001b[0m\n",
      "\u001b[31m#metrics {\"Metrics\": {\"Max Batches Seen Between Resets\": {\"count\": 1, \"max\": 346, \"sum\": 346.0, \"min\": 346}, \"Number of Batches Since Last Reset\": {\"count\": 1, \"max\": 346, \"sum\": 346.0, \"min\": 346}, \"Number of Records Since Last Reset\": {\"count\": 1, \"max\": 34560, \"sum\": 34560.0, \"min\": 34560}, \"Total Batches Seen\": {\"count\": 1, \"max\": 13841, \"sum\": 13841.0, \"min\": 13841}, \"Total Records Seen\": {\"count\": 1, \"max\": 1382500, \"sum\": 1382500.0, \"min\": 1382500}, \"Max Records Seen Between Resets\": {\"count\": 1, \"max\": 34560, \"sum\": 34560.0, \"min\": 34560}, \"Reset Count\": {\"count\": 1, \"max\": 41, \"sum\": 41.0, \"min\": 41}}, \"EndTime\": 1550845788.679311, \"Dimensions\": {\"Host\": \"algo-1\", \"Meta\": \"training_data_iter\", \"Operation\": \"training\", \"Algorithm\": \"factorization-machines\", \"epoch\": 39}, \"StartTime\": 1550845788.050143}\n",
      "\u001b[0m\n",
      "\u001b[31m[02/22/2019 14:29:48 INFO 140042773481280] #throughput_metric: host=algo-1, train throughput=54916.4883185 records/second\u001b[0m\n",
      "\u001b[31m[2019-02-22 14:29:48.679] [tensorio] [info] data_pipeline_stats={\"name\": \"/opt/ml/input/data/train\", \"epoch\": 40, \"duration\": 627, \"num_examples\": 346}\u001b[0m\n",
      "\u001b[31m[02/22/2019 14:29:48 INFO 140042773481280] #quality_metric: host=algo-1, epoch=40, batch=0 train rmse <loss>=0.462802272686\u001b[0m\n",
      "\u001b[31m[02/22/2019 14:29:49 INFO 140042773481280] #quality_metric: host=algo-1, epoch=40, train rmse <loss>=0.462995931021\u001b[0m\n",
      "\u001b[31m#metrics {\"Metrics\": {\"update.time\": {\"count\": 1, \"max\": 794.0530776977539, \"sum\": 794.0530776977539, \"min\": 794.0530776977539}}, \"EndTime\": 1550845789.473707, \"Dimensions\": {\"Host\": \"algo-1\", \"Operation\": \"training\", \"Algorithm\": \"factorization-machines\"}, \"StartTime\": 1550845788.679139}\n",
      "\u001b[0m\n",
      "\u001b[31m[02/22/2019 14:29:49 INFO 140042773481280] #progress_metric: host=algo-1, completed 20 % of epochs\u001b[0m\n",
      "\u001b[31m#metrics {\"Metrics\": {\"Max Batches Seen Between Resets\": {\"count\": 1, \"max\": 346, \"sum\": 346.0, \"min\": 346}, \"Number of Batches Since Last Reset\": {\"count\": 1, \"max\": 346, \"sum\": 346.0, \"min\": 346}, \"Number of Records Since Last Reset\": {\"count\": 1, \"max\": 34560, \"sum\": 34560.0, \"min\": 34560}, \"Total Batches Seen\": {\"count\": 1, \"max\": 14187, \"sum\": 14187.0, \"min\": 14187}, \"Total Records Seen\": {\"count\": 1, \"max\": 1417060, \"sum\": 1417060.0, \"min\": 1417060}, \"Max Records Seen Between Resets\": {\"count\": 1, \"max\": 34560, \"sum\": 34560.0, \"min\": 34560}, \"Reset Count\": {\"count\": 1, \"max\": 42, \"sum\": 42.0, \"min\": 42}}, \"EndTime\": 1550845789.473946, \"Dimensions\": {\"Host\": \"algo-1\", \"Meta\": \"training_data_iter\", \"Operation\": \"training\", \"Algorithm\": \"factorization-machines\", \"epoch\": 40}, \"StartTime\": 1550845788.679623}\n",
      "\u001b[0m\n",
      "\u001b[31m[02/22/2019 14:29:49 INFO 140042773481280] #throughput_metric: host=algo-1, train throughput=43500.7077024 records/second\u001b[0m\n",
      "\u001b[31m[2019-02-22 14:29:49.474] [tensorio] [info] data_pipeline_stats={\"name\": \"/opt/ml/input/data/train\", \"epoch\": 41, \"duration\": 792, \"num_examples\": 346}\u001b[0m\n",
      "\u001b[31m[02/22/2019 14:29:49 INFO 140042773481280] #quality_metric: host=algo-1, epoch=41, batch=0 train rmse <loss>=0.456279325196\u001b[0m\n",
      "\u001b[31m[02/22/2019 14:29:50 INFO 140042773481280] #quality_metric: host=algo-1, epoch=41, train rmse <loss>=0.456939383656\u001b[0m\n",
      "\u001b[31m#metrics {\"Metrics\": {\"update.time\": {\"count\": 1, \"max\": 607.586145401001, \"sum\": 607.586145401001, \"min\": 607.586145401001}}, \"EndTime\": 1550845790.082056, \"Dimensions\": {\"Host\": \"algo-1\", \"Operation\": \"training\", \"Algorithm\": \"factorization-machines\"}, \"StartTime\": 1550845789.473773}\n",
      "\u001b[0m\n",
      "\u001b[31m[02/22/2019 14:29:50 INFO 140042773481280] #progress_metric: host=algo-1, completed 21 % of epochs\u001b[0m\n",
      "\u001b[31m#metrics {\"Metrics\": {\"Max Batches Seen Between Resets\": {\"count\": 1, \"max\": 346, \"sum\": 346.0, \"min\": 346}, \"Number of Batches Since Last Reset\": {\"count\": 1, \"max\": 346, \"sum\": 346.0, \"min\": 346}, \"Number of Records Since Last Reset\": {\"count\": 1, \"max\": 34560, \"sum\": 34560.0, \"min\": 34560}, \"Total Batches Seen\": {\"count\": 1, \"max\": 14533, \"sum\": 14533.0, \"min\": 14533}, \"Total Records Seen\": {\"count\": 1, \"max\": 1451620, \"sum\": 1451620.0, \"min\": 1451620}, \"Max Records Seen Between Resets\": {\"count\": 1, \"max\": 34560, \"sum\": 34560.0, \"min\": 34560}, \"Reset Count\": {\"count\": 1, \"max\": 43, \"sum\": 43.0, \"min\": 43}}, \"EndTime\": 1550845790.082316, \"Dimensions\": {\"Host\": \"algo-1\", \"Meta\": \"training_data_iter\", \"Operation\": \"training\", \"Algorithm\": \"factorization-machines\", \"epoch\": 41}, \"StartTime\": 1550845789.474286}\n",
      "\u001b[0m\n",
      "\u001b[31m[02/22/2019 14:29:50 INFO 140042773481280] #throughput_metric: host=algo-1, train throughput=56825.8346045 records/second\u001b[0m\n",
      "\u001b[31m[2019-02-22 14:29:50.082] [tensorio] [info] data_pipeline_stats={\"name\": \"/opt/ml/input/data/train\", \"epoch\": 42, \"duration\": 606, \"num_examples\": 346}\u001b[0m\n",
      "\u001b[31m[02/22/2019 14:29:50 INFO 140042773481280] #quality_metric: host=algo-1, epoch=42, batch=0 train rmse <loss>=0.44966144542\u001b[0m\n"
     ]
    },
    {
     "name": "stdout",
     "output_type": "stream",
     "text": [
      "\u001b[31m[02/22/2019 14:29:50 INFO 140042773481280] #quality_metric: host=algo-1, epoch=42, train rmse <loss>=0.450812121802\u001b[0m\n",
      "\u001b[31m#metrics {\"Metrics\": {\"update.time\": {\"count\": 1, \"max\": 570.5058574676514, \"sum\": 570.5058574676514, \"min\": 570.5058574676514}}, \"EndTime\": 1550845790.653091, \"Dimensions\": {\"Host\": \"algo-1\", \"Operation\": \"training\", \"Algorithm\": \"factorization-machines\"}, \"StartTime\": 1550845790.082126}\n",
      "\u001b[0m\n",
      "\u001b[31m[02/22/2019 14:29:50 INFO 140042773481280] #progress_metric: host=algo-1, completed 21 % of epochs\u001b[0m\n",
      "\u001b[31m#metrics {\"Metrics\": {\"Max Batches Seen Between Resets\": {\"count\": 1, \"max\": 346, \"sum\": 346.0, \"min\": 346}, \"Number of Batches Since Last Reset\": {\"count\": 1, \"max\": 346, \"sum\": 346.0, \"min\": 346}, \"Number of Records Since Last Reset\": {\"count\": 1, \"max\": 34560, \"sum\": 34560.0, \"min\": 34560}, \"Total Batches Seen\": {\"count\": 1, \"max\": 14879, \"sum\": 14879.0, \"min\": 14879}, \"Total Records Seen\": {\"count\": 1, \"max\": 1486180, \"sum\": 1486180.0, \"min\": 1486180}, \"Max Records Seen Between Resets\": {\"count\": 1, \"max\": 34560, \"sum\": 34560.0, \"min\": 34560}, \"Reset Count\": {\"count\": 1, \"max\": 44, \"sum\": 44.0, \"min\": 44}}, \"EndTime\": 1550845790.65332, \"Dimensions\": {\"Host\": \"algo-1\", \"Meta\": \"training_data_iter\", \"Operation\": \"training\", \"Algorithm\": \"factorization-machines\", \"epoch\": 42}, \"StartTime\": 1550845790.082555}\n",
      "\u001b[0m\n",
      "\u001b[31m[02/22/2019 14:29:50 INFO 140042773481280] #throughput_metric: host=algo-1, train throughput=60536.3283337 records/second\u001b[0m\n",
      "\u001b[31m[2019-02-22 14:29:50.653] [tensorio] [info] data_pipeline_stats={\"name\": \"/opt/ml/input/data/train\", \"epoch\": 43, \"duration\": 569, \"num_examples\": 346}\u001b[0m\n",
      "\u001b[31m[02/22/2019 14:29:50 INFO 140042773481280] #quality_metric: host=algo-1, epoch=43, batch=0 train rmse <loss>=0.442960138254\u001b[0m\n",
      "\u001b[31m[02/22/2019 14:29:51 INFO 140042773481280] #quality_metric: host=algo-1, epoch=43, train rmse <loss>=0.444621954996\u001b[0m\n",
      "\u001b[31m#metrics {\"Metrics\": {\"update.time\": {\"count\": 1, \"max\": 608.6850166320801, \"sum\": 608.6850166320801, \"min\": 608.6850166320801}}, \"EndTime\": 1550845791.262323, \"Dimensions\": {\"Host\": \"algo-1\", \"Operation\": \"training\", \"Algorithm\": \"factorization-machines\"}, \"StartTime\": 1550845790.653165}\n",
      "\u001b[0m\n",
      "\u001b[31m[02/22/2019 14:29:51 INFO 140042773481280] #progress_metric: host=algo-1, completed 22 % of epochs\u001b[0m\n",
      "\u001b[31m#metrics {\"Metrics\": {\"Max Batches Seen Between Resets\": {\"count\": 1, \"max\": 346, \"sum\": 346.0, \"min\": 346}, \"Number of Batches Since Last Reset\": {\"count\": 1, \"max\": 346, \"sum\": 346.0, \"min\": 346}, \"Number of Records Since Last Reset\": {\"count\": 1, \"max\": 34560, \"sum\": 34560.0, \"min\": 34560}, \"Total Batches Seen\": {\"count\": 1, \"max\": 15225, \"sum\": 15225.0, \"min\": 15225}, \"Total Records Seen\": {\"count\": 1, \"max\": 1520740, \"sum\": 1520740.0, \"min\": 1520740}, \"Max Records Seen Between Resets\": {\"count\": 1, \"max\": 34560, \"sum\": 34560.0, \"min\": 34560}, \"Reset Count\": {\"count\": 1, \"max\": 45, \"sum\": 45.0, \"min\": 45}}, \"EndTime\": 1550845791.262532, \"Dimensions\": {\"Host\": \"algo-1\", \"Meta\": \"training_data_iter\", \"Operation\": \"training\", \"Algorithm\": \"factorization-machines\", \"epoch\": 43}, \"StartTime\": 1550845790.653607}\n",
      "\u001b[0m\n",
      "\u001b[31m[02/22/2019 14:29:51 INFO 140042773481280] #throughput_metric: host=algo-1, train throughput=56744.4839978 records/second\u001b[0m\n",
      "\u001b[31m[2019-02-22 14:29:51.262] [tensorio] [info] data_pipeline_stats={\"name\": \"/opt/ml/input/data/train\", \"epoch\": 44, \"duration\": 607, \"num_examples\": 346}\u001b[0m\n",
      "\u001b[31m[02/22/2019 14:29:51 INFO 140042773481280] #quality_metric: host=algo-1, epoch=44, batch=0 train rmse <loss>=0.436187956587\u001b[0m\n",
      "\u001b[31m[02/22/2019 14:29:51 INFO 140042773481280] #quality_metric: host=algo-1, epoch=44, train rmse <loss>=0.438377115424\u001b[0m\n",
      "\u001b[31m#metrics {\"Metrics\": {\"update.time\": {\"count\": 1, \"max\": 585.9839916229248, \"sum\": 585.9839916229248, \"min\": 585.9839916229248}}, \"EndTime\": 1550845791.848795, \"Dimensions\": {\"Host\": \"algo-1\", \"Operation\": \"training\", \"Algorithm\": \"factorization-machines\"}, \"StartTime\": 1550845791.262389}\n",
      "\u001b[0m\n",
      "\u001b[31m[02/22/2019 14:29:51 INFO 140042773481280] #progress_metric: host=algo-1, completed 22 % of epochs\u001b[0m\n",
      "\u001b[31m#metrics {\"Metrics\": {\"Max Batches Seen Between Resets\": {\"count\": 1, \"max\": 346, \"sum\": 346.0, \"min\": 346}, \"Number of Batches Since Last Reset\": {\"count\": 1, \"max\": 346, \"sum\": 346.0, \"min\": 346}, \"Number of Records Since Last Reset\": {\"count\": 1, \"max\": 34560, \"sum\": 34560.0, \"min\": 34560}, \"Total Batches Seen\": {\"count\": 1, \"max\": 15571, \"sum\": 15571.0, \"min\": 15571}, \"Total Records Seen\": {\"count\": 1, \"max\": 1555300, \"sum\": 1555300.0, \"min\": 1555300}, \"Max Records Seen Between Resets\": {\"count\": 1, \"max\": 34560, \"sum\": 34560.0, \"min\": 34560}, \"Reset Count\": {\"count\": 1, \"max\": 46, \"sum\": 46.0, \"min\": 46}}, \"EndTime\": 1550845791.849021, \"Dimensions\": {\"Host\": \"algo-1\", \"Meta\": \"training_data_iter\", \"Operation\": \"training\", \"Algorithm\": \"factorization-machines\", \"epoch\": 44}, \"StartTime\": 1550845791.262779}\n",
      "\u001b[0m\n",
      "\u001b[31m[02/22/2019 14:29:51 INFO 140042773481280] #throughput_metric: host=algo-1, train throughput=58942.2034127 records/second\u001b[0m\n",
      "\u001b[31m[2019-02-22 14:29:51.849] [tensorio] [info] data_pipeline_stats={\"name\": \"/opt/ml/input/data/train\", \"epoch\": 45, \"duration\": 584, \"num_examples\": 346}\u001b[0m\n",
      "\u001b[31m[02/22/2019 14:29:51 INFO 140042773481280] #quality_metric: host=algo-1, epoch=45, batch=0 train rmse <loss>=0.429357872501\u001b[0m\n",
      "\u001b[31m[02/22/2019 14:29:52 INFO 140042773481280] #quality_metric: host=algo-1, epoch=45, train rmse <loss>=0.432086059403\u001b[0m\n",
      "\u001b[31m#metrics {\"Metrics\": {\"update.time\": {\"count\": 1, \"max\": 575.6490230560303, \"sum\": 575.6490230560303, \"min\": 575.6490230560303}}, \"EndTime\": 1550845792.424907, \"Dimensions\": {\"Host\": \"algo-1\", \"Operation\": \"training\", \"Algorithm\": \"factorization-machines\"}, \"StartTime\": 1550845791.848867}\n",
      "\u001b[0m\n",
      "\u001b[31m[02/22/2019 14:29:52 INFO 140042773481280] #progress_metric: host=algo-1, completed 23 % of epochs\u001b[0m\n",
      "\u001b[31m#metrics {\"Metrics\": {\"Max Batches Seen Between Resets\": {\"count\": 1, \"max\": 346, \"sum\": 346.0, \"min\": 346}, \"Number of Batches Since Last Reset\": {\"count\": 1, \"max\": 346, \"sum\": 346.0, \"min\": 346}, \"Number of Records Since Last Reset\": {\"count\": 1, \"max\": 34560, \"sum\": 34560.0, \"min\": 34560}, \"Total Batches Seen\": {\"count\": 1, \"max\": 15917, \"sum\": 15917.0, \"min\": 15917}, \"Total Records Seen\": {\"count\": 1, \"max\": 1589860, \"sum\": 1589860.0, \"min\": 1589860}, \"Max Records Seen Between Resets\": {\"count\": 1, \"max\": 34560, \"sum\": 34560.0, \"min\": 34560}, \"Reset Count\": {\"count\": 1, \"max\": 47, \"sum\": 47.0, \"min\": 47}}, \"EndTime\": 1550845792.425143, \"Dimensions\": {\"Host\": \"algo-1\", \"Meta\": \"training_data_iter\", \"Operation\": \"training\", \"Algorithm\": \"factorization-machines\", \"epoch\": 45}, \"StartTime\": 1550845791.84923}\n",
      "\u001b[0m\n",
      "\u001b[31m[02/22/2019 14:29:52 INFO 140042773481280] #throughput_metric: host=algo-1, train throughput=59997.8171586 records/second\u001b[0m\n",
      "\u001b[31m[2019-02-22 14:29:52.425] [tensorio] [info] data_pipeline_stats={\"name\": \"/opt/ml/input/data/train\", \"epoch\": 46, \"duration\": 574, \"num_examples\": 346}\u001b[0m\n",
      "\u001b[31m[02/22/2019 14:29:52 INFO 140042773481280] #quality_metric: host=algo-1, epoch=46, batch=0 train rmse <loss>=0.42248353373\u001b[0m\n",
      "\u001b[31m[02/22/2019 14:29:52 INFO 140042773481280] #quality_metric: host=algo-1, epoch=46, train rmse <loss>=0.425757274067\u001b[0m\n",
      "\u001b[31m#metrics {\"Metrics\": {\"update.time\": {\"count\": 1, \"max\": 571.3241100311279, \"sum\": 571.3241100311279, \"min\": 571.3241100311279}}, \"EndTime\": 1550845792.996748, \"Dimensions\": {\"Host\": \"algo-1\", \"Operation\": \"training\", \"Algorithm\": \"factorization-machines\"}, \"StartTime\": 1550845792.424987}\n",
      "\u001b[0m\n",
      "\u001b[31m[02/22/2019 14:29:52 INFO 140042773481280] #progress_metric: host=algo-1, completed 23 % of epochs\u001b[0m\n",
      "\u001b[31m#metrics {\"Metrics\": {\"Max Batches Seen Between Resets\": {\"count\": 1, \"max\": 346, \"sum\": 346.0, \"min\": 346}, \"Number of Batches Since Last Reset\": {\"count\": 1, \"max\": 346, \"sum\": 346.0, \"min\": 346}, \"Number of Records Since Last Reset\": {\"count\": 1, \"max\": 34560, \"sum\": 34560.0, \"min\": 34560}, \"Total Batches Seen\": {\"count\": 1, \"max\": 16263, \"sum\": 16263.0, \"min\": 16263}, \"Total Records Seen\": {\"count\": 1, \"max\": 1624420, \"sum\": 1624420.0, \"min\": 1624420}, \"Max Records Seen Between Resets\": {\"count\": 1, \"max\": 34560, \"sum\": 34560.0, \"min\": 34560}, \"Reset Count\": {\"count\": 1, \"max\": 48, \"sum\": 48.0, \"min\": 48}}, \"EndTime\": 1550845792.996954, \"Dimensions\": {\"Host\": \"algo-1\", \"Meta\": \"training_data_iter\", \"Operation\": \"training\", \"Algorithm\": \"factorization-machines\", \"epoch\": 46}, \"StartTime\": 1550845792.425394}\n",
      "\u001b[0m\n",
      "\u001b[31m[02/22/2019 14:29:52 INFO 140042773481280] #throughput_metric: host=algo-1, train throughput=60454.3512826 records/second\u001b[0m\n",
      "\u001b[31m[2019-02-22 14:29:52.997] [tensorio] [info] data_pipeline_stats={\"name\": \"/opt/ml/input/data/train\", \"epoch\": 47, \"duration\": 570, \"num_examples\": 346}\u001b[0m\n",
      "\u001b[31m[02/22/2019 14:29:53 INFO 140042773481280] #quality_metric: host=algo-1, epoch=47, batch=0 train rmse <loss>=0.415578119603\u001b[0m\n",
      "\u001b[31m[02/22/2019 14:29:53 INFO 140042773481280] #quality_metric: host=algo-1, epoch=47, train rmse <loss>=0.419399138388\u001b[0m\n",
      "\u001b[31m#metrics {\"Metrics\": {\"update.time\": {\"count\": 1, \"max\": 645.3678607940674, \"sum\": 645.3678607940674, \"min\": 645.3678607940674}}, \"EndTime\": 1550845793.642586, \"Dimensions\": {\"Host\": \"algo-1\", \"Operation\": \"training\", \"Algorithm\": \"factorization-machines\"}, \"StartTime\": 1550845792.996814}\n",
      "\u001b[0m\n",
      "\u001b[31m[02/22/2019 14:29:53 INFO 140042773481280] #progress_metric: host=algo-1, completed 24 % of epochs\u001b[0m\n",
      "\u001b[31m#metrics {\"Metrics\": {\"Max Batches Seen Between Resets\": {\"count\": 1, \"max\": 346, \"sum\": 346.0, \"min\": 346}, \"Number of Batches Since Last Reset\": {\"count\": 1, \"max\": 346, \"sum\": 346.0, \"min\": 346}, \"Number of Records Since Last Reset\": {\"count\": 1, \"max\": 34560, \"sum\": 34560.0, \"min\": 34560}, \"Total Batches Seen\": {\"count\": 1, \"max\": 16609, \"sum\": 16609.0, \"min\": 16609}, \"Total Records Seen\": {\"count\": 1, \"max\": 1658980, \"sum\": 1658980.0, \"min\": 1658980}, \"Max Records Seen Between Resets\": {\"count\": 1, \"max\": 34560, \"sum\": 34560.0, \"min\": 34560}, \"Reset Count\": {\"count\": 1, \"max\": 49, \"sum\": 49.0, \"min\": 49}}, \"EndTime\": 1550845793.642804, \"Dimensions\": {\"Host\": \"algo-1\", \"Meta\": \"training_data_iter\", \"Operation\": \"training\", \"Algorithm\": \"factorization-machines\", \"epoch\": 47}, \"StartTime\": 1550845792.997187}\n",
      "\u001b[0m\n",
      "\u001b[31m[02/22/2019 14:29:53 INFO 140042773481280] #throughput_metric: host=algo-1, train throughput=53520.3258292 records/second\u001b[0m\n",
      "\u001b[31m[2019-02-22 14:29:53.643] [tensorio] [info] data_pipeline_stats={\"name\": \"/opt/ml/input/data/train\", \"epoch\": 48, \"duration\": 644, \"num_examples\": 346}\u001b[0m\n",
      "\u001b[31m[02/22/2019 14:29:53 INFO 140042773481280] #quality_metric: host=algo-1, epoch=48, batch=0 train rmse <loss>=0.408654733924\u001b[0m\n",
      "\u001b[31m[02/22/2019 14:29:54 INFO 140042773481280] #quality_metric: host=algo-1, epoch=48, train rmse <loss>=0.413019820907\u001b[0m\n",
      "\u001b[31m#metrics {\"Metrics\": {\"update.time\": {\"count\": 1, \"max\": 574.5830535888672, \"sum\": 574.5830535888672, \"min\": 574.5830535888672}}, \"EndTime\": 1550845794.217694, \"Dimensions\": {\"Host\": \"algo-1\", \"Operation\": \"training\", \"Algorithm\": \"factorization-machines\"}, \"StartTime\": 1550845793.642652}\n",
      "\u001b[0m\n",
      "\u001b[31m[02/22/2019 14:29:54 INFO 140042773481280] #progress_metric: host=algo-1, completed 24 % of epochs\u001b[0m\n",
      "\u001b[