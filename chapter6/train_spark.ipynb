{
 "cells": [
  {
   "cell_type": "code",
   "execution_count": 1,
   "metadata": {},
   "outputs": [],
   "source": [
    "# download the sigir17 data from https://sites.google.com/site/limkwanhui/datacode\n",
    "# curl 'https://doc-00-b8-docs.googleusercontent.com/docs/securesc/ha0ro937gcuc7l7deffksulhg5h7mbp1/jbv2cduus8cnmhdbt7drradcako8r0ft/1550836800000/15465375115408245011/*/1TXw_HoUiyMLylcZY3VB5vsZG9jG0W1Je' > ~/SageMaker/mastering-ml-on-aws/chapter6/data-sigir17.zip\n",
    "# cd /SageMaker/mastering-ml-on-aws/chapter6/\n",
    "# unzip data-sigir17.zip\n",
    "# remove README files from all dirs"
   ]
  },
  {
   "cell_type": "code",
   "execution_count": 2,
   "metadata": {},
   "outputs": [],
   "source": [
    "from os.path import expanduser\n",
    "\n",
    "SRC_PATH = expanduser(\"~\") + '/SageMaker/mastering-ml-on-aws/chapter6/'\n"
   ]
  },
  {
   "cell_type": "code",
   "execution_count": 3,
   "metadata": {},
   "outputs": [],
   "source": [
    "from pyspark.context import SparkContext\n",
    "\n",
    "sc = SparkContext('local', 'test')\n"
   ]
  },
  {
   "cell_type": "code",
   "execution_count": 4,
   "metadata": {},
   "outputs": [],
   "source": [
    "from pyspark.sql import SQLContext\n",
    "\n",
    "spark = SQLContext(sc)"
   ]
  },
  {
   "cell_type": "code",
   "execution_count": 5,
   "metadata": {},
   "outputs": [],
   "source": [
    "poi_df = spark.read.csv(SRC_PATH + 'data-sigir17/poiList-sigir17', header=True, inferSchema=True, sep=';')"
   ]
  },
  {
   "cell_type": "code",
   "execution_count": 6,
   "metadata": {},
   "outputs": [
    {
     "data": {
      "text/html": [
       "<div>\n",
       "<style scoped>\n",
       "    .dataframe tbody tr th:only-of-type {\n",
       "        vertical-align: middle;\n",
       "    }\n",
       "\n",
       "    .dataframe tbody tr th {\n",
       "        vertical-align: top;\n",
       "    }\n",
       "\n",
       "    .dataframe thead th {\n",
       "        text-align: right;\n",
       "    }\n",
       "</style>\n",
       "<table border=\"1\" class=\"dataframe\">\n",
       "  <thead>\n",
       "    <tr style=\"text-align: right;\">\n",
       "      <th></th>\n",
       "      <th>poiID</th>\n",
       "      <th>poiName</th>\n",
       "      <th>lat</th>\n",
       "      <th>long</th>\n",
       "      <th>rideDuration</th>\n",
       "      <th>theme</th>\n",
       "      <th>theme2</th>\n",
       "      <th>theme3</th>\n",
       "      <th>theme4</th>\n",
       "    </tr>\n",
       "  </thead>\n",
       "  <tbody>\n",
       "    <tr>\n",
       "      <th>0</th>\n",
       "      <td>1</td>\n",
       "      <td>Gadget's Go Coaster</td>\n",
       "      <td>33.810259</td>\n",
       "      <td>-117.918438</td>\n",
       "      <td>1.00</td>\n",
       "      <td>Kiddie</td>\n",
       "      <td>Roller Coaster</td>\n",
       "      <td>None</td>\n",
       "      <td>None</td>\n",
       "    </tr>\n",
       "    <tr>\n",
       "      <th>1</th>\n",
       "      <td>2</td>\n",
       "      <td>Astro Orbitor</td>\n",
       "      <td>28.418532</td>\n",
       "      <td>-81.579153</td>\n",
       "      <td>1.50</td>\n",
       "      <td>Spinning Ride</td>\n",
       "      <td>None</td>\n",
       "      <td>None</td>\n",
       "      <td>None</td>\n",
       "    </tr>\n",
       "    <tr>\n",
       "      <th>2</th>\n",
       "      <td>3</td>\n",
       "      <td>Mad Tea Party</td>\n",
       "      <td>33.813458</td>\n",
       "      <td>-117.918289</td>\n",
       "      <td>1.50</td>\n",
       "      <td>Family</td>\n",
       "      <td>Spinning Ride</td>\n",
       "      <td>None</td>\n",
       "      <td>None</td>\n",
       "    </tr>\n",
       "    <tr>\n",
       "      <th>3</th>\n",
       "      <td>4</td>\n",
       "      <td>Dumbo the Flying Elephant</td>\n",
       "      <td>33.813680</td>\n",
       "      <td>-117.918928</td>\n",
       "      <td>1.67</td>\n",
       "      <td>Family</td>\n",
       "      <td>Spinning Ride</td>\n",
       "      <td>None</td>\n",
       "      <td>None</td>\n",
       "    </tr>\n",
       "  </tbody>\n",
       "</table>\n",
       "</div>"
      ],
      "text/plain": [
       "   poiID                    poiName        lat        long  rideDuration  \\\n",
       "0      1        Gadget's Go Coaster  33.810259 -117.918438          1.00   \n",
       "1      2              Astro Orbitor  28.418532  -81.579153          1.50   \n",
       "2      3              Mad Tea Party  33.813458 -117.918289          1.50   \n",
       "3      4  Dumbo the Flying Elephant  33.813680 -117.918928          1.67   \n",
       "\n",
       "           theme          theme2 theme3 theme4  \n",
       "0         Kiddie  Roller Coaster   None   None  \n",
       "1  Spinning Ride            None   None   None  \n",
       "2         Family   Spinning Ride   None   None  \n",
       "3         Family   Spinning Ride   None   None  "
      ]
     },
     "execution_count": 6,
     "metadata": {},
     "output_type": "execute_result"
    }
   ],
   "source": [
    "poi_df.limit(4).toPandas().head()"
   ]
  },
  {
   "cell_type": "code",
   "execution_count": 7,
   "metadata": {},
   "outputs": [],
   "source": [
    "visits_df = spark.read.csv(SRC_PATH + 'data-sigir17/userVisits-sigir17', header=True, inferSchema=True, sep=';')\n"
   ]
  },
  {
   "cell_type": "code",
   "execution_count": 8,
   "metadata": {},
   "outputs": [],
   "source": [
    "sample_df = visits_df.limit(1000).toPandas()"
   ]
  },
  {
   "cell_type": "code",
   "execution_count": 9,
   "metadata": {},
   "outputs": [
    {
     "data": {
      "text/html": [
       "<div>\n",
       "<style scoped>\n",
       "    .dataframe tbody tr th:only-of-type {\n",
       "        vertical-align: middle;\n",
       "    }\n",
       "\n",
       "    .dataframe tbody tr th {\n",
       "        vertical-align: top;\n",
       "    }\n",
       "\n",
       "    .dataframe thead th {\n",
       "        text-align: right;\n",
       "    }\n",
       "</style>\n",
       "<table border=\"1\" class=\"dataframe\">\n",
       "  <thead>\n",
       "    <tr style=\"text-align: right;\">\n",
       "      <th></th>\n",
       "      <th>id</th>\n",
       "      <th>nsid</th>\n",
       "      <th>takenUnix</th>\n",
       "      <th>poiID</th>\n",
       "      <th>poiTheme</th>\n",
       "      <th>poiFreq</th>\n",
       "      <th>rideDuration</th>\n",
       "      <th>seqID</th>\n",
       "    </tr>\n",
       "  </thead>\n",
       "  <tbody>\n",
       "    <tr>\n",
       "      <th>0</th>\n",
       "      <td>5858403310</td>\n",
       "      <td>10004778@N07</td>\n",
       "      <td>1308262550</td>\n",
       "      <td>6</td>\n",
       "      <td>Ride</td>\n",
       "      <td>1665</td>\n",
       "      <td>120.0</td>\n",
       "      <td>1</td>\n",
       "    </tr>\n",
       "    <tr>\n",
       "      <th>1</th>\n",
       "      <td>5857850631</td>\n",
       "      <td>10004778@N07</td>\n",
       "      <td>1308270702</td>\n",
       "      <td>26</td>\n",
       "      <td>Family</td>\n",
       "      <td>18710</td>\n",
       "      <td>900.0</td>\n",
       "      <td>1</td>\n",
       "    </tr>\n",
       "    <tr>\n",
       "      <th>2</th>\n",
       "      <td>5858399220</td>\n",
       "      <td>10004778@N07</td>\n",
       "      <td>1308631356</td>\n",
       "      <td>6</td>\n",
       "      <td>Ride</td>\n",
       "      <td>1665</td>\n",
       "      <td>120.0</td>\n",
       "      <td>2</td>\n",
       "    </tr>\n",
       "    <tr>\n",
       "      <th>3</th>\n",
       "      <td>8277294024</td>\n",
       "      <td>10004778@N07</td>\n",
       "      <td>1355568624</td>\n",
       "      <td>26</td>\n",
       "      <td>Family</td>\n",
       "      <td>18710</td>\n",
       "      <td>900.0</td>\n",
       "      <td>3</td>\n",
       "    </tr>\n",
       "    <tr>\n",
       "      <th>4</th>\n",
       "      <td>9219062165</td>\n",
       "      <td>10004778@N07</td>\n",
       "      <td>1373030964</td>\n",
       "      <td>29</td>\n",
       "      <td>Water</td>\n",
       "      <td>10427</td>\n",
       "      <td>900.0</td>\n",
       "      <td>4</td>\n",
       "    </tr>\n",
       "  </tbody>\n",
       "</table>\n",
       "</div>"
      ],
      "text/plain": [
       "           id          nsid   takenUnix  poiID poiTheme  poiFreq  \\\n",
       "0  5858403310  10004778@N07  1308262550      6     Ride     1665   \n",
       "1  5857850631  10004778@N07  1308270702     26   Family    18710   \n",
       "2  5858399220  10004778@N07  1308631356      6     Ride     1665   \n",
       "3  8277294024  10004778@N07  1355568624     26   Family    18710   \n",
       "4  9219062165  10004778@N07  1373030964     29    Water    10427   \n",
       "\n",
       "   rideDuration  seqID  \n",
       "0         120.0      1  \n",
       "1         900.0      1  \n",
       "2         120.0      2  \n",
       "3         900.0      3  \n",
       "4         900.0      4  "
      ]
     },
     "execution_count": 9,
     "metadata": {},
     "output_type": "execute_result"
    }
   ],
   "source": [
    "sample_df.head()"
   ]
  },
  {
   "cell_type": "code",
   "execution_count": 10,
   "metadata": {},
   "outputs": [
    {
     "data": {
      "text/html": [
       "<div>\n",
       "<style scoped>\n",
       "    .dataframe tbody tr th:only-of-type {\n",
       "        vertical-align: middle;\n",
       "    }\n",
       "\n",
       "    .dataframe tbody tr th {\n",
       "        vertical-align: top;\n",
       "    }\n",
       "\n",
       "    .dataframe thead th {\n",
       "        text-align: right;\n",
       "    }\n",
       "</style>\n",
       "<table border=\"1\" class=\"dataframe\">\n",
       "  <thead>\n",
       "    <tr style=\"text-align: right;\">\n",
       "      <th></th>\n",
       "      <th>summary</th>\n",
       "      <th>id</th>\n",
       "      <th>nsid</th>\n",
       "      <th>takenUnix</th>\n",
       "      <th>poiID</th>\n",
       "      <th>poiTheme</th>\n",
       "      <th>poiFreq</th>\n",
       "      <th>rideDuration</th>\n",
       "      <th>seqID</th>\n",
       "    </tr>\n",
       "  </thead>\n",
       "  <tbody>\n",
       "    <tr>\n",
       "      <th>0</th>\n",
       "      <td>count</td>\n",
       "      <td>332091</td>\n",
       "      <td>332091</td>\n",
       "      <td>332091</td>\n",
       "      <td>332091</td>\n",
       "      <td>332091</td>\n",
       "      <td>332091</td>\n",
       "      <td>332091</td>\n",
       "      <td>332091</td>\n",
       "    </tr>\n",
       "    <tr>\n",
       "      <th>1</th>\n",
       "      <td>mean</td>\n",
       "      <td>8.916292302139416E9</td>\n",
       "      <td>None</td>\n",
       "      <td>1.3233824075555675E9</td>\n",
       "      <td>15.975127299445031</td>\n",
       "      <td>None</td>\n",
       "      <td>6181.338365086678</td>\n",
       "      <td>740.7857015095311</td>\n",
       "      <td>4288.19415762547</td>\n",
       "    </tr>\n",
       "    <tr>\n",
       "      <th>2</th>\n",
       "      <td>stddev</td>\n",
       "      <td>6.226917245549271E9</td>\n",
       "      <td>None</td>\n",
       "      <td>7.424485813151878E7</td>\n",
       "      <td>8.695388902420351</td>\n",
       "      <td>None</td>\n",
       "      <td>5199.41535123871</td>\n",
       "      <td>488.5329445328169</td>\n",
       "      <td>3093.323953206581</td>\n",
       "    </tr>\n",
       "    <tr>\n",
       "      <th>3</th>\n",
       "      <td>min</td>\n",
       "      <td>102530213</td>\n",
       "      <td>10000151@N02</td>\n",
       "      <td>1187918299</td>\n",
       "      <td>1</td>\n",
       "      <td>Dark</td>\n",
       "      <td>162</td>\n",
       "      <td>60.0</td>\n",
       "      <td>1</td>\n",
       "    </tr>\n",
       "    <tr>\n",
       "      <th>4</th>\n",
       "      <td>max</td>\n",
       "      <td>29475731115</td>\n",
       "      <td>99987318@N03</td>\n",
       "      <td>1471870895</td>\n",
       "      <td>31</td>\n",
       "      <td>Water</td>\n",
       "      <td>18710</td>\n",
       "      <td>2700.0</td>\n",
       "      <td>11758</td>\n",
       "    </tr>\n",
       "  </tbody>\n",
       "</table>\n",
       "</div>"
      ],
      "text/plain": [
       "  summary                   id          nsid             takenUnix  \\\n",
       "0   count               332091        332091                332091   \n",
       "1    mean  8.916292302139416E9          None  1.3233824075555675E9   \n",
       "2  stddev  6.226917245549271E9          None   7.424485813151878E7   \n",
       "3     min            102530213  10000151@N02            1187918299   \n",
       "4     max          29475731115  99987318@N03            1471870895   \n",
       "\n",
       "                poiID poiTheme            poiFreq       rideDuration  \\\n",
       "0              332091   332091             332091             332091   \n",
       "1  15.975127299445031     None  6181.338365086678  740.7857015095311   \n",
       "2   8.695388902420351     None   5199.41535123871  488.5329445328169   \n",
       "3                   1     Dark                162               60.0   \n",
       "4                  31    Water              18710             2700.0   \n",
       "\n",
       "               seqID  \n",
       "0             332091  \n",
       "1   4288.19415762547  \n",
       "2  3093.323953206581  \n",
       "3                  1  \n",
       "4              11758  "
      ]
     },
     "execution_count": 10,
     "metadata": {},
     "output_type": "execute_result"
    }
   ],
   "source": [
    "visits_df.describe().toPandas()"
   ]
  },
  {
   "cell_type": "code",
   "execution_count": 11,
   "metadata": {},
   "outputs": [
    {
     "data": {
      "text/html": [
       "<div>\n",
       "<style scoped>\n",
       "    .dataframe tbody tr th:only-of-type {\n",
       "        vertical-align: middle;\n",
       "    }\n",
       "\n",
       "    .dataframe tbody tr th {\n",
       "        vertical-align: top;\n",
       "    }\n",
       "\n",
       "    .dataframe thead th {\n",
       "        text-align: right;\n",
       "    }\n",
       "</style>\n",
       "<table border=\"1\" class=\"dataframe\">\n",
       "  <thead>\n",
       "    <tr style=\"text-align: right;\">\n",
       "      <th></th>\n",
       "      <th>id</th>\n",
       "      <th>takenUnix</th>\n",
       "      <th>poiID</th>\n",
       "      <th>poiFreq</th>\n",
       "      <th>rideDuration</th>\n",
       "      <th>seqID</th>\n",
       "    </tr>\n",
       "  </thead>\n",
       "  <tbody>\n",
       "    <tr>\n",
       "      <th>count</th>\n",
       "      <td>1.000000e+03</td>\n",
       "      <td>1.000000e+03</td>\n",
       "      <td>1000.000000</td>\n",
       "      <td>1000.000000</td>\n",
       "      <td>1000.000000</td>\n",
       "      <td>1000.000000</td>\n",
       "    </tr>\n",
       "    <tr>\n",
       "      <th>mean</th>\n",
       "      <td>8.448781e+09</td>\n",
       "      <td>1.328379e+09</td>\n",
       "      <td>20.785000</td>\n",
       "      <td>7764.625000</td>\n",
       "      <td>625.260600</td>\n",
       "      <td>50.349000</td>\n",
       "    </tr>\n",
       "    <tr>\n",
       "      <th>std</th>\n",
       "      <td>4.805738e+09</td>\n",
       "      <td>6.346368e+07</td>\n",
       "      <td>8.138243</td>\n",
       "      <td>6233.964628</td>\n",
       "      <td>324.947216</td>\n",
       "      <td>20.027838</td>\n",
       "    </tr>\n",
       "    <tr>\n",
       "      <th>min</th>\n",
       "      <td>1.643421e+09</td>\n",
       "      <td>1.191397e+09</td>\n",
       "      <td>1.000000</td>\n",
       "      <td>580.000000</td>\n",
       "      <td>60.000000</td>\n",
       "      <td>1.000000</td>\n",
       "    </tr>\n",
       "    <tr>\n",
       "      <th>25%</th>\n",
       "      <td>6.075781e+09</td>\n",
       "      <td>1.308877e+09</td>\n",
       "      <td>15.000000</td>\n",
       "      <td>2757.000000</td>\n",
       "      <td>270.000000</td>\n",
       "      <td>33.000000</td>\n",
       "    </tr>\n",
       "    <tr>\n",
       "      <th>50%</th>\n",
       "      <td>6.222417e+09</td>\n",
       "      <td>1.310770e+09</td>\n",
       "      <td>23.000000</td>\n",
       "      <td>4082.000000</td>\n",
       "      <td>600.000000</td>\n",
       "      <td>56.000000</td>\n",
       "    </tr>\n",
       "    <tr>\n",
       "      <th>75%</th>\n",
       "      <td>1.151750e+10</td>\n",
       "      <td>1.376198e+09</td>\n",
       "      <td>28.000000</td>\n",
       "      <td>16366.000000</td>\n",
       "      <td>900.000000</td>\n",
       "      <td>69.000000</td>\n",
       "    </tr>\n",
       "    <tr>\n",
       "      <th>max</th>\n",
       "      <td>2.777601e+10</td>\n",
       "      <td>1.466605e+09</td>\n",
       "      <td>31.000000</td>\n",
       "      <td>18710.000000</td>\n",
       "      <td>1500.000000</td>\n",
       "      <td>73.000000</td>\n",
       "    </tr>\n",
       "  </tbody>\n",
       "</table>\n",
       "</div>"
      ],
      "text/plain": [
       "                 id     takenUnix        poiID       poiFreq  rideDuration  \\\n",
       "count  1.000000e+03  1.000000e+03  1000.000000   1000.000000   1000.000000   \n",
       "mean   8.448781e+09  1.328379e+09    20.785000   7764.625000    625.260600   \n",
       "std    4.805738e+09  6.346368e+07     8.138243   6233.964628    324.947216   \n",
       "min    1.643421e+09  1.191397e+09     1.000000    580.000000     60.000000   \n",
       "25%    6.075781e+09  1.308877e+09    15.000000   2757.000000    270.000000   \n",
       "50%    6.222417e+09  1.310770e+09    23.000000   4082.000000    600.000000   \n",
       "75%    1.151750e+10  1.376198e+09    28.000000  16366.000000    900.000000   \n",
       "max    2.777601e+10  1.466605e+09    31.000000  18710.000000   1500.000000   \n",
       "\n",
       "             seqID  \n",
       "count  1000.000000  \n",
       "mean     50.349000  \n",
       "std      20.027838  \n",
       "min       1.000000  \n",
       "25%      33.000000  \n",
       "50%      56.000000  \n",
       "75%      69.000000  \n",
       "max      73.000000  "
      ]
     },
     "execution_count": 11,
     "metadata": {},
     "output_type": "execute_result"
    }
   ],
   "source": [
    "sample_df.describe()"
   ]
  },
  {
   "cell_type": "code",
   "execution_count": 12,
   "metadata": {},
   "outputs": [
    {
     "data": {
      "text/plain": [
       "count             1000\n",
       "unique              36\n",
       "top       10182842@N08\n",
       "freq               365\n",
       "Name: nsid, dtype: object"
      ]
     },
     "execution_count": 12,
     "metadata": {},
     "output_type": "execute_result"
    }
   ],
   "source": [
    "sample_df.nsid.describe()"
   ]
  },
  {
   "cell_type": "code",
   "execution_count": 13,
   "metadata": {},
   "outputs": [],
   "source": [
    "visits_df.createOrReplaceTempView('visits')"
   ]
  },
  {
   "cell_type": "code",
   "execution_count": 14,
   "metadata": {},
   "outputs": [],
   "source": [
    "poi_df.createOrReplaceTempView('points')"
   ]
  },
  {
   "cell_type": "code",
   "execution_count": 15,
   "metadata": {},
   "outputs": [
    {
     "data": {
      "text/plain": [
       "31"
      ]
     },
     "execution_count": 15,
     "metadata": {},
     "output_type": "execute_result"
    }
   ],
   "source": [
    "spark.sql('select distinct poiID from visits').count()"
   ]
  },
  {
   "cell_type": "code",
   "execution_count": 16,
   "metadata": {},
   "outputs": [
    {
     "name": "stdout",
     "output_type": "stream",
     "text": [
      "+-------+------------+-----------------+\n",
      "|summary|        nsid|              cnt|\n",
      "+-------+------------+-----------------+\n",
      "|  count|        8903|             8903|\n",
      "|   mean|        null| 4.86027181848815|\n",
      "| stddev|        null|5.965584836576787|\n",
      "|    min|10000151@N02|                1|\n",
      "|    max|99987318@N03|               31|\n",
      "+-------+------------+-----------------+\n",
      "\n"
     ]
    }
   ],
   "source": [
    "spark.sql('select nsid,count(distinct poiID) as cnt from visits group by nsid').describe().show()"
   ]
  },
  {
   "cell_type": "code",
   "execution_count": 17,
   "metadata": {},
   "outputs": [
    {
     "name": "stdout",
     "output_type": "stream",
     "text": [
      "+-------+------------+------------------+-----------------+\n",
      "|summary|        nsid|             poiID|         count(1)|\n",
      "+-------+------------+------------------+-----------------+\n",
      "|  count|       43271|             43271|            43271|\n",
      "|   mean|        null|14.920061935245315|7.674678190936193|\n",
      "| stddev|        null| 8.437883931275111|52.93100615991835|\n",
      "|    min|10000151@N02|                 1|                1|\n",
      "|    max|99987318@N03|                31|             4128|\n",
      "+-------+------------+------------------+-----------------+\n",
      "\n"
     ]
    }
   ],
   "source": [
    "spark.sql('select nsid,poiID,count(*) from visits group by nsid,poiID').describe().show()"
   ]
  },
  {
   "cell_type": "code",
   "execution_count": 28,
   "metadata": {},
   "outputs": [],
   "source": [
    "train_df = spark.sql('select hash(nsid) as user_hash_id, poiID, count(*) as pictures_taken from visits group by 1,2')"
   ]
  },
  {
   "cell_type": "code",
   "execution_count": 21,
   "metadata": {},
   "outputs": [
    {
     "data": {
      "text/plain": [
       "43271"
      ]
     },
     "execution_count": 21,
     "metadata": {},
     "output_type": "execute_result"
    }
   ],
   "source": [
    "train_df.count()"
   ]
  },
  {
   "cell_type": "code",
   "execution_count": 51,
   "metadata": {},
   "outputs": [
    {
     "data": {
      "text/html": [
       "<div>\n",
       "<style scoped>\n",
       "    .dataframe tbody tr th:only-of-type {\n",
       "        vertical-align: middle;\n",
       "    }\n",
       "\n",
       "    .dataframe tbody tr th {\n",
       "        vertical-align: top;\n",
       "    }\n",
       "\n",
       "    .dataframe thead th {\n",
       "        text-align: right;\n",
       "    }\n",
       "</style>\n",
       "<table border=\"1\" class=\"dataframe\">\n",
       "  <thead>\n",
       "    <tr style=\"text-align: right;\">\n",
       "      <th></th>\n",
       "      <th>user_hash_id</th>\n",
       "      <th>poiID</th>\n",
       "      <th>pictures_taken</th>\n",
       "    </tr>\n",
       "  </thead>\n",
       "  <tbody>\n",
       "    <tr>\n",
       "      <th>0</th>\n",
       "      <td>-1861435726</td>\n",
       "      <td>19</td>\n",
       "      <td>7</td>\n",
       "    </tr>\n",
       "    <tr>\n",
       "      <th>1</th>\n",
       "      <td>-1064654977</td>\n",
       "      <td>26</td>\n",
       "      <td>8</td>\n",
       "    </tr>\n",
       "    <tr>\n",
       "      <th>2</th>\n",
       "      <td>-636721096</td>\n",
       "      <td>17</td>\n",
       "      <td>1</td>\n",
       "    </tr>\n",
       "  </tbody>\n",
       "</table>\n",
       "</div>"
      ],
      "text/plain": [
       "   user_hash_id  poiID  pictures_taken\n",
       "0   -1861435726     19               7\n",
       "1   -1064654977     26               8\n",
       "2    -636721096     17               1"
      ]
     },
     "execution_count": 51,
     "metadata": {},
     "output_type": "execute_result"
    }
   ],
   "source": [
    "train_df.limit(3).toPandas()"
   ]
  },
  {
   "cell_type": "code",
   "execution_count": 29,
   "metadata": {},
   "outputs": [],
   "source": [
    "from pyspark.ml.recommendation import ALS\n",
    "\n",
    "recommender = ALS(userCol=\"user_hash_id\", itemCol=\"poiID\", ratingCol=\"pictures_taken\", coldStartStrategy=\"drop\")\n",
    "\n",
    "model = recommender.fit(train_df)"
   ]
  },
  {
   "cell_type": "code",
   "execution_count": 30,
   "metadata": {},
   "outputs": [],
   "source": [
    "recommendations = model.recommendForAllUsers(10)"
   ]
  },
  {
   "cell_type": "code",
   "execution_count": 31,
   "metadata": {},
   "outputs": [
    {
     "data": {
      "text/html": [
       "<div>\n",
       "<style scoped>\n",
       "    .dataframe tbody tr th:only-of-type {\n",
       "        vertical-align: middle;\n",
       "    }\n",
       "\n",
       "    .dataframe tbody tr th {\n",
       "        vertical-align: top;\n",
       "    }\n",
       "\n",
       "    .dataframe thead th {\n",
       "        text-align: right;\n",
       "    }\n",
       "</style>\n",
       "<table borde