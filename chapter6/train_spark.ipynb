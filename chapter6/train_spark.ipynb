{
 "cells": [
  {
   "cell_type": "code",
   "execution_count": 1,
   "metadata": {},
   "outputs": [],
   "source": [
    "# download the sigir17 data from https://sites.google.com/site/limkwanhui/datacode\n",
    "# curl 'https://doc-00-b8-docs.googleusercontent.com/docs/securesc/ha0ro937gcuc7l7deffksulhg5h7mbp1/jbv2cduus8cnmhdbt7drradcako8r0ft/1550836800000/15465375115408245011/*/1TXw_HoUiyMLylcZY3VB5vsZG9jG0W1Je' > ~/SageMaker/mastering-ml-on-aws/chapter6/data-sigir17.zip\n",
    "# cd /SageMaker/mastering-ml-on-aws/chapter6/\n",
    "# unzip data-sigir17.zip\n",
    "# remove README files from all dirs"
   ]
  },
  {
   "cell_type": "code",
   "execution_count": 2,
   "metadata": {},
   "outputs": [],
   "source": [
    "from os.path import expanduser\n",
    "\n",
    "SRC_PATH = expanduser(\"~\") + '/SageMaker/mastering-ml-on-aws/chapter6/'\n"
   ]
  },
  {
   "cell_type": "code",
   "execution_count": 3,
   "metadata": {},
   "outputs": [],
   "source": [
    "from pyspark.context import SparkContext\n",
    "\n",
    "sc = SparkContext('local', 'test')\n"
   ]
  },
  {
   "cell_type": "code",
   "execution_count": 4,
   "metadata": {},
   "outputs": [],
   "source": [
    "from pyspark.sql import SQLContext\n",
    "\n",
    "spark = SQLContext(sc)"
   ]
  },
  {
   "cell_type": "code",
   "execution_count": 5,
   "metadata": {},
   "outputs": [],
   "source": [
    "poi_df = spark.read.csv(SRC_PATH + 'data-sigir17/poiList-sigir17', header=True, inferSchema=True, sep=';')"
   ]
  },
  {
   "cell_type": "code",
   "execution_count": 6,
   "metadata": {},
   "outputs": [
    {
     "data": {
      "text/html": [
       "<div>\n",
       "<style scoped>\n",
       "    .dataframe tbody tr th:only-of-type {\n",
       "        vertical-align: middle;\n",
       "    }\n",
       "\n",
       "    .dataframe tbody tr th {\n",
       "        vertical-align: top;\n",
       "    }\n",
       "\n",
       "    .dataframe thead th {\n",
       "        text-align: right;\n",
       "    }\n",
       "</style>\n",
       "<table border=\"1\" class=\"dataframe\">\n",
       "  <thead>\n",
       "    <tr style=\"text-align: right;\">\n",
       "      <th></th>\n",
       "      <th>poiID</th>\n",
       "      <th>poiName</th>\n",
       "      <th>lat</th>\n",
       "      <th>long</th>\n",
       "      <th>rideDuration</th>\n",
       "      <th>theme</th>\n",
       "      <th>theme2</th>\n",
       "      <th>theme3</th>\n",
       "      <th>theme4</th>\n",
       "    </tr>\n",
       "  </thead>\n",
       "  <tbody>\n",
       "    <tr>\n",
       "      <th>0</th>\n",
       "      <td>1</td>\n",
       "      <td>Gadget's Go Coaster</td>\n",
       "      <td>33.810259</td>\n",
       "      <td>-117.918438</td>\n",
       "      <td>1.00</td>\n",
       "      <td>Kiddie</td>\n",
       "      <td>Roller Coaster</td>\n",
       "      <td>None</td>\n",
       "      <td>None</td>\n",
       "    </tr>\n",
       "    <tr>\n",
       "      <th>1</th>\n",
       "      <td>2</td>\n",
       "      <td>Astro Orbitor</td>\n",
       "      <td>28.418532</td>\n",
       "      <td>-81.579153</td>\n",
       "      <td>1.50</td>\n",
       "      <td>Spinning Ride</td>\n",
       "      <td>None</td>\n",
       "      <td>None</td>\n",
       "      <td>None</td>\n",
       "    </tr>\n",
       "    <tr>\n",
       "      <th>2</th>\n",
       "      <td>3</td>\n",
       "      <td>Mad Tea Party</td>\n",
       "      <td>33.813458</td>\n",
       "      <td>-117.918289</td>\n",
       "      <td>1.50</td>\n",
       "      <td>Family</td>\n",
       "      <td>Spinning Ride</td>\n",
       "      <td>None</td>\n",
       "      <td>None</td>\n",
       "    </tr>\n",
       "    <tr>\n",
       "      <th>3</th>\n",
       "      <td>4</td>\n",
       "      <td>Dumbo the Flying Elephant</td>\n",
       "      <td>33.813680</td>\n",
       "      <td>-117.918928</td>\n",
       "      <td>1.67</td>\n",
       "      <