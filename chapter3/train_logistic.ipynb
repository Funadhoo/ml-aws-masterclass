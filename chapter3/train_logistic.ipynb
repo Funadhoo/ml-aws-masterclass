
{
 "cells": [
  {
   "cell_type": "code",
   "execution_count": 2,
   "metadata": {
    "collapsed": true
   },
   "outputs": [
    {
     "name": "stdout",
     "output_type": "stream",
     "text": [
      "Collecting pyspark\r\n"
     ]
    },
    {
     "name": "stdout",
     "output_type": "stream",
     "text": [
      "  Downloading http://artifactory.devaws.dataxu.net/artifactory/api/pypi/pypi-virtual/packages/88/01/a37e827c2d80c6a754e40e99b9826d978b55254cc6c6672b5b08f2e18a7f/pyspark-2.4.0.tar.gz (213.4MB)\r\n\u001b[?25l\r\u001b[K    0% |                                | 10kB 24.9MB/s eta 0:00:09"
     ]
    },
    {
     "name": "stdout",
     "output_type": "stream",
     "text": [
      "\r\u001b[K    0% |                                | 20kB 111kB/s eta 0:31:55\r\u001b[K    0% |                                | 30kB 165kB/s eta 0:21:33"
     ]
    },
    {
     "name": "stdout",
     "output_type": "stream",
     "text": [
      "\r\u001b[K    0% |                                | 40kB 111kB/s eta 0:31:52\r\u001b[K    0% |                                | 51kB 138kB/s eta 0:25:39\r\u001b[K    0% |                                | 61kB 165kB/s eta 0:21:30\r\u001b[K    0% |                                | 71kB 192kB/s eta 0:18:29\r\u001b[K    0% |                                | 81kB 219kB/s eta 0:16:14"
     ]
    },
    {
     "name": "stdout",
     "output_type": "stream",
     "text": [
      "\r\u001b[K    0% |                                | 92kB 194kB/s eta 0:18:18"
     ]
    },
    {
     "name": "stdout",
     "output_type": "stream",
     "text": [
      "\r\u001b[K    0% |                                | 102kB 185kB/s eta 0:19:13\r\u001b[K    0% |                                | 112kB 184kB/s eta 0:19:14\r\u001b[K    0% |                                | 122kB 275kB/s eta 0:12:55\r\u001b[K    0% |                                | 133kB 276kB/s eta 0:12:53"
     ]
    },
    {
     "name": "stdout",
     "output_type": "stream",
     "text": [
      "\r\u001b[K    0% |                                | 143kB 530kB/s eta 0:06:43\r\u001b[K    0% |                                | 153kB 533kB/s eta 0:06:40\r\u001b[K    0% |                                | 163kB 536kB/s eta 0:06:38\r\u001b[K    0% |                                | 174kB 535kB/s eta 0:06:39"
     ]
    },
    {
     "name": "stdout",
     "output_type": "stream",
     "text": [
      "\r\u001b[K    0% |                                | 184kB 349kB/s eta 0:10:10"
     ]
    },
    {
     "name": "stdout",
     "output_type": "stream",
     "text": [
      "\r\u001b[K    0% |                                | 194kB 523kB/s eta 0:06:48"
     ]
    },
    {
     "name": "stdout",
     "output_type": "stream",
     "text": [
      "\r\u001b[K    0% |                                | 204kB 561kB/s eta 0:06:21\r\u001b[K    0% |                                | 215kB 559kB/s eta 0:06:22\r\u001b[K    0% |                                | 225kB 559kB/s eta 0:06:21\r\u001b[K    0% |                                | 235kB 558kB/s eta 0:06:22\r\u001b[K    0% |                                | 245kB 565kB/s eta 0:06:17\r\u001b[K    0% |                                | 256kB 565kB/s eta 0:06:17\r\u001b[K    0% |                                | 266kB 562kB/s eta 0:06:19\r\u001b[K    0% |                                | 276kB 562kB/s eta 0:06:19\r\u001b[K    0% |                                | 286kB 1.3MB/s eta 0:02:48\r\u001b[K    0% |                                | 296kB 1.3MB/s eta 0:02:44\r\u001b[K    0% |                                | 307kB 7.5MB/s eta 0:00:29"
     ]
    },
    {
     "name": "stdout",
     "output_type": "stream",
     "text": [
      "\r\u001b[K    0% |                                | 317kB 889kB/s eta 0:04:00\r\u001b[K    0% |                                | 327kB 872kB/s eta 0:04:05"
     ]
    },
    {
     "name": "stdout",
     "output_type": "stream",
     "text": [
      "\r\u001b[K    0% |                                | 337kB 564kB/s eta 0:06:18\r\u001b[K    0% |                                | 348kB 565kB/s eta 0:06:17\r\u001b[K    0% |                                | 358kB 564kB/s eta 0:06:18\r\u001b[K    0% |                                | 368kB 568kB/s eta 0:06:15\r\u001b[K    0% |                                | 378kB 568kB/s eta 0:06:15\r\u001b[K    0% |                                | 389kB 571kB/s eta 0:06:13\r\u001b[K    0% |                                | 399kB 571kB/s eta 0:06:13\r\u001b[K    0% |                                | 409kB 571kB/s eta 0:06:13\r\u001b[K    0% |                                | 419kB 1.3MB/s eta 0:02:40\r\u001b[K    0% |                                | 430kB 1.4MB/s eta 0:02:35\r\u001b[K    0% |                                | 440kB 10.9MB/s eta 0:00:20\r\u001b[K    0% |                                | 450kB 10.9MB/s eta 0:00:20\r\u001b[K    0% |                                | 460kB 11.3MB/s eta 0:00:19\r\u001b[K    0% |                                | 471kB 11.0MB/s eta 0:00:20\r\u001b[K    0% |                                | 481kB 11.6MB/s eta 0:00:19\r\u001b[K    0% |                                | 491kB 11.2MB/s eta 0:00:20\r\u001b[K    0% |                                | 501kB 11.4MB/s eta 0:00:19\r\u001b[K    0% |                                | 512kB 11.3MB/s eta 0:00:19"
     ]
    },
    {
     "name": "stdout",
     "output_type": "stream",
     "text": [
      "\r\u001b[K    0% |                                | 522kB 950kB/s eta 0:03:45\r\u001b[K    0% |                                | 532kB 930kB/s eta 0:03:49"
     ]
    },
    {
     "name": "stdout",
     "output_type": "stream",
     "text": [
      "\r\u001b[K    0% |                                | 542kB 584kB/s eta 0:06:05"
     ]
    },
    {
     "name": "stdout",
     "output_type": "stream",
     "text": [
      "\r\u001b[K    0% |                                | 552kB 581kB/s eta 0:06:06\r\u001b[K    0% |                                | 563kB 576kB/s eta 0:06:10\r\u001b[K    0% |                                | 573kB 575kB/s eta 0:06:11\r\u001b[K    0% |                                | 583kB 573kB/s eta 0:06:12\r\u001b[K    0% |                                | 593kB 567kB/s eta 0:06:15\r\u001b[K    0% |                                | 604kB 567kB/s eta 0:06:16\r\u001b[K    0% |                                | 614kB 566kB/s eta 0:06:16\r\u001b[K    0% |                                | 624kB 1.2MB/s eta 0:02:53\r\u001b[K    0% |                                | 634kB 1.3MB/s eta 0:02:49\r\u001b[K    0% |                                | 645kB 6.4MB/s eta 0:00:34\r\u001b[K    0% |                                | 655kB 6.5MB/s eta 0:00:33\r\u001b[K    0% |                                | 665kB 7.1MB/s eta 0:00:30\r\u001b[K    0% |                                | 675kB 7.4MB/s eta 0:00:29"
     ]
    },
    {
     "name": "stdout",
     "output_type": "stream",
     "text": [
      "\r\u001b[K    0% |                                | 686kB 496kB/s eta 0:07:09\r\u001b[K    0% |                                | 696kB 499kB/s eta 0:07:06\r\u001b[K    0% |                                | 706kB 502kB/s eta 0:07:04\r\u001b[K    0% |                                | 716kB 504kB/s eta 0:07:02\r\u001b[K    0% |                                | 727kB 508kB/s eta 0:06:59\r\u001b[K    0% |                                | 737kB 510kB/s eta 0:06:57"
     ]
    },
    {
     "name": "stdout",
     "output_type": "stream",
     "text": [
      "\r\u001b[K    0% |▏                               | 747kB 362kB/s eta 0:09:47\r\u001b[K    0% |▏                               | 757kB 361kB/s eta 0:09:49\r\u001b[K    0% |▏                               | 768kB 360kB/s eta 0:09:51\r\u001b[K    0% |▏                               | 778kB 359kB/s eta 0:09:52\r\u001b[K    0% |▏                               | 788kB 1.1MB/s eta 0:03:10\r\u001b[K    0% |▏                               | 798kB 1.1MB/s eta 0:03:08\r\u001b[K    0% |▏                               | 808kB 1.1MB/s eta 0:03:08\r\u001b[K    0% |▏                               | 819kB 1.1MB/s eta 0:03:08\r\u001b[K    0% |▏                               | 829kB 1.1MB/s eta 0:03:08\r\u001b[K    0% |▏                               | 839kB 1.1MB/s eta 0:03:07\r\u001b[K    0% |▏                               | 849kB 14.9MB/s eta 0:00:15\r\u001b[K    0% |▏                               | 860kB 20.7MB/s eta 0:00:11\r\u001b[K    0% |▏                               | 870kB 33.0MB/s eta 0:00:07\r\u001b[K    0% |▏                               | 880kB 59.6MB/s eta 0:00:04\r\u001b[K    0% |▏                               | 890kB 66.8MB/s eta 0:00:04\r\u001b[K    0% |▏                               | 901kB 71.2MB/s eta 0:00:03\r\u001b[K    0% |▏                               | 911kB 72.8MB/s eta 0:00:03\r\u001b[K    0% |▏                               | 921kB 71.1MB/s eta 0:00:03\r\u001b[K    0% |▏                               | 931kB 71.4MB/s eta 0:00:03\r\u001b[K    0% |▏                               | 942kB 71.8MB/s eta 0:00:03\r\u001b[K    0% |▏                               | 952kB 71.9MB/s eta 0:00:03\r\u001b[K    0% |▏                               | 962kB 75.6MB/s eta 0:00:03\r\u001b[K    0% |▏                               | 972kB 75.7MB/s eta 0:00:03\r\u001b[K    0% |▏                               | 983kB 75.5MB/s eta 0:00:03\r\u001b[K    0% |▏                               | 993kB 73.4MB/s eta 0:00:03\r\u001b[K    0% |▏                               | 1.0MB 73.0MB/s eta 0:00:03\r\u001b[K    0% |▏                               | 1.0MB 73.0MB/s eta 0:00:03\r\u001b[K    0% |▏                               | 1.0MB 75.7MB/s eta 0:00:03\r\u001b[K    0% |▏                               | 1.0MB 75.9MB/s eta 0:00:03\r\u001b[K    0% |▏                               | 1.0MB 76.0MB/s eta 0:00:03\r\u001b[K    0% |▏                               | 1.1MB 73.4MB/s eta 0:00:03\r\u001b[K    0% |▏                               | 1.1MB 73.0MB/s eta 0:00:03\r\u001b[K    0% |▏                               | 1.1MB 73.5MB/s eta 0:00:03\r\u001b[K    0% |▏                               | 1.1MB 73.5MB/s eta 0:00:03"
     ]
    },
    {
     "name": "stdout",
     "output_type": "stream",
     "text": [
      "\r\u001b[K    0% |▏                               | 1.1MB 1.1MB/s eta 0:03:10\r\u001b[K    0% |▏                               | 1.1MB 1.1MB/s eta 0:03:12\r\u001b[K    0% |▏                               | 1.1MB 1.1MB/s eta 0:03:14\r\u001b[K    0% |▏                               | 1.1MB 1.1MB/s eta 0:03:15\r\u001b[K    0% |▏                               | 1.1MB 1.1MB/s eta 0:03:17\r\u001b[K    0% |▏                               | 1.1MB 1.1MB/s eta 0:03:19"
     ]
    },
    {
     "name": "stdout",
     "output_type": "stream",
     "text": [
      "\r\u001b[K    0% |▏                               | 1.2MB 586kB/s eta 0:06:03\r\u001b[K    0% |▏                               | 1.2MB 579kB/s eta 0:06:07\r\u001b[K    0% |▏                               | 1.2MB 571kB/s eta 0:06:12\r\u001b[K    0% |▏                               | 1.2MB 568kB/s eta 0:06:14\r\u001b[K    0% |▏                               | 1.2MB 1.1MB/s eta 0:03:09\r\u001b[K    0% |▏                               | 1.2MB 1.1MB/s eta 0:03:10\r\u001b[K    0% |▏                               | 1.2MB 1.1MB/s eta 0:03:10"
     ]
    },
    {
     "name": "stdout",
     "output_type": "stream",
     "text": [
      "\r\u001b[K    0% |▏                               | 1.2MB 1.1MB/s eta 0:03:11\r\u001b[K    0% |▏                               | 1.2MB 1.1MB/s eta 0:03:11\r\u001b[K    0% |▏                               | 1.2MB 1.1MB/s eta 0:03:12\r\u001b[K    0% |▏                               | 1.3MB 7.1MB/s eta 0:00:30\r\u001b[K    0% |▏                               | 1.3MB 7.6MB/s eta 0:00:29\r\u001b[K    0% |▏                               | 1.3MB 8.6MB/s eta 0:00:25\r\u001b[K    0% |▏                               | 1.3MB 8.3MB/s eta 0:00:26\r\u001b[K    0% |▏                               | 1.3MB 7.9MB/s eta 0:00:27\r\u001b[K    0% |▏                               | 1.3MB 8.4MB/s eta 0:00:26\r\u001b[K    0% |▏                               | 1.3MB 8.6MB/s eta 0:00:25\r\u001b[K    0% |▏                               | 1.3MB 9.1MB/s eta 0:00:24\r\u001b[K    0% |▏                               | 1.3MB 9.1MB/s eta 0:00:24\r\u001b[K    0% |▏                               | 1.4MB 9.4MB/s eta 0:00:23\r\u001b[K    0% |▏                               | 1.4MB 9.4MB/s eta 0:00:23\r\u001b[K    0% |▏                               | 1.4MB 9.8MB/s eta 0:00:22\r\u001b[K    0% |▏                               | 1.4MB 10.1MB/s eta 0:00:22\r\u001b[K    0% |▏                               | 1.4MB 10.8MB/s eta 0:00:20\r\u001b[K    0% |▏                               | 1.4MB 11.9MB/s eta 0:00:18\r\u001b[K    0% |▏                               | 1.4MB 11.8MB/s eta 0:00:19\r\u001b[K    0% |▏                               | 1.4MB 12.0MB/s eta 0:00:18\r\u001b[K    0% |▏                               | 1.4MB 12.0MB/s eta 0:00:18"
     ]
    },
    {
     "name": "stdout",
     "output_type": "stream",
     "text": [
      "\r\u001b[K    0% |▏                               | 1.4MB 502kB/s eta 0:07:02"
     ]
    },
    {
     "name": "stdout",
     "output_type": "stream",
     "text": [
      "\r\u001b[K    0% |▏                               | 1.5MB 504kB/s eta 0:07:01\r\u001b[K    0% |▏                               | 1.5MB 506kB/s eta 0:06:59\r\u001b[K    0% |▏                               | 1.5MB 507kB/s eta 0:06:58\r\u001b[K    0% |▎                               | 1.5MB 508kB/s eta 0:06:57\r\u001b[K    0% |▎                               | 1.5MB 507kB/s eta 0:06:58\r\u001b[K    0% |▎                               | 1.5MB 509kB/s eta 0:06:57\r\u001b[K    0% |▎                               | 1.5MB 510kB/s eta 0:06:55\r\u001b[K    0% |▎                               | 1.5MB 512kB/s eta 0:06:54\r\u001b[K    0% |▎                               | 1.5MB 513kB/s eta 0:06:53\r\u001b[K    0% |▎                               | 1.5MB 30.5MB/s eta 0:00:07\r\u001b[K    0% |▎                               | 1.6MB 31.1MB/s eta 0:00:07\r\u001b[K    0% |▎                               | 1.6MB 34.5MB/s eta 0:00:07\r\u001b[K    0% |▎                               | 1.6MB 36.4MB/s eta 0:00:06\r\u001b[K    0% |▎                               | 1.6MB 36.8MB/s eta 0:00:06\r\u001b[K    0% |▎                               | 1.6MB 57.9MB/s eta 0:00:04\r\u001b[K    0% |▎                               | 1.6MB 55.8MB/s eta 0:00:04\r\u001b[K    0% |▎                               | 1.6MB 57.5MB/s eta 0:00:04\r\u001b[K    0% |▎                               | 1.6MB 55.6MB/s eta 0:00:04\r\u001b[K    0% |▎                               | 1.6MB 55.0MB/s eta 0:00:04\r\u001b[K    0% |▎                               | 1.6MB 53.8MB/s eta 0:00:04\r\u001b[K    0% |▎                               | 1.7MB 53.1MB/s eta 0:00:04\r\u001b[K    0% |▎                               | 1.7MB 51.5MB/s eta 0:00:05\r\u001b[K    0% |▎                               | 1.7MB 51.7MB/s eta 0:00:05\r\u001b[K    0% |▎                               | 1.7MB 53.6MB/s eta 0:00:04\r\u001b[K    0% |▎                               | 1.7MB 55.8MB/s eta 0:00:04\r\u001b[K    0% |▎                               | 1.7MB 57.4MB/s eta 0:00:04\r\u001b[K    0% |▎                               | 1.7MB 59.6MB/s eta 0:00:04\r\u001b[K    0% |▎                               | 1.7MB 63.9MB/s eta 0:00:04\r\u001b[K    0% |▎                               | 1.7MB 67.0MB/s eta 0:00:04\r\u001b[K    0% |▎                               | 1.8MB 69.7MB/s eta 0:00:04\r\u001b[K    0% |▎                               | 1.8MB 70.8MB/s eta 0:00:03\r\u001b[K    0% |▎                               | 1.8MB 69.8MB/s eta 0:00:04\r\u001b[K    0% |▎                               | 1.8MB 66.4MB/s eta 0:00:04\r\u001b[K    0% |▎                               | 1.8MB 54.8MB/s eta 0:00:04\r\u001b[K    0% |▎                               | 1.8MB 48.6MB/s eta 0:00:05\r\u001b[K    0% |▎                               | 1.8MB 47.6MB/s eta 0:00:05\r\u001b[K    0% |▎                               | 1.8MB 46.0MB/s eta 0:00:05\r\u001b[K    0% |▎                               | 1.8MB 44.2MB/s eta 0:00:05"
     ]
    },
    {
     "name": "stdout",
     "output_type": "stream",
     "text": [
      "\r\u001b[K    0% |▎                               | 1.8MB 2.0MB/s eta 0:01:47"
     ]
    },
    {
     "name": "stdout",
     "output_type": "stream",
     "text": [
      "\r\u001b[K    0% |▎                               | 1.9MB 570kB/s eta 0:06:11\r\u001b[K    0% |▎                               | 1.9MB 564kB/s eta 0:06:16\r\u001b[K    0% |▎                               | 1.9MB 561kB/s eta 0:06:17\r\u001b[K    0% |▎                               | 1.9MB 560kB/s eta 0:06:18\r\u001b[K    0% |▎                               | 1.9MB 559kB/s eta 0:06:19\r\u001b[K    0% |▎                               | 1.9MB 552kB/s eta 0:06:23\r\u001b[K    0% |▎                               | 1.9MB 551kB/s eta 0:06:24\r\u001b[K    0% |▎                               | 1.9MB 549kB/s eta 0:06:25\r\u001b[K    0% |▎                               | 1.9MB 547kB/s eta 0:06:27\r\u001b[K    0% |▎                               | 1.9MB 737kB/s eta 0:04:47\r\u001b[K    0% |▎                               | 2.0MB 8.7MB/s eta 0:00:25\r\u001b[K    0% |▎                               | 2.0MB 9.7MB/s eta 0:00:22\r\u001b[K    0% |▎                               | 2.0MB 9.7MB/s eta 0:00:22\r\u001b[K    0% |▎                               | 2.0MB 9.8MB/s eta 0:00:22\r\u001b[K    0% |▎                               | 2.0MB 9.7MB/s eta 0:00:22\r\u001b[K    0% |▎                               | 2.0MB 11.5MB/s eta 0:00:19\r\u001b[K    0% |▎                               | 2.0MB 11.3MB/s eta 0:00:19\r\u001b[K    0% |▎                               | 2.0MB 11.5MB/s eta 0:00:19\r\u001b[K    0% |▎                               | 2.0MB 11.4MB/s eta 0:00:19\r\u001b[K    0% |▎                               | 2.0MB 11.9MB/s eta 0:00:18\r\u001b[K    0% |▎                               | 2.1MB 12.5MB/s eta 0:00:17\r\u001b[K    0% |▎                               | 2.1MB 12.7MB/s eta 0:00:17"
     ]
    },
    {
     "name": "stdout",
     "output_type": "stream",
     "text": [
      "\r\u001b[K    0% |▎                               | 2.1MB 188kB/s eta 0:18:42\r\u001b[K    0% |▎                               | 2.1MB 187kB/s eta 0:18:47\r\u001b[K    0% |▎                               | 2.1MB 187kB/s eta 0:18:45\r\u001b[K    0% |▎                               | 2.1MB 188kB/s eta 0:18:44\r\u001b[K    0% |▎                               | 2.1MB 188kB/s eta 0:18:43\r\u001b[K    0% |▎                               | 2.1MB 188kB/s eta 0:18:41\r\u001b[K    1% |▎                               | 2.1MB 188kB/s eta 0:18:40\r\u001b[K    1% |▎                               | 2.2MB 188kB/s eta 0:18:38\r\u001b[K    1% |▎                               | 2.2MB 189kB/s eta 0:18:37\r\u001b[K    1% |▎                               | 2.2MB 189kB/s eta 0:18:36\r\u001b[K    1% |▎                               | 2.2MB 23.5MB/s eta 0:00:09\r\u001b[K    1% |▎                               | 2.2MB 68.3MB/s eta 0:00:04\r\u001b[K    1% |▎                               | 2.2MB 80.1MB/s eta 0:00:03\r\u001b[K    1% |▎                               | 2.2MB 87.6MB/s eta 0:00:03\r\u001b[K    1% |▎                               | 2.2MB 89.8MB/s eta 0:00:03\r\u001b[K    1% |▍                               | 2.2MB 85.9MB/s eta 0:00:03\r\u001b[K    1% |▍                               | 2.2MB 85.0MB/s eta 0:00:03\r\u001b[K    1% |▍                               | 2.3MB 87.1MB/s eta 0:00:03\r\u001b[K    1% |▍                               | 2.3MB 88.4MB/s eta 0:00:03\r\u001b[K    1% |▍                               | 2.3MB 91.8MB/s eta 0:00:03\r\u001b[K    1% |▍                               | 2.3MB 94.9MB/s eta 0:00:03\r\u001b[K    1% |▍                               | 2.3MB 96.1MB/s eta 0:00:03\r\u001b[K    1% |▍                               | 2.3MB 91.3MB/s eta 0:00:03\r\u001b[K    1% |▍                               | 2.3MB 91.0MB/s eta 0:00:03\r\u001b[K    1% |▍                               | 2.3MB 51.3MB/s eta 0:00:05\r\u001b[K    1% |▍                               | 2.3MB 5.8MB/s eta 0:00:37\r\u001b[K    1% |▍                               | 2.3MB 4.8MB/s eta 0:00:45"
     ]
    },
    {
     "name": "stdout",
     "output_type": "stream",
     "text": [
      "\r\u001b[K    1% |▍                               | 2.4MB 3.7MB/s eta 0:00:57\r\u001b[K    1% |▍                               | 2.4MB 3.2MB/s eta 0:01:07\r\u001b[K    1% |▍                               | 2.4MB 3.0MB/s eta 0:01:11\r\u001b[K    1% |▍                               | 2.4MB 2.9MB/s eta 0:01:13"
     ]
    },
    {
     "name": "stdout",
     "output_type": "stream",
     "text": [
      "\r\u001b[K    1% |▍                               | 2.4MB 587kB/s eta 0:06:00\r\u001b[K    1% |▍                               | 2.4MB 584kB/s eta 0:06:01\r\u001b[K    1% |▍                               | 2.4MB 580kB/s eta 0:06:04\r\u001b[K    1% |▍                               | 2.4MB 580kB/s eta 0:06:04\r\u001b[K    1% |▍                               | 2.4MB 636kB/s eta 0:05:32\r\u001b[K    1% |▍                               | 2.4MB 652kB/s eta 0:05:24\r\u001b[K    1% |▍                               | 2.5MB 677kB/s eta 0:05:12\r\u001b[K    1% |▍                               | 2.5MB 698kB/s eta 0:05:02\r\u001b[K    1% |▍                               | 2.5MB 707kB/s eta 0:04:59\r\u001b[K    1% |▍                               | 2.5MB 713kB/s eta 0:04:56\r\u001b[K    1% |▍                               | 2.5MB 22.4MB/s eta 0:00:10\r\u001b[K    1% |▍                               | 2.5MB 26.5MB/s eta 0:00:08\r\u001b[K    1% |▍                               | 2.5MB 38.7MB/s eta 0:00:06\r\u001b[K    1% |▍                               | 2.5MB 49.8MB/s eta 0:00:05\r\u001b[K    1% |▍                               | 2.5MB 48.7MB/s eta 0:00:05\r\u001b[K    1% |▍                               | 2.5MB 35.6MB/s eta 0:00:06\r\u001b[K    1% |▍                               | 2.6MB 25.4MB/s eta 0:00:09\r\u001b[K    1% |▍                               | 2.6MB 21.4MB/s eta 0:00:10\r\u001b[K    1% |▍                               | 2.6MB 18.0MB/s eta 0:00:12\r\u001b[K    1% |▍                               | 2.6MB 15.8MB/s eta 0:00:14"
     ]
    },
    {
     "name": "stdout",
     "output_type": "stream",
     "text": [
      "\r\u001b[K    1% |▍                               | 2.6MB 11.7MB/s eta 0:00:19\r\u001b[K    1% |▍                               | 2.6MB 4.9MB/s eta 0:00:44\r\u001b[K    1% |▍                               | 2.6MB 4.5MB/s eta 0:00:47\r\u001b[K    1% |▍                               | 2.6MB 4.0MB/s eta 0:00:54\r\u001b[K    1% |▍                               | 2.6MB 3.7MB/s eta 0:00:57\r\u001b[K    1% |▍                               | 2.7MB 3.4MB/s eta 0:01:03\r\u001b[K    1% |▍                               | 2.7MB 3.1MB/s eta 0:01:08\r\u001b[K    1% |▍                               | 2.7MB 3.0MB/s eta 0:01:11\r\u001b[K    1% |▍                               | 2.7MB 3.0MB/s eta 0:01:11\r\u001b[K    1% |▍                               | 2.7MB 2.9MB/s eta 0:01:12\r\u001b[K    1% |▍                               | 2.7MB 3.0MB/s eta 0:01:10"
     ]
    },
    {
     "name": "stdout",
     "output_type": "stream",
     "text": [
      "\r\u001b[K    1% |▍                               | 2.7MB 633kB/s eta 0:05:33\r\u001b[K    1% |▍                               | 2.7MB 635kB/s eta 0:05:32\r\u001b[K    1% |▍                               | 2.7MB 640kB/s eta 0:05:29\r\u001b[K    1% |▍                               | 2.7MB 644kB/s eta 0:05:28\r\u001b[K    1% |▍                               | 2.8MB 656kB/s eta 0:05:21\r\u001b[K    1% |▍                               | 2.8MB 670kB/s eta 0:05:15\r\u001b[K    1% |▍                               | 2.8MB 672kB/s eta 0:05:14\r\u001b[K    1% |▍                               | 2.8MB 674kB/s eta 0:05:13\r\u001b[K    1% |▍                               | 2.8MB 624kB/s eta 0:05:38\r\u001b[K    1% |▍                               | 2.8MB 612kB/s eta 0:05:45\r\u001b[K    1% |▍                               | 2.8MB 3.5MB/s eta 0:01:00\r\u001b[K    1% |▍                               | 2.8MB 3.2MB/s eta 0:01:06\r\u001b[K    1% |▍                               | 2.8MB 2.8MB/s eta 0:01:15\r\u001b[K    1% |▍                               | 2.8MB 2.7MB/s eta 0:01:19"
     ]
    },
    {
     "name": "stdout",
     "output_type": "stream",
     "text": [
      "\r\u001b[K    1% |▍                               | 2.9MB 2.6MB/s eta 0:01:21"
     ]
    },
    {
     "name": "stdout",
     "output_type": "stream",
     "text": [
      "\r\u001b[K    1% |▍                               | 2.9MB 577kB/s eta 0:06:05\r\u001b[K    1% |▍                               | 2.9MB 573kB/s eta 0:06:08\r\u001b[K    1% |▍                               | 2.9MB 569kB/s eta 0:06:10\r\u001b[K    1% |▍                               | 2.9MB 613kB/s eta 0:05:44\r\u001b[K    1% |▍                               | 2.9MB 625kB/s eta 0:05:37\r\u001b[K    1% |▍                               | 2.9MB 630kB/s eta 0:05:34\r\u001b[K    1% |▍                               | 2.9MB 640kB/s eta 0:05:29\r\u001b[K    1% |▍                               | 2.9MB 662kB/s eta 0:05:18\r\u001b[K    1% |▍                               | 2.9MB 644kB/s eta 0:05:27"
     ]
    },
    {
     "name": "stdout",
     "output_type": "stream",
     "text": [
      "\r\u001b[K    1% |▍                               | 3.0MB 623kB/s eta 0:05:38\r\u001b[K    1% |▌                               | 3.0MB 3.6MB/s eta 0:00:58\r\u001b[K    1% |▌                               | 3.0MB 3.6MB/s eta 0:00:58\r\u001b[K    1% |▌                               | 3.0MB 3.5MB/s eta 0:01:01\r\u001b[K    1% |▌                               | 3.0MB 2.9MB/s eta 0:01:13\r\u001b[K    1% |▌                               | 3.0MB 2.7MB/s eta 0:01:18\r\u001b[K    1% |▌                               | 3.0MB 2.7MB/s eta 0:01:19"
     ]
    },
    {
     "name": "stdout",
     "output_type": "stream",
     "text": [
      "\r\u001b[K    1% |▌                               | 3.0MB 585kB/s eta 0:06:00"
     ]
    },
    {
     "name": "stdout",
     "output_type": "stream",
     "text": [
      "\r\u001b[K    1% |▌                               | 3.0MB 578kB/s eta 0:06:04\r\u001b[K    1% |▌                               | 3.1MB 597kB/s eta 0:05:52\r\u001b[K    1% |▌                               | 3.1MB 615kB/s eta 0:05:42\r\u001b[K    1% |▌                               | 3.1MB 619kB/s eta 0:05:40\r\u001b[K    1% |▌                               | 3.1MB 622kB/s eta 0:05:38\r\u001b[K    1% |▌                               | 3.1MB 633kB/s eta 0:05:32\r\u001b[K    1% |▌                               | 3.1MB 655kB/s eta 0:05:21\r\u001b[K    1% |▌                               | 3.1MB 647kB/s eta 0:05:25\r\u001b[K    1% |▌                               | 3.1MB 634kB/s eta 0:05:32\r\u001b[K    1% |▌                               | 3.1MB 3.8MB/s eta 0:00:57\r\u001b[K    1% |▌                               | 3.1MB 3.7MB/s eta 0:00:57\r\u001b[K    1% |▌                               | 3.2MB 3.7MB/s eta 0:00:58\r\u001b[K    1% |▌                               | 3.2MB 3.1MB/s eta 0:01:09\r\u001b[K    1% |▌                               | 3.2MB 3.0MB/s eta 0:01:11\r\u001b[K    1% |▌                               | 3.2MB 2.9MB/s eta 0:01:13"
     ]
    },
    {
     "name": "stdout",
     "output_type": "stream",
     "text": [
      "\r\u001b[K    1% |▌                               | 3.2MB 692kB/s eta 0:05:04"
     ]
    },
    {
     "name": "stdout",
     "output_type": "stream",
     "text": [
      "\r\u001b[K    1% |▌                               | 3.2MB 590kB/s eta 0:05:57\r\u001b[K    1% |▌                               | 3.2MB 600kB/s eta 0:05:50\r\u001b[K    1% |▌                               | 3.2MB 608kB/s eta 0:05:46\r\u001b[K    1% |▌                               | 3.2MB 618kB/s eta 0:05:41\r\u001b[K    1% |▌                               | 3.2MB 624kB/s eta 0:05:37\r\u001b[K    1% |▌                               | 3.3MB 625kB/s eta 0:05:36\r\u001b[K    1% |▌                               | 3.3MB 649kB/s eta 0:05:24\r\u001b[K    1% |▌                               | 3.3MB 656kB/s eta 0:05:20\r\u001b[K    1% |▌                               | 3.3MB 643kB/s eta 0:05:27\r\u001b[K    1% |▌                               | 3.3MB 2.1MB/s eta 0:01:42"
     ]
    },
    {
     "name": "stdout",
     "output_type": "stream",
     "text": [
      "\r\u001b[K    1% |▌                               | 3.3MB 3.9MB/s eta 0:00:54\r\u001b[K    1% |▌                               | 3.3MB 3.8MB/s eta 0:00:55\r\u001b[K    1% |▌                               | 3.3MB 3.8MB/s eta 0:00:56\r\u001b[K    1% |▌                               | 3.3MB 3.1MB/s eta 0:01:08\r\u001b[K    1% |▌                               | 3.3MB 3.0MB/s eta 0:01:11\r\u001b[K    1% |▌                               | 3.4MB 2.3MB/s eta 0:01:30"
     ]
    },
    {
     "name": "stdout",
     "output_type": "stream",
     "text": [
      "\r\u001b[K    1% |▌                               | 3.4MB 601kB/s eta 0:05:50\r\u001b[K    1% |▌                               | 3.4MB 591kB/s eta 0:05:56"
     ]
    },
    {
     "name": "stdout",
     "output_type": "stream",
     "text": [
      "\r\u001b[K    1% |▌                               | 3.4MB 605kB/s eta 0:05:47\r\u001b[K    1% |▌                               | 3.4MB 611kB/s eta 0:05:44\r\u001b[K    1% |▌                               | 3.4MB 616kB/s eta 0:05:41\r\u001b[K    1% |▌                               | 3.4MB 624kB/s eta 0:05:37\r\u001b[K    1% |▌                               | 3.4MB 628kB/s eta 0:05:35\r\u001b[K    1% |▌                               | 3.4MB 652kB/s eta 0:05:22\r\u001b[K    1% |▌                               | 3.5MB 659kB/s eta 0:05:19\r\u001b[K    1% |▌                               | 3.5MB 687kB/s eta 0:05:06\r\u001b[K    1% |▌                               | 3.5MB 4.1MB/s eta 0:00:52\r\u001b[K    1% |▌                               | 3.5MB 4.2MB/s eta 0:00:50\r\u001b[K    1% |▌                               | 3.5MB 4.0MB/s eta 0:00:53\r\u001b[K    1% |▌                               | 3.5MB 3.3MB/s eta 0:01:04\r\u001b[K    1% |▌                               | 3.5MB 3.2MB/s eta 0:01:07\r\u001b[K    1% |▌                               | 3.5MB 3.0MB/s eta 0:01:10\r\u001b[K    1% |▌                               | 3.5MB 3.1MB/s eta 0:01:09"
     ]
    },
    {
     "name": "stdout",
     "output_type": "stream",
     "text": [
      "\r\u001b[K    1% |▌                               | 3.5MB 603kB/s eta 0:05:48\r\u001b[K    1% |▌                               | 3.6MB 595kB/s eta 0:05:53\r\u001b[K    1% |▌                               | 3.6MB 606kB/s eta 0:05:47\r\u001b[K    1% |▌                               | 3.6MB 609kB/s eta 0:05:45\r\u001b[K    1% |▌                               | 3.6MB 619kB/s eta 0:05:39\r\u001b[K    1% |▌                               | 3.6MB 627kB/s eta 0:05:35\r\u001b[K    1% |▌                               | 3.6MB 649kB/s eta 0:05:24\r\u001b[K    1% |▌                               | 3.6MB 644kB/s eta 0:05:26\r\u001b[K    1% |▌                               | 3.6MB 653kB/s eta 0:05:21\r\u001b[K    1% |▌                               | 3.6MB 634kB/s eta 0:05:31\r\u001b[K    1% |▌                               | 3.6MB 3.6MB/s eta 0:00:58\r\u001b[K    1% |▌                               | 3.7MB 3.8MB/s eta 0:00:56\r\u001b[K    1% |▌                               | 3.7MB 3.8MB/s eta 0:00:56"
     ]
    },
    {
     "name": "stdout",
     "output_type": "stream",
     "text": [
      "\r\u001b[K    1% |▌                               | 3.7MB 3.1MB/s eta 0:01:09\r\u001b[K    1% |▌                               | 3.7MB 2.9MB/s eta 0:01:12\r\u001b[K    1% |▌                               | 3.7MB 2.9MB/s eta 0:01:12"
     ]
    },
    {
     "name": "stdout",
     "output_type": "stream",
     "text": [
      "\r\u001b[K    1% |▋                               | 3.7MB 740kB/s eta 0:04:44\r\u001b[K    1% |▋                               | 3.7MB 711kB/s eta 0:04:55\r\u001b[K    1% |▋                               | 3.7MB 604kB/s eta 0:05:48\r\u001b[K    1% |▋                               | 3.7MB 616kB/s eta 0:05:40\r\u001b[K    1% |▋                               | 3.7MB 625kB/s eta 0:05:36\r\u001b[K    1% |▋                               | 3.8MB 627kB/s eta 0:05:35\r\u001b[K    1% |▋                               | 3.8MB 629kB/s eta 0:05:34\r\u001b[K    1% |▋                               | 3.8MB 661kB/s eta 0:05:17\r\u001b[K    1% |▋                               | 3.8MB 666kB/s eta 0:05:15"
     ]
    },
    {
     "name": "stdout",
     "output_type": "stream",
     "text": [
      "\r\u001b[K    1% |▋                               | 3.8MB 657kB/s eta 0:05:19\r\u001b[K    1% |▋                               | 3.8MB 1.9MB/s eta 0:01:49\r\u001b[K    1% |▋                               | 3.8MB 2.1MB/s eta 0:01:42\r\u001b[K    1% |▋                               | 3.8MB 3.8MB/s eta 0:00:56\r\u001b[K    1% |▋                               | 3.8MB 3.9MB/s eta 0:00:54\r\u001b[K    1% |▋                               | 3.9MB 4.0MB/s eta 0:00:53\r\u001b[K    1% |▋                               | 3.9MB 3.0MB/s eta 0:01:11\r\u001b[K    1% |▋                               | 3.9MB 2.9MB/s eta 0:01:13\r\u001b[K    1% |▋                               | 3.9MB 3.0MB/s eta 0:01:11"
     ]
    },
    {
     "name": "stdout",
     "output_type": "stream",
     "text": [
      "\r\u001b[K    1% |▋                               | 3.9MB 739kB/s eta 0:04:44"
     ]
    },
    {
     "name": "stdout",
     "output_type": "stream",
     "text": [
      "\r\u001b[K    1% |▋                               | 3.9MB 611kB/s eta 0:05:43\r\u001b[K    1% |▋                               | 3.9MB 608kB/s eta 0:05:45\r\u001b[K    1% |▋                               | 3.9MB 622kB/s eta 0:05:37\r\u001b[K    1% |▋                               | 3.9MB 626kB/s eta 0:05:35\r\u001b[K    1% |▋                               | 3.9MB 630kB/s eta 0:05:33\r\u001b[K    1% |▋                               | 4.0MB 630kB/s eta 0:05:33\r\u001b[K    1% |▋                               | 4.0MB 666kB/s eta 0:05:15\r\u001b[K    1% |▋                               | 4.0MB 669kB/s eta 0:05:13\r\u001b[K    1% |▋                               | 4.0MB 662kB/s eta 0:05:17\r\u001b[K    1% |▋                               | 4.0MB 1.9MB/s eta 0:01:52\r\u001b[K    1% |▋                               | 4.0MB 3.7MB/s eta 0:00:57\r\u001b[K    1% |▋                               | 4.0MB 3.9MB/s eta 0:00:54\r\u001b[K    1% |▋                               | 4.0MB 3.7MB/s eta 0:00:57\r\u001b[K    1% |▋                               | 4.0MB 3.1MB/s eta 0:01:09\r\u001b[K    1% |▋                               | 4.0MB 2.9MB/s eta 0:01:12"
     ]
    },
    {
     "name": "stdout",
     "output_type": "stream",
     "text": [
      "\r\u001b[K    1% |▋                               | 4.1MB 2.9MB/s eta 0:01:12\r\u001b[K    1% |▋                               | 4.1MB 2.9MB/s eta 0:01:13"
     ]
    },
    {
     "name": "stdout",
     "output_type": "stream",
     "text": [
      "\r\u001b[K    1% |▋                               | 4.1MB 738kB/s eta 0:04:44"
     ]
    },
    {
     "name": "stdout",
     "output_type": "stream",
     "text": [
      "\r\u001b[K    1% |▋                               | 4.1MB 605kB/s eta 0:05:46\r\u001b[K    1% |▋                               | 4.1MB 614kB/s eta 0:05:41\r\u001b[K    1% |▋                               | 4.1MB 624kB/s eta 0:05:36\r\u001b[K    1% |▋                               | 4.1MB 626kB/s eta 0:05:35\r\u001b[K    1% |▋                               | 4.1MB 636kB/s eta 0:05:29\r\u001b[K    1% |▋                               | 4.1MB 659kB/s eta 0:05:18\r\u001b[K    1% |▋                               | 4.1MB 664kB/s eta 0:05:15\r\u001b[K    1% |▋                               | 4.2MB 666kB/s eta 0:05:14\r\u001b[K    1% |▋                               | 4.2MB 671kB/s eta 0:05:12"
     ]
    },
    {
     "name": "stdout",
     "output_type": "stream",
     "text": [
      "\r\u001b[K    1% |▋                               | 4.2MB 1.9MB/s eta 0:01:50\r\u001b[K    1% |▋                               | 4.2MB 4.1MB/s eta 0:00:52\r\u001b[K    1% |▋                               | 4.2MB 3.9MB/s eta 0:00:54\r\u001b[K    1% |▋                               | 4.2MB 3.9MB/s eta 0:00:54\r\u001b[K    1% |▋                               | 4.2MB 3.0MB/s eta 0:01:11\r\u001b[K    1% |▋                               | 4.2MB 2.9MB/s eta 0:01:13\r\u001b[K    1% |▋                               | 4.2MB 3.0MB/s eta 0:01:11"
     ]
    },
    {
     "name": "stdout",
     "output_type": "stream",
     "text": [
      "\r\u001b[K    1% |▋                               | 4.2MB 760kB/s eta 0:04:35\r\u001b[K    1% |▋                               | 4.3MB 746kB/s eta 0:04:41\r\u001b[K    2% |▋                               | 4.3MB 604kB/s eta 0:05:47"
     ]
    },
    {
     "name": "stdout",
     "output_type": "stream",
     "text": [
      "\r\u001b[K    2% |▋                               | 4.3MB 616kB/s eta 0:05:40\r\u001b[K    2% |▋                               | 4.3MB 623kB/s eta 0:05:36\r\u001b[K    2% |▋                               | 4.3MB 629kB/s eta 0:05:32\r\u001b[K    2% |▋                               | 4.3MB 630kB/s eta 0:05:32\r\u001b[K    2% |▋                               | 4.3MB 666kB/s eta 0:05:14\r\u001b[K    2% |▋                               | 4.3MB 669kB/s eta 0:05:13\r\u001b[K    2% |▋                               | 4.3MB 670kB/s eta 0:05:13\r\u001b[K    2% |▋                               | 4.4MB 1.9MB/s eta 0:01:48\r\u001b[K    2% |▋                               | 4.4MB 1.9MB/s eta 0:01:48\r\u001b[K    2% |▋                               | 4.4MB 4.1MB/s eta 0:00:51\r\u001b[K    2% |▋                               | 4.4MB 4.1MB/s eta 0:00:52\r\u001b[K    2% |▋                               | 4.4MB 4.1MB/s eta 0:00:51\r\u001b[K    2% |▋                               | 4.4MB 3.0MB/s eta 0:01:09\r\u001b[K    2% |▋                               | 4.4MB 2.9MB/s eta 0:01:12\r\u001b[K    2% |▋                               | 4.4MB 3.0MB/s eta 0:01:11"
     ]
    },
    {
     "name": "stdout",
     "output_type": "stream",
     "text": [
      "\r\u001b[K    2% |▋                               | 4.4MB 755kB/s eta 0:04:37\r\u001b[K    2% |▋                               | 4.4MB 750kB/s eta 0:04:39"
     ]
    },
    {
     "name": "stdout",
     "output_type": "stream",
     "text": [
      "\r\u001b[K    2% |▊                               | 4.5MB 606kB/s eta 0:05:45\r\u001b[K    2% |▊                               | 4.5MB 609kB/s eta 0:05:43\r\u001b[K    2% |▊                               | 4.5MB 621kB/s eta 0:05:36\r\u001b[K    2% |▊                               | 4.5MB 621kB/s eta 0:05:37\r\u001b[K    2% |▊                               | 4.5MB 623kB/s eta 0:05:36\r\u001b[K    2% |▊                               | 4.5MB 657kB/s eta 0:05:18\r\u001b[K    2% |▊                               | 4.5MB 665kB/s eta 0:05:15\r\u001b[K    2% |▊                               | 4.5MB 662kB/s eta 0:05:16\r\u001b[K    2% |▊                               | 4.5MB 1.9MB/s eta 0:01:48\r\u001b[K    2% |▊                               | 4.5MB 1.8MB/s eta 0:01:57"
     ]
    },
    {
     "name": "stdout",
     "output_type": "stream",
     "text": [
      "\r\u001b[K    2% |▊                               | 4.6MB 3.8MB/s eta 0:00:56\r\u001b[K    2% |▊                               | 4.6MB 3.9MB/s eta 0:00:54\r\u001b[K    2% |▊                               | 4.6MB 3.9MB/s eta 0:00:54\r\u001b[K    2% |▊                               | 4.6MB 2.8MB/s eta 0:01:14\r\u001b[K    2% |▊                               | 4.6MB 2.9MB/s eta 0:01:14\r\u001b[K    2% |▊                               | 4.6MB 3.0MB/s eta 0:01:11"
     ]
    },
    {
     "name": "stdout",
     "output_type": "stream",
     "text": [
      "\r\u001b[K    2% |▊                               | 4.6MB 762kB/s eta 0:04:34\r\u001b[K    2% |▊                               | 4.6MB 605kB/s eta 0:05:45"
     ]
    },
    {
     "name": "stdout",
     "output_type": "stream",
     "text": [
      "\r\u001b[K    2% |▊                               | 4.6MB 594kB/s eta 0:05:51\r\u001b[K    2% |▊                               | 4.6MB 615kB/s eta 0:05:40\r\u001b[K    2% |▊                               | 4.7MB 623kB/s eta 0:05:35\r\u001b[K    2% |▊                               | 4.7MB 622kB/s eta 0:05:36\r\u001b[K    2% |▊                               | 4.7MB 620kB/s eta 0:05:37\r\u001b[K    2% |▊                               | 4.7MB 665kB/s eta 0:05:14\r\u001b[K    2% |▊                               | 4.7MB 663kB/s eta 0:05:15\r\u001b[K    2% |▊                               | 4.7MB 663kB/s eta 0:05:15\r\u001b[K    2% |▊                               | 4.7MB 1.9MB/s eta 0:01:51\r\u001b[K    2% |▊                               | 4.7MB 4.2MB/s eta 0:00:50\r\u001b[K    2% |▊                               | 4.7MB 4.2MB/s eta 0:00:50\r\u001b[K    2% |▊                               | 4.8MB 4.1MB/s eta 0:00:51\r\u001b[K    2% |▊                               | 4.8MB 4.3MB/s eta 0:00:49\r\u001b[K    2% |▊                               | 4.8MB 2.8MB/s eta 0:01:14\r\u001b[K    2% |▊                               | 4.8MB 2.9MB/s eta 0:01:13"
     ]
    },
    {
     "name": "stdout",
     "output_type": "stream",
     "text": [
      "\r\u001b[K    2% |▊                               | 4.8MB 766kB/s eta 0:04:33\r\u001b[K    2% |▊                               | 4.8MB 765kB/s eta 0:04:33"
     ]
    },
    {
     "name": "stdout",
     "output_type": "stream",
     "text": [
      "\r\u001b[K    2% |▊                               | 4.8MB 602kB/s eta 0:05:47\r\u001b[K    2% |▊                               | 4.8MB 596kB/s eta 0:05:50\r\u001b[K    2% |▊                               | 4.8MB 611kB/s eta 0:05:41\r\u001b[K    2% |▊                               | 4.8MB 624kB/s eta 0:05:34\r\u001b[K    2% |▊                               | 4.9MB 626kB/s eta 0:05:34\r\u001b[K    2% |▊                               | 4.9MB 621kB/s eta 0:05:36\r\u001b[K    2% |▊                               | 4.9MB 667kB/s eta 0:05:13\r\u001b[K    2% |▊                               | 4.9MB 668kB/s eta 0:05:13\r\u001b[K    2% |▊                               | 4.9MB 1.9MB/s eta 0:01:52\r\u001b[K    2% |▊                               | 4.9MB 1.7MB/s eta 0:02:01\r\u001b[K    2% |▊                               | 4.9MB 4.4MB/s eta 0:00:48\r\u001b[K    2% |▊                               | 4.9MB 4.1MB/s eta 0:00:51\r\u001b[K    2% |▊                               | 4.9MB 4.3MB/s eta 0:00:49\r\u001b[K    2% |▊                               | 4.9MB 4.2MB/s eta 0:00:50"
     ]
    },
    {
     "name": "stdout",
     "output_type": "stream",
     "text": [
      "\r\u001b[K    2% |▊                               | 5.0MB 2.7MB/s eta 0:01:17\r\u001b[K    2% |▊                               | 5.0MB 2.8MB/s eta 0:01:15"
     ]
    },
    {
     "name": "stdout",
     "output_type": "stream",
     "text": [
      "\r\u001b[K    2% |▊                               | 5.0MB 771kB/s eta 0:04:31"
     ]
    },
    {
     "name": "stdout",
     "output_type": "stream",
     "text": [
      "\r\u001b[K    2% |▊                               | 5.0MB 772kB/s eta 0:04:30\r\u001b[K    2% |▊                               | 5.0MB 599kB/s eta 0:05:48\r\u001b[K    2% |▊                               | 5.0MB 614kB/s eta 0:05:40\r\u001b[K    2% |▊                               | 5.0MB 611kB/s eta 0:05:41\r\u001b[K    2% |▊                               | 5.0MB 626kB/s eta 0:05:33\r\u001b[K    2% |▊                               | 5.0MB 625kB/s eta 0:05:34\r\u001b[K    2% |▊                               | 5.0MB 625kB/s eta 0:05:33\r\u001b[K    2% |▊                               | 5.1MB 678kB/s eta 0:05:08"
     ]
    },
    {
     "name": "stdout",
     "output_type": "stream",
     "text": [
      "\r\u001b[K    2% |▊                               | 5.1MB 664kB/s eta 0:05:14\r\u001b[K    2% |▊                               | 5.1MB 1.8MB/s eta 0:01:56\r\u001b[K    2% |▊                               | 5.1MB 1.7MB/s eta 0:02:03\r\u001b[K    2% |▊                               | 5.1MB 4.6MB/s eta 0:00:46\r\u001b[K    2% |▊                               | 5.1MB 4.0MB/s eta 0:00:53\r\u001b[K    2% |▊                               | 5.1MB 4.1MB/s eta 0:00:52\r\u001b[K    2% |▊                               | 5.1MB 4.0MB/s eta 0:00:52\r\u001b[K    2% |▊                               | 5.1MB 2.8MB/s eta 0:01:15\r\u001b[K    2% |▊                               | 5.2MB 2.8MB/s eta 0:01:16"
     ]
    },
    {
     "name": "stdout",
     "output_type": "stream",
     "text": [
      "\r\u001b[K    2% |▊                               | 5.2MB 771kB/s eta 0:04:30\r\u001b[K    2% |▊                               | 5.2MB 782kB/s eta 0:04:27"
     ]
    },
    {
     "name": "stdout",
     "output_type": "stream",
     "text": [
      "\r\u001b[K    2% |▊                               | 5.2MB 612kB/s eta 0:05:41\r\u001b[K    2% |▉                               | 5.2MB 620kB/s eta 0:05:36\r\u001b[K    2% |▉                               | 5.2MB 620kB/s eta 0:05:36\r\u001b[K    2% |▉                               | 5.2MB 635kB/s eta 0:05:28\r\u001b[K    2% |▉                               | 5.2MB 633kB/s eta 0:05:29\r\u001b[K    2% |▉                               | 5.2MB 631kB/s eta 0:05:30\r\u001b[K    2% |▉                               | 5.2MB 682kB/s eta 0:05:06\r\u001b[K    2% |▉                               | 5.3MB 684kB/s eta 0:05:05\r\u001b[K    2% |▉                               | 5.3MB 1.8MB/s eta 0:01:55\r\u001b[K    2% |▉                               | 5.3MB 1.8MB/s eta 0:01:56\r\u001b[K    2% |▉                               | 5.3MB 4.7MB/s eta 0:00:45\r\u001b[K    2% |▉                               | 5.3MB 4.7MB/s eta 0:00:44\r\u001b[K    2% |▉                               | 5.3MB 3.8MB/s eta 0:00:55\r\u001b[K    2% |▉                               | 5.3MB 4.0MB/s eta 0:00:53\r\u001b[K    2% |▉                               | 5.3MB 4.0MB/s eta 0:00:52\r\u001b[K    2% |▉                               | 5.3MB 2.9MB/s eta 0:01:13"
     ]
    },
    {
     "name": "stdout",
     "output_type": "stream",
     "text": [
      "\r\u001b[K    2% |▉                               | 5.3MB 2.8MB/s eta 0:01:16"
     ]
    },
    {
     "name": "stdout",
     "output_type": "stream",
     "text": [
      "\r\u001b[K    2% |▉                               | 5.4MB 768kB/s eta 0:04:31\r\u001b[K    2% |▉                               | 5.4MB 783kB/s eta 0:04:26"
     ]
    },
    {
     "name": "stdout",
     "output_type": "stream",
     "text": [
      "\r\u001b[K    2% |▉                               | 5.4MB 613kB/s eta 0:05:40\r\u001b[K    2% |▉                               | 5.4MB 614kB/s eta 0:05:39\r\u001b[K    2% |▉                               | 5.4MB 617kB/s eta 0:05:37\r\u001b[K    2% |▉                               | 5.4MB 636kB/s eta 0:05:27\r\u001b[K    2% |▉                               | 5.4MB 631kB/s eta 0:05:30\r\u001b[K    2% |▉                               | 5.4MB 632kB/s eta 0:05:29\r\u001b[K    2% |▉                               | 5.4MB 680kB/s eta 0:05:06\r\u001b[K    2% |▉                               | 5.4MB 683kB/s eta 0:05:05\r\u001b[K    2% |▉                               | 5.5MB 1.8MB/s eta 0:01:55\r\u001b[K    2% |▉                               | 5.5MB 1.8MB/s eta 0:01:57"
     ]
    },
    {
     "name": "stdout",
     "output_type": "stream",
     "text": [
      "\r\u001b[K    2% |▉                               | 5.5MB 4.7MB/s eta 0:00:45\r\u001b[K    2% |▉                               | 5.5MB 4.1MB/s eta 0:00:51\r\u001b[K    2% |▉                               | 5.5MB 3.9MB/s eta 0:00:53\r\u001b[K    2% |▉                               | 5.5MB 4.0MB/s eta 0:00:53\r\u001b[K    2% |▉                               | 5.5MB 3.1MB/s eta 0:01:09\r\u001b[K    2% |▉                               | 5.5MB 2.8MB/s eta 0:01:14\r\u001b[K    2% |▉                               | 5.5MB 2.7MB/s eta 0:01:17"
     ]
    },
    {
     "name": "stdout",
     "output_type": "stream",
     "text": [
      "\r\u001b[K    2% |▉                               | 5.6MB 769kB/s eta 0:04:31\r\u001b[K    2% |▉                               | 5.6MB 615kB/s eta 0:05:38"
     ]
    },
    {
     "name": "stdout",
     "output_type": "stream",
     "text": [
      "\r\u001b[K    2% |▉                               | 5.6MB 613kB/s eta 0:05:39\r\u001b[K    2% |▉                               | 5.6MB 616kB/s eta 0:05:37\r\u001b[K    2% |▉                               | 5.6MB 629kB/s eta 0:05:30\r\u001b[K    2% |▉                               | 5.6MB 633kB/s eta 0:05:29\r\u001b[K    2% |▉                               | 5.6MB 632kB/s eta 0:05:29\r\u001b[K    2% |▉                               | 5.6MB 669kB/s eta 0:05:11\r\u001b[K    2% |▉                               | 5.6MB 679kB/s eta 0:05:06\r\u001b[K    2% |▉                               | 5.6MB 685kB/s eta 0:05:04\r\u001b[K    2% |▉                               | 5.7MB 1.9MB/s eta 0:01:50\r\u001b[K    2% |▉                               | 5.7MB 4.7MB/s eta 0:00:45\r\u001b[K    2% |▉                               | 5.7MB 4.7MB/s eta 0:00:45\r\u001b[K    2% |▉                               | 5.7MB 4.2MB/s eta 0:00:51\r\u001b[K    2% |▉                               | 5.7MB 3.8MB/s eta 0:00:55\r\u001b[K    2% |▉                               | 5.7MB 3.9MB/s eta 0:00:53\r\u001b[K    2% |▉                               | 5.7MB 3.0MB/s eta 0:01:10\r\u001b[K    2% |▉                               | 5.7MB 2.9MB/s eta 0:01:13"
     ]
    },
    {
     "name": "stdout",
     "output_type": "stream",
     "text": [
      "\r\u001b[K    2% |▉                               | 5.7MB 785kB/s eta 0:04:25\r\u001b[K    2% |▉                               | 5.7MB 768kB/s eta 0:04:31"
     ]
    },
    {
     "name": "stdout",
     "output_type": "stream",
     "text": [
      "\r\u001b[K    2% |▉                               | 5.8MB 606kB/s eta 0:05:43\r\u001b[K    2% |▉                               | 5.8MB 611kB/s eta 0:05:40\r\u001b[K    2% |▉                               | 5.8MB 616kB/s eta 0:05:37\r\u001b[K    2% |▉                               | 5.8MB 631kB/s eta 0:05:29\r\u001b[K    2% |▉                               | 5.8MB 642kB/s eta 0:05:23\r\u001b[K    2% |▉                               | 5.8MB 637kB/s eta 0:05:26\r\u001b[K    2% |▉                               | 5.8MB 669kB/s eta 0:05:10\r\u001b[K    2% |▉                               | 5.8MB 676kB/s eta 0:05:07\r\u001b[K    2% |▉                               | 5.8MB 1.8MB/s eta 0:01:56\r\u001b[K    2% |▉                               | 5.8MB 1.9MB/s eta 0:01:52\r\u001b[K    2% |▉                               | 5.9MB 5.2MB/s eta 0:00:40\r\u001b[K    2% |▉                               | 5.9MB 4.7MB/s eta 0:00:44"
     ]
    },
    {
     "name": "stdout",
     "output_type": "stream",
     "text": [
      "\r\u001b[K    2% |▉                               | 5.9MB 4.1MB/s eta 0:00:51\r\u001b[K    2% |▉                               | 5.9MB 3.7MB/s eta 0:00:56\r\u001b[K    2% |▉                               | 5.9MB 3.6MB/s eta 0:00:59\r\u001b[K    2% |▉                               | 5.9MB 2.9MB/s eta 0:01:12\r\u001b[K    2% |▉                               | 5.9MB 2.9MB/s eta 0:01:11"
     ]
    },
    {
     "name": "stdout",
     "output_type": "stream",
     "text": [
      "\r\u001b[K    2% |█                               | 5.9MB 786kB/s eta 0:04:24\r\u001b[K    2% |█                               | 5.9MB 776kB/s eta 0:04:28\r\u001b[K    2% |█                               | 5.9MB 607kB/s eta 0:05:42\r\u001b[K    2% |█                               | 6.0MB 603kB/s eta 0:05:44"
     ]
    },
    {
     "name": "stdout",
     "output_type": "stream",
     "text": [
      "\r\u001b[K    2% |█                               | 6.0MB 615kB/s eta 0:05:38\r\u001b[K    2% |█                               | 6.0MB 630kB/s eta 0:05:30\r\u001b[K    2% |█                               | 6.0MB 642kB/s eta 0:05:23\r\u001b[K    2% |█                               | 6.0MB 645kB/s eta 0:05:22\r\u001b[K    2% |█                               | 6.0MB 668kB/s eta 0:05:11\r\u001b[K    2% |█                               | 6.0MB 673kB/s eta 0:05:08\r\u001b[K    2% |█                               | 6.0MB 1.8MB/s eta 0:01:57"
     ]
    },
    {
     "name": "stdout",
     "output_type": "stream",
     "text": [
      "\r\u001b[K    2% |█                               | 6.0MB 186kB/s eta 0:18:30\r\u001b[K    2% |█                               | 6.1MB 200kB/s eta 0:17:13\r\u001b[K    2% |█                               | 6.1MB 201kB/s eta 0:17:08\r\u001b[K    2% |█                               | 6.1MB 202kB/s eta 0:17:04\r\u001b[K    2% |█                               | 6.1MB 203kB/s eta 0:17:01\r\u001b[K    2% |█                               | 6.1MB 203kB/s eta 0:16:59\r\u001b[K    2% |█                               | 6.1MB 204kB/s eta 0:16:56\r\u001b[K    2% |█                               | 6.1MB 205kB/s eta 0:16:49\r\u001b[K    2% |█                               | 6.1MB 206kB/s eta 0:16:46\r\u001b[K    2% |█                               | 6.1MB 206kB/s eta 0:16:43\r\u001b[K    2% |█                               | 6.1MB 49.2MB/s eta 0:00:05\r\u001b[K    2% |█                               | 6.2MB 54.5MB/s eta 0:00:04\r\u001b[K    2% |█                               | 6.2MB 55.7MB/s eta 0:00:04\r\u001b[K    2% |█                               | 6.2MB 57.4MB/s eta 0:00:04\r\u001b[K    2% |█                               | 6.2MB 59.3MB/s eta 0:00:04\r\u001b[K    2% |█                               | 6.2MB 2.4MB/s eta 0:01:27"
     ]
    },
    {
     "name": "stdout",
     "output_type": "stream",
     "text": [
      "\r\u001b[K    2% |█                               | 6.2MB 2.1MB/s eta 0:01:38\r\u001b[K    2% |█                               | 6.2MB 1.9MB/s eta 0:01:52\r\u001b[K    2% |█                               | 6.2MB 1.7MB/s eta 0:02:02\r\u001b[K    2% |█                               | 6.2MB 1.6MB/s eta 0:02:06\r\u001b[K    2% |█                               | 6.2MB 1.5MB/s eta 0:02:17\r\u001b[K    2% |█                               | 6.3MB 1.2MB/s eta 0:02:55"
     ]
    },
    {
     "name": "stdout",
     "output_type": "stream",
     "text": [
      "\r\u001b[K    2% |█                               | 6.3MB 554kB/s eta 0:06:14\r\u001b[K    2% |█                               | 6.3MB 548kB/s eta 0:06:18"
     ]
    },
    {
     "name": "stdout",
     "output_type": "stream",
     "text": [
      "\r\u001b[K    2% |█                               | 6.3MB 449kB/s eta 0:07:41\r\u001b[K    2% |█                               | 6.3MB 536kB/s eta 0:06:27\r\u001b[K    2% |█                               | 6.3MB 533kB/s eta 0:06:29\r\u001b[K    2% |█                               | 6.3MB 546kB/s eta 0:06:20\r\u001b[K    2% |█                               | 6.3MB 551kB/s eta 0:06:16\r\u001b[K    2% |█                               | 6.3MB 554kB/s eta 0:06:14\r\u001b[K    2% |█                               | 6.3MB 568kB/s eta 0:06:05\r\u001b[K    2% |█                               | 6.4MB 631kB/s eta 0:05:28\r\u001b[K    2% |█                               | 6.4MB 1.6MB/s eta 0:02:10\r\u001b[K    2% |█                               | 6.4MB 1.5MB/s eta 0:02:15"
     ]
    },
    {
     "name": "stdout",
     "output_type": "stream",
     "text": [
      "\r\u001b[K    2% |█                               | 6.4MB 2.4MB/s eta 0:01:26"
     ]
    },
    {
     "name": "stdout",
     "output_type": "stream",
     "text": [
      "\r\u001b[K    2% |█                               | 6.4MB 745kB/s eta 0:04:38\r\u001b[K    3% |█                               | 6.4MB 773kB/s eta 0:04:28\r\u001b[K    3% |█                               | 6.4MB 601kB/s eta 0:05:45\r\u001b[K    3% |█                               | 6.4MB 603kB/s eta 0:05:43"
     ]
    },
    {
     "name": "stdout",
     "output_type": "stream",
     "text": [
      "\r\u001b[K    3% |█                               | 6.4MB 598kB/s eta 0:05:47\r\u001b[K    3% |█                               | 6.5MB 574kB/s eta 0:06:01\r\u001b[K    3% |█                               | 6.5MB 568kB/s eta 0:06:05\r\u001b[K    3% |█                               | 6.5MB 563kB/s eta 0:06:08\r\u001b[K    3% |█                               | 6.5MB 572kB/s eta 0:06:02\r\u001b[K    3% |█                               | 6.5MB 627kB/s eta 0:05:30\r\u001b[K    3% |█                               | 6.5MB 1.6MB/s eta 0:02:11\r\u001b[K    3% |█                               | 6.5MB 1.6MB/s eta 0:02:09"
     ]
    },
    {
     "name": "stdout",
     "output_type": "stream",
     "text": [
      "\r\u001b[K    3% |█                               | 6.5MB 202kB/s eta 0:17:03\r\u001b[K    3% |█                               | 6.5MB 203kB/s eta 0:16:58\r\u001b[K    3% |█                               | 6.5MB 204kB/s eta 0:16:53\r\u001b[K    3% |█                               | 6.6MB 207kB/s eta 0:16:37\r\u001b[K    3% |█                               | 6.6MB 208kB/s eta 0:16:32\r\u001b[K    3% |█                               | 6.6MB 209kB/s eta 0:16:28\r\u001b[K    3% |█                               | 6.6MB 210kB/s eta 0:16:25\r\u001b[K    3% |█                               | 6.6MB 210kB/s eta 0:16:22\r\u001b[K    3% |█                               | 6.6MB 210kB/s eta 0:16:21\r\u001b[K    3% |█                               | 6.6MB 211kB/s eta 0:16:19\r\u001b[K    3% |█                               | 6.6MB 49.8MB/s eta 0:00:05"
     ]
    },
    {
     "name": "stdout",
     "output_type": "stream",
     "text": [
      "\r\u001b[K    3% |█                               | 6.6MB 557kB/s eta 0:06:11\r\u001b[K    3% |█                               | 6.6MB 557kB/s eta 0:06:11\r\u001b[K    3% |█                               | 6.7MB 557kB/s eta 0:06:11\r\u001b[K    3% |█                               | 6.7MB 557kB/s eta 0:06:11\r\u001b[K    3% |█                               | 6.7MB 558kB/s eta 0:06:11\r\u001b[K    3% |█                               | 6.7MB 557kB/s eta 0:06:11\r\u001b[K    3% |█                               | 6.7MB 557kB/s eta 0:06:11\r\u001b[K    3% |█                               | 6.7MB 557kB/s eta 0:06:12\r\u001b[K    3% |█                               | 6.7MB 556kB/s eta 0:06:12\r\u001b[K    3% |█                               | 6.7MB 556kB/s eta 0:06:12\r\u001b[K    3% |█                               | 6.7MB 36.3MB/s eta 0:00:06\r\u001b[K    3% |█                               | 6.7MB 38.7MB/s eta 0:00:06\r\u001b[K    3% |█                               | 6.8MB 38.6MB/s eta 0:00:06\r\u001b[K    3% |█                               | 6.8MB 38.0MB/s eta 0:00:06"
     ]
    },
    {
     "name": "stdout",
     "output_type": "stream",
     "text": [
      "\r\u001b[K    3% |█                               | 6.8MB 2.4MB/s eta 0:01:28\r\u001b[K    3% |█                               | 6.8MB 2.1MB/s eta 0:01:38\r\u001b[K    3% |█                               | 6.8MB 2.0MB/s eta 0:01:45\r\u001b[K    3% |█                               | 6.8MB 1.7MB/s eta 0:02:05"
     ]
    },
    {
     "name": "stdout",
     "output_type": "stream",
     "text": [
      "\r\u001b[K    3% |█                               | 6.8MB 1.2MB/s eta 0:02:51"
     ]
    },
    {
     "name": "stdout",
     "output_type": "stream",
     "text": [
      "\r\u001b[K    3% |█                               | 6.8MB 555kB/s eta 0:06:12\r\u001b[K    3% |█                               | 6.8MB 551kB/s eta 0:06:15"
     ]
    },
    {
     "name": "stdout",
     "output_type": "stream",
     "text": [
      "\r\u001b[K    3% |█                               | 6.9MB 450kB/s eta 0:07:39\r\u001b[K    3% |█                               | 6.9MB 441kB/s eta 0:07:48"
     ]
    },
    {
     "name": "stdout",
     "output_type": "stream",
     "text": [
      "\r\u001b[K    3% |█                               | 6.9MB 425kB/s eta 0:08:06\r\u001b[K    3% |█                               | 6.9MB 498kB/s eta 0:06:55\r\u001b[K    3% |█                               | 6.9MB 455kB/s eta 0:07:33"
     ]
    },
    {
     "name": "stdout",
     "output_type": "stream",
     "text": [
      "\r\u001b[K    3% |█                               | 6.9MB 322kB/s eta 0:10:41\r\u001b[K    3% |█                               | 6.9MB 329kB/s eta 0:10:27"
     ]
    },
    {
     "name": "stdout",
     "output_type": "stream",
     "text": [
      "\r\u001b[K    3% |█                               | 6.9MB 312kB/s eta 0:11:02\r\u001b[K    3% |█                               | 6.9MB 441kB/s eta 0:07:48\r\u001b[K    3% |█                               | 6.9MB 429kB/s eta 0:08:01\r\u001b[K    3% |█                               | 7.0MB 506kB/s eta 0:06:49\r\u001b[K    3% |█                               | 7.0MB 460kB/s eta 0:07:29"
     ]
    },
    {
     "name": "stdout",
     "output_type": "stream",
     "text": [
      "\r\u001b[K    3% |█                               | 7.0MB 330kB/s eta 0:10:26\r\u001b[K    3% |█                               | 7.0MB 331kB/s eta 0:10:22"
     ]
    },
    {
     "name": "stdout",
     "output_type": "stream",
     "text": [
      "\r\u001b[K    3% |█                               | 7.0MB 317kB/s eta 0:10:50\r\u001b[K    3% |█                               | 7.0MB 444kB/s eta 0:07:45\r\u001b[K    3% |█                               | 7.0MB 444kB/s eta 0:07:45\r\u001b[K    3% |█                               | 7.0MB 514kB/s eta 0:06:42"
     ]
    },
    {
     "name": "stdout",
     "output_type": "stream",
     "text": [
      "\r\u001b[K    3% |█                               | 7.0MB 464kB/s eta 0:07:25\r\u001b[K    3% |█                               | 7.0MB 470kB/s eta 0:07:19"
     ]
    },
    {
     "name": "stdout",
     "output_type": "stream",
     "text": [
      "\r\u001b[K    3% |█                               | 7.1MB 331kB/s eta 0:10:22\r\u001b[K    3% |█                               | 7.1MB 358kB/s eta 0:09:36"
     ]
    },
    {
     "name": "stdout",