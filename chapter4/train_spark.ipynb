
{
 "cells": [
  {
   "cell_type": "code",
   "execution_count": 1,
   "metadata": {
    "trusted": true
   },
   "outputs": [
    {
     "data": {
      "text/plain": [
       "VBox()"
      ]
     },
     "metadata": {},
     "output_type": "display_data"
    },
    {
     "name": "stdout",
     "output_type": "stream",
     "text": [
      "Starting Spark application\n"
     ]
    },
    {
     "data": {
      "text/html": [
       "<table>\n<tr><th>ID</th><th>YARN Application ID</th><th>Kind</th><th>State</th><th>Spark UI</th><th>Driver log</th><th>Current session?</th></tr><tr><td>1</td><td>application_1556315839936_0012</td><td>pyspark</td><td>idle</td><td><a target=\"_blank\" href=\"http://ip-172-31-34-78.ec2.internal:20888/proxy/application_1556315839936_0012/\">Link</a></td><td><a target=\"_blank\" href=\"http://ip-172-31-43-14.ec2.internal:8042/node/containerlogs/container_1556315839936_0012_01_000001/livy\">Link</a></td><td>✔</td></tr></table>"
      ],
      "text/plain": [
       "<IPython.core.display.HTML object>"
      ]
     },
     "metadata": {},
     "output_type": "execute_result"
    },
    {
     "name": "stdout",
     "output_type": "stream",
     "text": [
      "SparkSession available as 'spark'.\n"
     ]
    }
   ],
   "source": [
    "s3_train_path = 's3://mastering-ml-aws/chapter4/training-data'"
   ]
  },
  {
   "cell_type": "code",
   "execution_count": 2,
   "metadata": {
    "trusted": true
   },
   "outputs": [
    {
     "data": {
      "text/plain": [
       "VBox()"
      ]
     },
     "metadata": {},
     "output_type": "display_data"
    }
   ],
   "source": [
    "ctr_df = spark.read.json(s3_train_path)\n"
   ]
  },
  {
   "cell_type": "code",
   "execution_count": 3,
   "metadata": {
    "trusted": true
   },
   "outputs": [
    {
     "data": {
      "text/plain": [
       "VBox()"
      ]
     },
     "metadata": {},
     "output_type": "display_data"
    },
    {
     "name": "stdout",
     "output_type": "stream",
     "text": [
      "+-------------+------------+-------------+-------------+------------+-------------+--------------------+-------------+------------+--------------------+---+\n|           c0|          c1|           c2|           c3|          c4|           c5|                  c6|           c7|          c8|                  c9|  l|\n+-------------+------------+-------------+-------------+------------+-------------+--------------------+-------------+------------+--------------------+---+\n|[-1664374510]|[1292560685]| [1963151207]| [-113426919]|[1024827180]|         null|[-1841755489, -20...|  [781804810]| [677061876]|[-2054476127, 128...|  0|\n| [1566608579]|[-248982458]|  [336746857]|[-1629610286]| [244157766]|         null|[-574085389, 1869...| [1065163157]| [332083152]|        [-614983515]|  0|\n| [1935105702]|[1292560685]|[-1389162932]| [-113426919]|  [-8361123]|  [839761088]|                null|[-1708330775]|[1856995055]|[-1954958362, 157...|  0|\n| [1718276659]| [630920017]| [1171414431]| [-113426919]| [640993460]|[-1183679474]|[-833071846, 1997...|  [680566046]|[-681791195]|[-813776566, 1925...|  1|\n| [1562430026]| [630920017]| [1639152385]| [1781226914]|[1493440023]|         null|[-2043098156, -95...|  [324520841]| [873551722]|         [980231370]|  0|\n+-------------+------------+-------------+-------------+------------+-------------+--------------------+-------------+------------+--------------------+---+\nonly showing top 5 rows"
     ]
    }
   ],
   "source": [
    "ctr_df.show(5)"
   ]
  },
  {
   "cell_type": "code",
   "execution_count": 4,
   "metadata": {
    "trusted": true
   },
   "outputs": [
    {
     "data": {
      "text/plain": [
       "VBox()"
      ]
     },
     "metadata": {},
     "output_type": "display_data"
    }
   ],
   "source": [
    "df = ctr_df.selectExpr(\"coalesce(c0[0],0) as f0\",\n",
    "                       \"coalesce(c1[0],0) as f1\",\n",
    "                       \"coalesce(c2[0],0) as f2\",\n",
    "                       \"coalesce(c3[0],0) as f3\",\n",
    "                       \"coalesce(c4[0],0) as f4\",\n",
    "                       \"l as click\")"
   ]
  },
  {
   "cell_type": "code",
   "execution_count": 5,
   "metadata": {
    "trusted": true
   },
   "outputs": [
    {
     "data": {
      "text/plain": [
       "VBox()"
      ]
     },
     "metadata": {},
     "output_type": "display_data"
    },
    {
     "name": "stdout",
     "output_type": "stream",
     "text": [
      "+-----------+----------+-----------+-----------+----------+-----+\n|         f0|        f1|         f2|         f3|        f4|click|\n+-----------+----------+-----------+-----------+----------+-----+\n|-1664374510|1292560685| 1963151207| -113426919|1024827180|    0|\n| 1566608579|-248982458|  336746857|-1629610286| 244157766|    0|\n| 1935105702|1292560685|-1389162932| -113426919|  -8361123|    0|\n| 1718276659| 630920017| 1171414431| -113426919| 640993460|    1|\n| 1562430026| 630920017| 1639152385| 1781226914|1493440023|    0|\n+-----------+----------+-----------+-----------+----------+-----+\nonly showing top 5 rows"
     ]
    }
   ],
   "source": [
    "df.show(5)"
   ]
  },
  {
   "cell_type": "code",
   "execution_count": 6,
   "metadata": {
    "trusted": true
   },
   "outputs": [
    {
     "data": {
      "text/plain": [
       "VBox()"
      ]
     },
     "metadata": {},
     "output_type": "display_data"
    }
   ],
   "source": [
    "df = df.repartition(100).cache()\n"
   ]
  },
  {
   "cell_type": "code",
   "execution_count": 7,
   "metadata": {
    "trusted": true
   },
   "outputs": [
    {
     "data": {
      "text/plain": [
       "VBox()"
      ]
     },
     "metadata": {},
     "output_type": "display_data"
    },
    {
     "name": "stdout",
     "output_type": "stream",
     "text": [
      "+-------+--------------------+--------------------+--------------------+-------------------+--------------------+-------------------+\n|summary|                  f0|                  f1|                  f2|                 f3|                  f4|              click|\n+-------+--------------------+--------------------+--------------------+-------------------+--------------------+-------------------+\n|  count|            12000000|            12000000|            12000000|           12000000|            12000000|           12000000|\n|   mean|-6.610412663970825E7|2.5049429668800482E8|-2.915904354482062E8|5.459869260236725E7|-6.716129061083934E7|         0.18310175|\n| stddev|1.2294656059145813E9| 1.287445524252859E9|1.2580392622053525E9|8.234483651283175E8|1.2429134469135067E9|0.38674993421016063|\n|    min|         -2145952914|         -2125813709|         -2145112401|        -2134594413|         -2147400218|                  0|\n|    max|          2146734164|          2136145316|          2145529900|         2102865870|          2147086554|                  1|\n+-------+--------------------+--------------------+--------------------+-------------------+--------------------+-------------------+"
     ]
    }
   ],
   "source": [
    "df.describe().show()"
   ]
  },
  {
   "cell_type": "code",
   "execution_count": 8,
   "metadata": {
    "trusted": true
   },
   "outputs": [
    {
     "data": {
      "text/plain": [
       "VBox()"
      ]
     },
     "metadata": {},
     "output_type": "display_data"
    },
    {
     "name": "stdout",
     "output_type": "stream",
     "text": [
      "2497"
     ]
    }
   ],
   "source": [
    "df.select(\"f0\").distinct().count()"
   ]
  },
  {
   "cell_type": "code",
   "execution_count": 9,
   "metadata": {
    "trusted": true
   },
   "outputs": [
    {
     "data": {
      "text/plain": [
       "VBox()"
      ]
     },
     "metadata": {},
     "output_type": "display_data"
    },
    {
     "name": "stdout",
     "output_type": "stream",
     "text": [
      "178"
     ]
    }
   ],
   "source": [
    "df.select(\"f1\").distinct().count()"
   ]
  },
  {
   "cell_type": "code",
   "execution_count": 10,
   "metadata": {
    "trusted": true
   },
   "outputs": [
    {
     "data": {
      "text/plain": [
       "VBox()"
      ]
     },
     "metadata": {},
     "output_type": "display_data"
    },
    {
     "name": "stdout",
     "output_type": "stream",
     "text": [
      "68"
     ]
    }
   ],
   "source": [
    "df.select(\"f3\").distinct().count()"
   ]
  },
  {
   "cell_type": "code",
   "execution_count": 11,
   "metadata": {
    "trusted": true
   },
   "outputs": [
    {
     "data": {
      "text/plain": [
       "VBox()"
      ]
     },
     "metadata": {},
     "output_type": "display_data"
    },
    {
     "name": "stdout",
     "output_type": "stream",
     "text": [
      "17572"
     ]
    }
   ],
   "source": [
    "df.select(\"f4\").distinct().count()"
   ]
  },
  {
   "cell_type": "code",
   "execution_count": 12,
   "metadata": {
    "trusted": true
   },
   "outputs": [
    {
     "data": {
      "text/plain": [
       "VBox()"
      ]
     },
     "metadata": {},
     "output_type": "display_data"
    },
    {
     "name": "stdout",
     "output_type": "stream",
     "text": [
      "+-----------+--------+\n|         f0|f0_index|\n+-----------+--------+\n| -130745722|   178.0|\n|-1322326169|     0.0|\n| -130745722|   178.0|\n|-1248885727|     8.0|\n|  571589560|   877.0|\n+-----------+--------+\nonly showing top 5 rows"
     ]
    }
   ],
   "source": [
    "from pyspark.ml.feature import StringIndexer\n",
    "\n",
    "string_indexer = StringIndexer(inputCol=\"f0\", outputCol=\"f0_index\")\n",
    "string_indexer_model = string_indexer.fit(df)\n",
    "ctr_df_indexed = string_indexer_model.transform(df).select('f0','f0_index')\n",
    "ctr_df_indexed.show(5)"
   ]
  },
  {
   "cell_type": "code",
   "execution_count": 13,
   "metadata": {
    "trusted": true
   },
   "outputs": [
    {
     "data": {
      "text/plain": [
       "VBox()"
      ]
     },
     "metadata": {},
     "output_type": "display_data"
    },
    {
     "name": "stdout",
     "output_type": "stream",
     "text": [
      "+-----------+--------+-------------------+\n|         f0|f0_index|         f0_encoded|\n+-----------+--------+-------------------+\n|-1910840705|   118.0| (2496,[118],[1.0])|\n|-1713169383|   242.0| (2496,[242],[1.0])|\n| 1590237751|  1216.0|(2496,[1216],[1.0])|\n|-1156005499|   337.0| (2496,[337],[1.0])|\n| 1707433888|   388.0| (2496,[388],[1.0])|\n+-----------+--------+-------------------+\nonly showing top 5 rows"
     ]
    }
   ],
   "source": [
    "from pyspark.ml.feature import OneHotEncoder\n",
    "\n",
    "encoder = OneHotEncoder(inputCol=\"f0_index\", outputCol=\"f0_encoded\")\n",
    "encoder.transform(ctr_df_indexed).distinct().show(5)"
   ]
  },
  {
   "cell_type": "code",
   "execution_count": 14,
   "metadata": {
    "trusted": true
   },
   "outputs": [
    {
     "data": {
      "text/plain": [
       "VBox()"
      ]
     },
     "metadata": {},
     "output_type": "display_data"
    }
   ],
   "source": [
    "from pyspark.ml.feature import OneHotEncoder\n",
    "from pyspark.ml.feature import StringIndexer\n",
    "from pyspark.ml.feature import ChiSqSelector\n",
    "\n",
    "def categorical_one_hot_encoding_stages(columns):\n",
    "    indexers = [StringIndexer(inputCol=column, outputCol=column + \"_index\", handleInvalid='keep') for column in columns]\n",
    "    encoders = [OneHotEncoder(inputCol=column + \"_index\", outputCol=column + \"_encoded\") for column in columns]\n",
    "    return indexers + encoders\n",
    "\n",
    "from pyspark.ml import Pipeline\n",
    "from pyspark.ml.feature import VectorAssembler\n",
    "from pyspark.ml.classification import DecisionTreeClassifier\n",
    "\n",
    "categorical_columns = ['f0','f1','f2','f3','f4']\n",
    "encoded_columns = [column + '_encoded' for column in categorical_columns] \n",
    "\n",
    "categorical_stages = categorical_one_hot_encoding_stages(categorical_columns)\n",
    "vector_assembler = VectorAssembler(inputCols=encoded_columns, outputCol=\"features\")\n",
    "selector = ChiSqSelector(numTopFeatures=100, featuresCol=\"features\",\n",
    "                         outputCol=\"selected_features\", labelCol=\"click\")\n",
    "decision_tree = DecisionTreeClassifier(labelCol=\"click\", featuresCol=\"selected_features\")\n",
    "\n",
    "pipeline = Pipeline(stages=categorical_stages + [vector_assembler, selector, decision_tree])"
   ]
  },
  {
   "cell_type": "code",
   "execution_count": 15,
   "metadata": {
    "trusted": true
   },
   "outputs": [
    {
     "data": {
      "text/plain": [
       "VBox()"
      ]
     },
     "metadata": {},
     "output_type": "display_data"
    }
   ],
   "source": [
    "train_df, test_df = df.randomSplit([0.8, 0.2], seed=17)\n"
   ]
  },
  {
   "cell_type": "code",
   "execution_count": 16,
   "metadata": {
    "trusted": true
   },
   "outputs": [
    {
     "data": {
      "text/plain": [
       "VBox()"
      ]
     },
     "metadata": {},
     "output_type": "display_data"
    }
   ],
   "source": [
    "train_df = train_df.repartition(100).cache()\n"
   ]
  },
  {
   "cell_type": "code",
   "execution_count": 17,
   "metadata": {
    "trusted": true
   },
   "outputs": [
    {
     "data": {
      "text/plain": [
       "VBox()"
      ]
     },
     "metadata": {},
     "output_type": "display_data"
    }
   ],
   "source": [
    "pipeline_model = pipeline.fit(train_df)"
   ]
  },
  {
   "cell_type": "code",
   "execution_count": 18,
   "metadata": {
    "trusted": true
   },
   "outputs": [
    {
     "data": {
      "text/plain": [
       "VBox()"
      ]
     },
     "metadata": {},
     "output_type": "display_data"
    },
    {
     "name": "stdout",
     "output_type": "stream",
     "text": [
      "DecisionTreeClassificationModel (uid=DecisionTreeClassifier_3cc3252e8007) of depth 5 with 11 nodes\n  If (feature 3 in {1.0})\n   Predict: 1.0\n  Else (feature 3 not in {1.0})\n   If (feature 21 in {1.0})\n    Predict: 1.0\n   Else (feature 21 not in {1.0})\n    If (feature 91 in {1.0})\n     Predict: 1.0\n    Else (feature 91 not in {1.0})\n     If (feature 27 in {1.0})\n      Predict: 1.0\n     Else (feature 27 not in {1.0})\n      If (feature 29 in {1.0})\n       Predict: 1.0\n      Else (feature 29 not in {1.0})\n       Predict: 0.0"
     ]
    }
   ],
   "source": [
    "print(pipeline_model.stages[-1].toDebugString)"
   ]
  },
  {
   "cell_type": "code",
   "execution_count": 19,
   "metadata": {
    "trusted": true
   },
   "outputs": [
    {
     "data": {
      "text/plain": [
       "VBox()"
      ]
     },
     "metadata": {},
     "output_type": "display_data"
    },
    {
     "name": "stdout",
     "output_type": "stream",
     "text": [
      "PipelineModel_3c22c4c494ac"
     ]
    }
   ],
   "source": [
    "pipeline_model"
   ]
  },
  {
   "cell_type": "code",
   "execution_count": 20,
   "metadata": {
    "trusted": true
   },
   "outputs": [
    {
     "data": {
      "text/plain": [
       "VBox()"
      ]
     },
     "metadata": {},
     "output_type": "display_data"
    }
   ],
   "source": [
    "pipeline_model.save(\"s3://mastering-ml-aws/chapter4/pipeline-model\")\n"
   ]
  },
  {
   "cell_type": "code",
   "execution_count": 21,
   "metadata": {
    "trusted": true
   },
   "outputs": [
    {
     "data": {
      "text/plain": [
       "VBox()"
      ]
     },
     "metadata": {},
     "output_type": "display_data"
    }
   ],
   "source": [
    "test_transformed = pipeline_model.transform(test_df)\n",
    "test_transformed.write.parquet(\"s3://mastering-ml-aws/chapter4/chi-test-tranformed/\")"
   ]
  },
  {
   "cell_type": "code",
   "execution_count": 22,
   "metadata": {
    "trusted": true
   },
   "outputs": [
    {
     "data": {
      "text/plain": [
       "VBox()"
      ]
     },
     "metadata": {},
     "output_type": "display_data"
    },
    {
     "name": "stdout",
     "output_type": "stream",
     "text": [
      "0.43916919878650384"
     ]
    }
   ],
   "source": [
    "from pyspark.ml.evaluation import BinaryClassificationEvaluator\n",
    "\n",
    "evaluator = BinaryClassificationEvaluator(rawPredictionCol=\"rawPrediction\", labelCol=\"click\")\n",
    "evaluator.evaluate(pipeline_model.transform(test_df, {evaluator.metricName: \"areaUnderROC\"}))"
   ]
  },
  {
   "cell_type": "code",
   "execution_count": 23,
   "metadata": {
    "trusted": true
   },
   "outputs": [
    {
     "data": {
      "text/plain": [
       "VBox()"
      ]
     },
     "metadata": {},
     "output_type": "display_data"
    }
   ],
   "source": [
    "train_transformed = pipeline_model.transform(train_df)\n"
   ]
  },
  {
   "cell_type": "code",
   "execution_count": 26,
   "metadata": {
    "trusted": true
   },
   "outputs": [
    {
     "data": {
      "text/plain": [
       "VBox()"
      ]
     },
     "metadata": {},
     "output_type": "display_data"
    }
   ],
   "source": [
    "train_transformed.select([\"click\"] + encoded_columns).write.parquet('s3://mastering-ml-aws/chapter4/train-trans-vector/')\n"
   ]
  },
  {
   "cell_type": "code",
   "execution_count": 27,
   "metadata": {
    "trusted": true
   },
   "outputs": [
    {
     "data": {
      "text/plain": [
       "VBox()"
      ]
     },
     "metadata": {},
     "output_type": "display_data"
    },
    {
     "name": "stdout",
     "output_type": "stream",
     "text": [
      "+-----+-----------------+\n|click|selected_features|\n+-----+-----------------+\n|    0| (100,[76],[1.0])|\n|    1|      (100,[],[])|\n|    0| (100,[33],[1.0])|\n|    0|      (100,[],[])|\n|    0|  (100,[5],[1.0])|\n+-----+-----------------+\nonly showing top 5 rows"
     ]
    }
   ],
   "source": [
    "train_transformed.select(\"click\", \"selected_features\").show(5)\n"
   ]
  },
  {
   "cell_type": "code",
   "execution_count": 35,
   "metadata": {
    "trusted": true
   },
   "outputs": [
    {
     "data": {
      "text/plain": [
       "VBox()"
      ]
     },
     "metadata": {},
     "output_type": "display_data"
    }
   ],
   "source": [
    "def deconstruct_vector(row):\n",
    "    arr = row['selected_features'].toArray()\n",
    "    return tuple([row['click']] + arr.tolist())\n",
    "\n",
    "df_for_csv = train_transformed.select(\"click\", \"selected_features\") \\\n",
    "                .rdd.map(deconstruct_vector).toDF() \n",
    "df_for_csv.write.csv('s3://mastering-ml-aws/chapter4/train-trans-vec-csv-1/', \n",
    "                     header=False)"
   ]
  },
  {
   "cell_type": "code",
   "execution_count": 36,
   "metadata": {
    "trusted": true
   },
   "outputs": [
    {
     "data": {
      "text/plain": [
       "VBox()"
      ]
     },
     "metadata": {},
     "output_type": "display_data"
    }
   ],
   "source": [
    "df_for_csv = test_transformed.select(\"click\", \"selected_features\").rdd.map(deconstruct_vector).toDF()\n",
    "df_for_csv.write.csv('s3://mastering-ml-aws/chapter4/test-trans-vec-csv-1/', header=False)"
   ]
  },
  {
   "cell_type": "code",
   "execution_count": 39,
   "metadata": {
    "trusted": true
   },
   "outputs": [
    {
     "data": {
      "text/plain": [
       "VBox()"
      ]
     },
     "metadata": {},
     "output_type": "display_data"
    }
   ],
   "source": [
    "def deconstruct_vector_no_label(row):\n",
    "    arr = row['selected_features'].toArray()\n",
    "    return tuple(arr.tolist())\n",
    "\n",
    "df_for_csv = test_transformed.select(\"selected_features\") \\\n",
    "                             .rdd.map(deconstruct_vector_no_label) \\\n",
    "                             .toDF().repartition(100)\n",
    "df_for_csv.write.csv('s3://mastering-ml-aws/chapter4/test-trans-vec-csv-no-label/', \n",
    "                     header=False)"
   ]
  },
  {
   "cell_type": "code",
   "execution_count": 40,
   "metadata": {
    "trusted": true,
    "scrolled": false
   },
   "outputs": [
    {
     "data": {
      "text/plain": [
       "VBox()"
      ]
     },
     "metadata": {},
     "output_type": "display_data"
    },
    {
     "name": "stdout",
     "output_type": "stream",
     "text": [
      "+-----------+----------+-----------+----------+-----------+-----+--------+--------+--------+--------+--------+------------------+---------------+----------------+--------------+-------------------+--------------------+-----------------+--------------------+--------------------+----------+\n|         f0|        f1|         f2|        f3|         f4|click|f0_index|f1_index|f2_index|f3_index|f4_index|        f0_encoded|     f1_encoded|      f2_encoded|    f3_encoded|         f4_encoded|            features|selected_features|       rawPrediction|         probability|prediction|\n+-----------+----------+-----------+----------+-----------+-----+--------+--------+--------+--------+--------+------------------+---------------+----------------+--------------+-------------------+--------------------+-----------------+--------------------+--------------------+----------+\n| 1981225511| 630920017| 1639152385|1781226914| -446231114|    0|    83.0|     1.0|     2.0|     2.0|   129.0| (2492,[83],[1.0])|(175,[1],[1.0])| (376,[2],[1.0])|(68,[2],[1.0])|(17418,[129],[1.0])|(20529,[83,2493,2...| (100,[76],[1.0])|[7716946.0,151954...|[0.83548478215044...|       0.0|\n|-1424711672|2060859103|-2081862133|-113426919| -259494052|    1|   688.0|     9.0|     5.0|     1.0|   968.0|(2492,[688],[1.0])|(175,[9],[1.0])| (376,[5],[1.0])|(68,[1],[1.0])|(17418,[968],[1.0])|(20529,[688,2501,...|      (100,[],[])|[7716946.0,151954...|[0.83548478215044...|       0.0|\n| -981878626|2000378252|-1559022971|         0|-1199906787|    0|    33.0|     0.0|    72.0|     0.0|    17.0| (2492,[33],[1.0])|(175,[0],[1.0])|(376,[72],[1.0])|(68,[0],[1.0])| (17418,[17],[1.0])|(20529,[33,2492,2...| (100,[33],[1.0])|[7716946.0,151954...|[0.83548478215044...|       0.0|\n|-1517925601| 630920017|  833272383|-113426919| 2132433895|    0|   250.0|     1.0|    71.0|     1.0|   442.0|(2492,[250],[1.0])|(175,[1],[1.0])|(376,[71],[1.0])|(68,[1],[1.0])|(17418,[442],[1.0])|(20529,[250,2493,...|      (100,[],[])|[7716946.0,151954...|[0.83548478215044...|       0.0|\n| -169383073| 630920017| -327095155| 245656691| 2049606061|    0|     5.0|     1.0|     4.0|     9.0|   260.0|  (2492,[5],[1.0])|(175,[1],[1.0])| (376,[4],[1.0])|(68,[9],[1.0])|(17418,[260],[1.0])|(20529,[5,2493,26...|  (100,[5],[1.0])|[7716946.0,151954...|[0.83548478215044...|       0.0|\n+-----------+----------+-----------+----------+-----------+-----+--------+--------+--------+--------+--------+------------------+---------------+----------------+--------------+-------------------+--------------------+-----------------+--------------------+--------------------+----------+\nonly showing top 5 rows"
     ]
    }
   ],
   "source": [
    "train_transformed.show(5)"
   ]
  },
  {
   "cell_type": "code",
   "execution_count": 46,
   "metadata": {
    "trusted": true
   },
   "outputs": [
    {
     "data": {
      "text/plain": [
       "VBox()"
      ]
     },
     "metadata": {},
     "output_type": "display_data"
    },
    {
     "name": "stdout",
     "output_type": "stream",
     "text": [
      "+-----------+---------+-----------+-----------+-----------+-----+--------+--------+--------+--------+--------+-------------------+----------------+---------------+--------------+--------------------+--------------------+-----------------+--------------------+--------------------+----------+\n|         f0|       f1|         f2|         f3|         f4|click|f0_index|f1_index|f2_index|f3_index|f4_index|         f0_encoded|      f1_encoded|     f2_encoded|    f3_encoded|          f4_encoded|            features|selected_features|       rawPrediction|         probability|prediction|\n+-----------+---------+-----------+-----------+-----------+-----+--------+--------+--------+--------+--------+-------------------+----------------+---------------+--------------+--------------------+--------------------+-----------------+--------------------+--------------------+----------+\n|-2139870058|856005849|-1389162932|-1064630401|-1061368695|    0|   840.0|     2.0|     0.0|     4.0|  1260.0| (2492,[840],[1.0])| (175,[2],[1.0])|(376,[0],[1.0])|(68,[4],[1.0])|(17418,[1260],[1.0])|(20529,[840,2494,...|      (100,[],[])|[7716946.0,151954...|[0.83548478215044...|       0.0|\n|-2139870058|856005849| 1639152385|          0|-1061368695|    0|   840.0|     2.0|     2.0|     0.0|  1260.0| (2492,[840],[1.0])| (175,[2],[1.0])|(376,[2],[1.0])|(68,[0],[1.0])|(17418,[1260],[1.0])|(20529,[840,2494,...|      (100,[],[])|[7716946.0,151954...|[0.83548478215044...|       0.0|\n|-2139481879|977353261|-1389162932| -113426919| 1933698925|    0|  1744.0|    41.0|     0.0|     1.0|  7911.0|(2492,[1744],[1.0])|(175,[41],[1.0])|(376,[0],[1.0])|(68,[1],[1.0])|(17418,[7911],[1.0])|(20529,[1744,2533...|      (100,[],[])|[7716946.0,151954...|[0.83548478215044...|       0.0|\n|-2134808437|585482842|-2081862133| -113426919|-1697911334|    0|   241.0|    15.0|     5.0|     1.0|   213.0| (2492,[241],[1.0])|(175,[15],[1.0])|(376,[5],[1.0])|(68,[1],[1.0])| (17418,[213],[1.0])|(20529,[241,2507,...|      (100,[],[])|[7716946.0,151954...|[0.83548478215044...|       0.0|\n|-2134808437|585482842|-2081862133|          0|-1697911334|    0|   241.0|    15.0|     5.0|     0.0|   213.0| (2492,[241],[1.0])|(175,[15],[1.0])|(376,[5],[1.0])|(68,[0],[1.0])| (17418,[213],[1.0])|(20529,[241,2507,...|      (100,[],[])|[7716946.0,151954...|[0.83548478215044...|       0.0|\n+-----------+---------+-----------+-----------+-----------+-----+--------+--------+--------+--------+--------+-------------------+----------------+---------------+--------------+--------------------+--------------------+-----------------+--------------------+--------------------+----------+\nonly showing top 5 rows"
     ]
    }
   ],
   "source": [
    "test_transformed.show(5)"
   ]
  },
  {
   "cell_type": "code",
   "execution_count": 42,
   "metadata": {
    "trusted": true
   },
   "outputs": [
    {
     "data": {
      "text/plain": [
       "VBox()"
      ]
     },
     "metadata": {},
     "output_type": "display_data"
    }
   ],
   "source": [
    "from pyspark.ml.classification import RandomForestClassifier\n",
    "   \n",
    "random_forest = RandomForestClassifier(labelCol=\"click\",\n",
    "                                       featuresCol=\"selected_features\")\n",
    "rf_model = random_forest.fit(train_transformed.select(\"selected_features\",\"click\"))\n"
   ]
  },
  {
   "cell_type": "code",
   "execution_count": 45,
   "metadata": {
    "trusted": true
   },
   "outputs": [
    {
     "data": {
      "text/plain": [
       "VBox()"
      ]
     },
     "metadata": {},
     "output_type": "display_data"
    },
    {
     "name": "stdout",
     "output_type": "stream",
     "text": [
      "0.6204587882483235"
     ]
    }
   ],
   "source": [
    "rf_evaluator = BinaryClassificationEvaluator(rawPredictionCol=\"rawPrediction\", labelCol=\"click\")\n",
    "rf_evaluator.evaluate(rf_model.transform(test_transformed.select(\"selected_features\",\"click\"), \n",
    "                                         {evaluator.metricName: \"areaUnderROC\"}))"
   ]
  },
  {
   "cell_type": "code",
   "execution_count": null,
   "metadata": {
    "trusted": true
   },
   "outputs": [],
   "source": [
    ""
   ]
  }
 ],
 "metadata": {
  "kernelspec": {
   "name": "pysparkkernel",
   "display_name": "PySpark",
   "language": ""
  },
  "language_info": {
   "name": "pyspark",
   "mimetype": "text/x-python",
   "codemirror_mode": {
    "name": "python",
    "version": 2
   },
   "pygments_lexer": "python2"
  }
 },
 "nbformat": 4,
 "nbformat_minor": 2
}